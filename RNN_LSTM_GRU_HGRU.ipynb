{
 "cells": [
  {
   "cell_type": "code",
   "execution_count": 1,
   "id": "46fc89b6",
   "metadata": {
    "_cell_guid": "b1076dfc-b9ad-4769-8c92-a6c4dae69d19",
    "_uuid": "8f2839f25d086af736a60e9eeb907d3b93b6e0e5",
    "execution": {
     "iopub.execute_input": "2024-11-11T23:55:28.593020Z",
     "iopub.status.busy": "2024-11-11T23:55:28.592683Z",
     "iopub.status.idle": "2024-11-11T23:55:29.328064Z",
     "shell.execute_reply": "2024-11-11T23:55:29.326898Z"
    },
    "papermill": {
     "duration": 0.768646,
     "end_time": "2024-11-11T23:55:29.330120",
     "exception": false,
     "start_time": "2024-11-11T23:55:28.561474",
     "status": "completed"
    },
    "tags": []
   },
   "outputs": [
    {
     "name": "stdout",
     "output_type": "stream",
     "text": [
      "/kaggle/input/imdb-dataset-of-50k-movie-reviews/IMDB Dataset.csv\n"
     ]
    }
   ],
   "source": [
    "# This Python 3 environment comes with many helpful analytics libraries installed\n",
    "# It is defined by the kaggle/python Docker image: https://github.com/kaggle/docker-python\n",
    "# For example, here's several helpful packages to load\n",
    "\n",
    "import numpy as np # linear algebra\n",
    "import pandas as pd # data processing, CSV file I/O (e.g. pd.read_csv)\n",
    "\n",
    "# Input data files are available in the read-only \"../input/\" directory\n",
    "# For example, running this (by clicking run or pressing Shift+Enter) will list all files under the input directory\n",
    "\n",
    "import os\n",
    "for dirname, _, filenames in os.walk('/kaggle/input'):\n",
    "    for filename in filenames:\n",
    "        print(os.path.join(dirname, filename))\n",
    "\n",
    "# You can write up to 20GB to the current directory (/kaggle/working/) that gets preserved as output when you create a version using \"Save & Run All\" \n",
    "# You can also write temporary files to /kaggle/temp/, but they won't be saved outside of the current session"
   ]
  },
  {
   "cell_type": "markdown",
   "id": "91eab5b6",
   "metadata": {
    "papermill": {
     "duration": 0.03016,
     "end_time": "2024-11-11T23:55:29.391746",
     "exception": false,
     "start_time": "2024-11-11T23:55:29.361586",
     "status": "completed"
    },
    "tags": []
   },
   "source": [
    "## <div style=\"text-align: left; background-color:aliceblue ; font-family: Trebuchet MS; color: black; padding: 15px; line-height:1;border-radius:1px; margin-bottom: 0em; text-align: center; font-size: 25px;border-style: solid;border-color: dark green;\">  Importing Required Libraries </div> "
   ]
  },
  {
   "cell_type": "code",
   "execution_count": 2,
   "id": "671e39a5",
   "metadata": {
    "execution": {
     "iopub.execute_input": "2024-11-11T23:55:29.452600Z",
     "iopub.status.busy": "2024-11-11T23:55:29.452101Z",
     "iopub.status.idle": "2024-11-11T23:55:43.938438Z",
     "shell.execute_reply": "2024-11-11T23:55:43.937493Z"
    },
    "papermill": {
     "duration": 14.519184,
     "end_time": "2024-11-11T23:55:43.940643",
     "exception": false,
     "start_time": "2024-11-11T23:55:29.421459",
     "status": "completed"
    },
    "tags": []
   },
   "outputs": [
    {
     "name": "stdout",
     "output_type": "stream",
     "text": [
      "Collecting contractions\r\n",
      "  Downloading contractions-0.1.73-py2.py3-none-any.whl.metadata (1.2 kB)\r\n",
      "Collecting textsearch>=0.0.21 (from contractions)\r\n",
      "  Downloading textsearch-0.0.24-py2.py3-none-any.whl.metadata (1.2 kB)\r\n",
      "Collecting anyascii (from textsearch>=0.0.21->contractions)\r\n",
      "  Downloading anyascii-0.3.2-py3-none-any.whl.metadata (1.5 kB)\r\n",
      "Collecting pyahocorasick (from textsearch>=0.0.21->contractions)\r\n",
      "  Downloading pyahocorasick-2.1.0-cp310-cp310-manylinux_2_5_x86_64.manylinux1_x86_64.manylinux_2_12_x86_64.manylinux2010_x86_64.whl.metadata (13 kB)\r\n",
      "Downloading contractions-0.1.73-py2.py3-none-any.whl (8.7 kB)\r\n",
      "Downloading textsearch-0.0.24-py2.py3-none-any.whl (7.6 kB)\r\n",
      "Downloading anyascii-0.3.2-py3-none-any.whl (289 kB)\r\n",
      "\u001b[2K   \u001b[90m━━━━━━━━━━━━━━━━━━━━━━━━━━━━━━━━━━━━━━━━\u001b[0m \u001b[32m289.9/289.9 kB\u001b[0m \u001b[31m5.6 MB/s\u001b[0m eta \u001b[36m0:00:00\u001b[0m\r\n",
      "\u001b[?25hDownloading pyahocorasick-2.1.0-cp310-cp310-manylinux_2_5_x86_64.manylinux1_x86_64.manylinux_2_12_x86_64.manylinux2010_x86_64.whl (110 kB)\r\n",
      "\u001b[2K   \u001b[90m━━━━━━━━━━━━━━━━━━━━━━━━━━━━━━━━━━━━━━━━\u001b[0m \u001b[32m110.7/110.7 kB\u001b[0m \u001b[31m9.1 MB/s\u001b[0m eta \u001b[36m0:00:00\u001b[0m\r\n",
      "\u001b[?25hInstalling collected packages: pyahocorasick, anyascii, textsearch, contractions\r\n",
      "Successfully installed anyascii-0.3.2 contractions-0.1.73 pyahocorasick-2.1.0 textsearch-0.0.24\r\n"
     ]
    }
   ],
   "source": [
    "#use to fix to words like isn't to is not\n",
    "!pip install contractions"
   ]
  },
  {
   "cell_type": "code",
   "execution_count": 3,
   "id": "1d846105",
   "metadata": {
    "execution": {
     "iopub.execute_input": "2024-11-11T23:55:44.007053Z",
     "iopub.status.busy": "2024-11-11T23:55:44.006709Z",
     "iopub.status.idle": "2024-11-11T23:55:45.775356Z",
     "shell.execute_reply": "2024-11-11T23:55:45.774463Z"
    },
    "papermill": {
     "duration": 1.804684,
     "end_time": "2024-11-11T23:55:45.777569",
     "exception": false,
     "start_time": "2024-11-11T23:55:43.972885",
     "status": "completed"
    },
    "tags": []
   },
   "outputs": [
    {
     "name": "stdout",
     "output_type": "stream",
     "text": [
      "[nltk_data] Downloading package wordnet to /usr/share/nltk_data...\n",
      "[nltk_data]   Package wordnet is already up-to-date!\n"
     ]
    },
    {
     "data": {
      "text/plain": [
       "True"
      ]
     },
     "execution_count": 3,
     "metadata": {},
     "output_type": "execute_result"
    }
   ],
   "source": [
    "from textblob import Word\n",
    "import nltk\n",
    "nltk.data.path.append(\"/kaggle/working/\")\n",
    "nltk.download('wordnet')"
   ]
  },
  {
   "cell_type": "code",
   "execution_count": 4,
   "id": "d95f188c",
   "metadata": {
    "execution": {
     "iopub.execute_input": "2024-11-11T23:55:45.844226Z",
     "iopub.status.busy": "2024-11-11T23:55:45.843454Z",
     "iopub.status.idle": "2024-11-11T23:56:50.885323Z",
     "shell.execute_reply": "2024-11-11T23:56:50.884021Z"
    },
    "papermill": {
     "duration": 65.078701,
     "end_time": "2024-11-11T23:56:50.887482",
     "exception": false,
     "start_time": "2024-11-11T23:55:45.808781",
     "status": "completed"
    },
    "tags": []
   },
   "outputs": [
    {
     "name": "stdout",
     "output_type": "stream",
     "text": [
      "Requirement already satisfied: tensorflow in /opt/conda/lib/python3.10/site-packages (2.15.0)\r\n",
      "Collecting tensorflow\r\n",
      "  Downloading tensorflow-2.18.0-cp310-cp310-manylinux_2_17_x86_64.manylinux2014_x86_64.whl.metadata (4.1 kB)\r\n",
      "Requirement already satisfied: absl-py>=1.0.0 in /opt/conda/lib/python3.10/site-packages (from tensorflow) (1.4.0)\r\n",
      "Requirement already satisfied: astunparse>=1.6.0 in /opt/conda/lib/python3.10/site-packages (from tensorflow) (1.6.3)\r\n",
      "Collecting flatbuffers>=24.3.25 (from tensorflow)\r\n",
      "  Downloading flatbuffers-24.3.25-py2.py3-none-any.whl.metadata (850 bytes)\r\n",
      "Requirement already satisfied: gast!=0.5.0,!=0.5.1,!=0.5.2,>=0.2.1 in /opt/conda/lib/python3.10/site-packages (from tensorflow) (0.5.4)\r\n",
      "Requirement already satisfied: google-pasta>=0.1.1 in /opt/conda/lib/python3.10/site-packages (from tensorflow) (0.2.0)\r\n",
      "Requirement already satisfied: libclang>=13.0.0 in /opt/conda/lib/python3.10/site-packages (from tensorflow) (16.0.6)\r\n",
      "Requirement already satisfied: opt-einsum>=2.3.2 in /opt/conda/lib/python3.10/site-packages (from tensorflow) (3.3.0)\r\n",
      "Requirement already satisfied: packaging in /opt/conda/lib/python3.10/site-packages (from tensorflow) (21.3)\r\n",
      "Requirement already satisfied: protobuf!=4.21.0,!=4.21.1,!=4.21.2,!=4.21.3,!=4.21.4,!=4.21.5,<6.0.0dev,>=3.20.3 in /opt/conda/lib/python3.10/site-packages (from tensorflow) (3.20.3)\r\n",
      "Requirement already satisfied: requests<3,>=2.21.0 in /opt/conda/lib/python3.10/site-packages (from tensorflow) (2.31.0)\r\n",
      "Requirement already satisfied: setuptools in /opt/conda/lib/python3.10/site-packages (from tensorflow) (69.0.3)\r\n",
      "Requirement already satisfied: six>=1.12.0 in /opt/conda/lib/python3.10/site-packages (from tensorflow) (1.16.0)\r\n",
      "Requirement already satisfied: termcolor>=1.1.0 in /opt/conda/lib/python3.10/site-packages (from tensorflow) (2.4.0)\r\n",
      "Requirement already satisfied: typing-extensions>=3.6.6 in /opt/conda/lib/python3.10/site-packages (from tensorflow) (4.9.0)\r\n",
      "Requirement already satisfied: wrapt>=1.11.0 in /opt/conda/lib/python3.10/site-packages (from tensorflow) (1.14.1)\r\n",
      "Requirement already satisfied: grpcio<2.0,>=1.24.3 in /opt/conda/lib/python3.10/site-packages (from tensorflow) (1.51.1)\r\n",
      "Collecting tensorboard<2.19,>=2.18 (from tensorflow)\r\n",
      "  Downloading tensorboard-2.18.0-py3-none-any.whl.metadata (1.6 kB)\r\n",
      "Collecting keras>=3.5.0 (from tensorflow)\r\n",
      "  Downloading keras-3.6.0-py3-none-any.whl.metadata (5.8 kB)\r\n",
      "Requirement already satisfied: numpy<2.1.0,>=1.26.0 in /opt/conda/lib/python3.10/site-packages (from tensorflow) (1.26.4)\r\n",
      "Collecting h5py>=3.11.0 (from tensorflow)\r\n",
      "  Downloading h5py-3.12.1-cp310-cp310-manylinux_2_17_x86_64.manylinux2014_x86_64.whl.metadata (2.5 kB)\r\n",
      "Collecting ml-dtypes<0.5.0,>=0.4.0 (from tensorflow)\r\n",
      "  Downloading ml_dtypes-0.4.1-cp310-cp310-manylinux_2_17_x86_64.manylinux2014_x86_64.whl.metadata (20 kB)\r\n",
      "Requirement already satisfied: tensorflow-io-gcs-filesystem>=0.23.1 in /opt/conda/lib/python3.10/site-packages (from tensorflow) (0.35.0)\r\n",
      "Requirement already satisfied: wheel<1.0,>=0.23.0 in /opt/conda/lib/python3.10/site-packages (from astunparse>=1.6.0->tensorflow) (0.42.0)\r\n",
      "Requirement already satisfied: rich in /opt/conda/lib/python3.10/site-packages (from keras>=3.5.0->tensorflow) (13.7.0)\r\n",
      "Requirement already satisfied: namex in /opt/conda/lib/python3.10/site-packages (from keras>=3.5.0->tensorflow) (0.0.8)\r\n",
      "Requirement already satisfied: optree in /opt/conda/lib/python3.10/site-packages (from keras>=3.5.0->tensorflow) (0.11.0)\r\n",
      "Requirement already satisfied: charset-normalizer<4,>=2 in /opt/conda/lib/python3.10/site-packages (from requests<3,>=2.21.0->tensorflow) (3.3.2)\r\n",
      "Requirement already satisfied: idna<4,>=2.5 in /opt/conda/lib/python3.10/site-packages (from requests<3,>=2.21.0->tensorflow) (3.6)\r\n",
      "Requirement already satisfied: urllib3<3,>=1.21.1 in /opt/conda/lib/python3.10/site-packages (from requests<3,>=2.21.0->tensorflow) (1.26.18)\r\n",
      "Requirement already satisfied: certifi>=2017.4.17 in /opt/conda/lib/python3.10/site-packages (from requests<3,>=2.21.0->tensorflow) (2024.2.2)\r\n",
      "Requirement already satisfied: markdown>=2.6.8 in /opt/conda/lib/python3.10/site-packages (from tensorboard<2.19,>=2.18->tensorflow) (3.5.2)\r\n",
      "Requirement already satisfied: tensorboard-data-server<0.8.0,>=0.7.0 in /opt/conda/lib/python3.10/site-packages (from tensorboard<2.19,>=2.18->tensorflow) (0.7.2)\r\n",
      "Requirement already satisfied: werkzeug>=1.0.1 in /opt/conda/lib/python3.10/site-packages (from tensorboard<2.19,>=2.18->tensorflow) (3.0.2)\r\n",
      "Requirement already satisfied: pyparsing!=3.0.5,>=2.0.2 in /opt/conda/lib/python3.10/site-packages (from packaging->tensorflow) (3.1.1)\r\n",
      "Requirement already satisfied: MarkupSafe>=2.1.1 in /opt/conda/lib/python3.10/site-packages (from werkzeug>=1.0.1->tensorboard<2.19,>=2.18->tensorflow) (2.1.3)\r\n",
      "Requirement already satisfied: markdown-it-py>=2.2.0 in /opt/conda/lib/python3.10/site-packages (from rich->keras>=3.5.0->tensorflow) (3.0.0)\r\n",
      "Requirement already satisfied: pygments<3.0.0,>=2.13.0 in /opt/conda/lib/python3.10/site-packages (from rich->keras>=3.5.0->tensorflow) (2.17.2)\r\n",
      "Requirement already satisfied: mdurl~=0.1 in /opt/conda/lib/python3.10/site-packages (from markdown-it-py>=2.2.0->rich->keras>=3.5.0->tensorflow) (0.1.2)\r\n",
      "Downloading tensorflow-2.18.0-cp310-cp310-manylinux_2_17_x86_64.manylinux2014_x86_64.whl (615.3 MB)\r\n",
      "\u001b[2K   \u001b[90m━━━━━━━━━━━━━━━━━━━━━━━━━━━━━━━━━━━━━━━━\u001b[0m \u001b[32m615.3/615.3 MB\u001b[0m \u001b[31m2.6 MB/s\u001b[0m eta \u001b[36m0:00:00\u001b[0m\r\n",
      "\u001b[?25hDownloading flatbuffers-24.3.25-py2.py3-none-any.whl (26 kB)\r\n",
      "Downloading h5py-3.12.1-cp310-cp310-manylinux_2_17_x86_64.manylinux2014_x86_64.whl (5.3 MB)\r\n",
      "\u001b[2K   \u001b[90m━━━━━━━━━━━━━━━━━━━━━━━━━━━━━━━━━━━━━━━━\u001b[0m \u001b[32m5.3/5.3 MB\u001b[0m \u001b[31m94.3 MB/s\u001b[0m eta \u001b[36m0:00:00\u001b[0m\r\n",
      "\u001b[?25hDownloading keras-3.6.0-py3-none-any.whl (1.2 MB)\r\n",
      "\u001b[2K   \u001b[90m━━━━━━━━━━━━━━━━━━━━━━━━━━━━━━━━━━━━━━━━\u001b[0m \u001b[32m1.2/1.2 MB\u001b[0m \u001b[31m53.9 MB/s\u001b[0m eta \u001b[36m0:00:00\u001b[0m\r\n",
      "\u001b[?25hDownloading ml_dtypes-0.4.1-cp310-cp310-manylinux_2_17_x86_64.manylinux2014_x86_64.whl (2.2 MB)\r\n",
      "\u001b[2K   \u001b[90m━━━━━━━━━━━━━━━━━━━━━━━━━━━━━━━━━━━━━━━━\u001b[0m \u001b[32m2.2/2.2 MB\u001b[0m \u001b[31m70.9 MB/s\u001b[0m eta \u001b[36m0:00:00\u001b[0m\r\n",
      "\u001b[?25hDownloading tensorboard-2.18.0-py3-none-any.whl (5.5 MB)\r\n",
      "\u001b[2K   \u001b[90m━━━━━━━━━━━━━━━━━━━━━━━━━━━━━━━━━━━━━━━━\u001b[0m \u001b[32m5.5/5.5 MB\u001b[0m \u001b[31m97.2 MB/s\u001b[0m eta \u001b[36m0:00:00\u001b[0m\r\n",
      "\u001b[?25hInstalling collected packages: flatbuffers, ml-dtypes, h5py, tensorboard, keras, tensorflow\r\n",
      "  Attempting uninstall: flatbuffers\r\n",
      "    Found existing installation: flatbuffers 23.5.26\r\n",
      "    Uninstalling flatbuffers-23.5.26:\r\n",
      "      Successfully uninstalled flatbuffers-23.5.26\r\n",
      "  Attempting uninstall: ml-dtypes\r\n",
      "    Found existing installation: ml-dtypes 0.2.0\r\n",
      "    Uninstalling ml-dtypes-0.2.0:\r\n",
      "      Successfully uninstalled ml-dtypes-0.2.0\r\n",
      "  Attempting uninstall: h5py\r\n",
      "    Found existing installation: h5py 3.10.0\r\n",
      "    Uninstalling h5py-3.10.0:\r\n",
      "      Successfully uninstalled h5py-3.10.0\r\n",
      "  Attempting uninstall: tensorboard\r\n",
      "    Found existing installation: tensorboard 2.15.1\r\n",
      "    Uninstalling tensorboard-2.15.1:\r\n",
      "      Successfully uninstalled tensorboard-2.15.1\r\n",
      "  Attempting uninstall: keras\r\n",
      "    Found existing installation: keras 3.2.1\r\n",
      "    Uninstalling keras-3.2.1:\r\n",
      "      Successfully uninstalled keras-3.2.1\r\n",
      "  Attempting uninstall: tensorflow\r\n",
      "    Found existing installation: tensorflow 2.15.0\r\n",
      "    Uninstalling tensorflow-2.15.0:\r\n",
      "      Successfully uninstalled tensorflow-2.15.0\r\n",
      "\u001b[31mERROR: pip's dependency resolver does not currently take into account all the packages that are installed. This behaviour is the source of the following dependency conflicts.\r\n",
      "tensorflow-decision-forests 1.8.1 requires wurlitzer, which is not installed.\r\n",
      "tensorflow-decision-forests 1.8.1 requires tensorflow~=2.15.0, but you have tensorflow 2.18.0 which is incompatible.\r\n",
      "tensorflow-text 2.15.0 requires tensorflow<2.16,>=2.15.0; platform_machine != \"arm64\" or platform_system != \"Darwin\", but you have tensorflow 2.18.0 which is incompatible.\r\n",
      "tf-keras 2.15.1 requires tensorflow<2.16,>=2.15, but you have tensorflow 2.18.0 which is incompatible.\u001b[0m\u001b[31m\r\n",
      "\u001b[0mSuccessfully installed flatbuffers-24.3.25 h5py-3.12.1 keras-3.6.0 ml-dtypes-0.4.1 tensorboard-2.18.0 tensorflow-2.18.0\r\n",
      "Note: you may need to restart the kernel to use updated packages.\n"
     ]
    }
   ],
   "source": [
    "pip install --upgrade tensorflow\n"
   ]
  },
  {
   "cell_type": "code",
   "execution_count": 5,
   "id": "3938a427",
   "metadata": {
    "execution": {
     "iopub.execute_input": "2024-11-11T23:56:50.982670Z",
     "iopub.status.busy": "2024-11-11T23:56:50.982318Z",
     "iopub.status.idle": "2024-11-11T23:57:18.377189Z",
     "shell.execute_reply": "2024-11-11T23:57:18.376389Z"
    },
    "papermill": {
     "duration": 27.444944,
     "end_time": "2024-11-11T23:57:18.379676",
     "exception": false,
     "start_time": "2024-11-11T23:56:50.934732",
     "status": "completed"
    },
    "tags": []
   },
   "outputs": [
    {
     "name": "stderr",
     "output_type": "stream",
     "text": [
      "2024-11-11 23:57:14.928632: E external/local_xla/xla/stream_executor/cuda/cuda_fft.cc:477] Unable to register cuFFT factory: Attempting to register factory for plugin cuFFT when one has already been registered\n",
      "WARNING: All log messages before absl::InitializeLog() is called are written to STDERR\n",
      "E0000 00:00:1731369434.958212      25 cuda_dnn.cc:8310] Unable to register cuDNN factory: Attempting to register factory for plugin cuDNN when one has already been registered\n",
      "E0000 00:00:1731369434.967263      25 cuda_blas.cc:1418] Unable to register cuBLAS factory: Attempting to register factory for plugin cuBLAS when one has already been registered\n"
     ]
    }
   ],
   "source": [
    "# Libraray for Data Manipulation\n",
    "import numpy as np\n",
    "import pandas as pd\n",
    "\n",
    "# Libraray for Data Visualisation\n",
    "import seaborn as sns \n",
    "import matplotlib.pyplot as plt \n",
    "sns.set(style=\"white\",font_scale=1.5)\n",
    "sns.set(rc={\"axes.facecolor\":\"#FFFAF0\",\"figure.facecolor\":\"#FFFAF0\"})\n",
    "sns.set_context(\"poster\",font_scale = .7)\n",
    "\n",
    "# Library for preprocessing \n",
    "import contractions\n",
    "from sklearn.feature_extraction.text import CountVectorizer\n",
    "from sklearn.preprocessing import LabelBinarizer\n",
    "from nltk.corpus import stopwords\n",
    "from nltk.stem.porter import PorterStemmer\n",
    "from wordcloud import WordCloud,STOPWORDS\n",
    "from nltk.stem import WordNetLemmatizer\n",
    "from nltk.tokenize import word_tokenize,sent_tokenize\n",
    "import spacy\n",
    "import math\n",
    "from gensim.models import Word2Vec\n",
    "from sklearn.feature_extraction.text import TfidfVectorizer\n",
    "from joblib import Parallel, delayed\n",
    "import re,string,unicodedata\n",
    "from sklearn.model_selection import train_test_split\n",
    "from textblob import TextBlob\n",
    "from scipy.sparse import lil_matrix\n",
    "from tensorflow.keras.preprocessing.sequence import pad_sequences\n",
    "from nltk import pos_tag\n",
    "\n",
    "# Library for model building\n",
    "from tensorflow.keras.regularizers import l2\n",
    "import tensorflow\n",
    "import keras\n",
    "from keras import layers\n",
    "from tensorflow.keras.preprocessing.text import Tokenizer\n",
    "from keras.models import Sequential\n",
    "#from attention import BahdanauAttention\n",
    "from keras.layers import SimpleRNN,LSTM,GRU, Embedding, Dense, SpatialDropout1D, Dropout, BatchNormalization, Bidirectional, Attention\n",
    "from sklearn.metrics import accuracy_score\n",
    "from tensorflow.keras.initializers import GlorotUniform\n",
    "from tensorflow.keras.optimizers import Adam\n",
    "#Library to overcome Warnings\n",
    "import warnings\n",
    "warnings.filterwarnings('ignore')"
   ]
  },
  {
   "cell_type": "markdown",
   "id": "5a18785e",
   "metadata": {
    "papermill": {
     "duration": 0.046185,
     "end_time": "2024-11-11T23:57:18.473885",
     "exception": false,
     "start_time": "2024-11-11T23:57:18.427700",
     "status": "completed"
    },
    "tags": []
   },
   "source": [
    "## <div style=\"text-align: left; background-color:aliceblue ; font-family: Trebuchet MS; color: black; padding: 15px; line-height:1;border-radius:1px; margin-bottom: 0em; text-align: center; font-size: 25px;border-style: solid;border-color: dark green;\"> Loading Dataset </div> "
   ]
  },
  {
   "cell_type": "code",
   "execution_count": 6,
   "id": "d9a1dcb4",
   "metadata": {
    "execution": {
     "iopub.execute_input": "2024-11-11T23:57:18.610045Z",
     "iopub.status.busy": "2024-11-11T23:57:18.609071Z",
     "iopub.status.idle": "2024-11-11T23:57:19.944774Z",
     "shell.execute_reply": "2024-11-11T23:57:19.943762Z"
    },
    "papermill": {
     "duration": 1.385499,
     "end_time": "2024-11-11T23:57:19.947175",
     "exception": false,
     "start_time": "2024-11-11T23:57:18.561676",
     "status": "completed"
    },
    "tags": []
   },
   "outputs": [],
   "source": [
    "df = pd.read_csv('/kaggle/input/imdb-dataset-of-50k-movie-reviews/IMDB Dataset.csv')"
   ]
  },
  {
   "cell_type": "code",
   "execution_count": 7,
   "id": "de447332",
   "metadata": {
    "execution": {
     "iopub.execute_input": "2024-11-11T23:57:20.052456Z",
     "iopub.status.busy": "2024-11-11T23:57:20.051794Z",
     "iopub.status.idle": "2024-11-11T23:57:20.071895Z",
     "shell.execute_reply": "2024-11-11T23:57:20.070809Z"
    },
    "papermill": {
     "duration": 0.071342,
     "end_time": "2024-11-11T23:57:20.073914",
     "exception": false,
     "start_time": "2024-11-11T23:57:20.002572",
     "status": "completed"
    },
    "tags": []
   },
   "outputs": [
    {
     "data": {
      "text/html": [
       "<div>\n",
       "<style scoped>\n",
       "    .dataframe tbody tr th:only-of-type {\n",
       "        vertical-align: middle;\n",
       "    }\n",
       "\n",
       "    .dataframe tbody tr th {\n",
       "        vertical-align: top;\n",
       "    }\n",
       "\n",
       "    .dataframe thead th {\n",
       "        text-align: right;\n",
       "    }\n",
       "</style>\n",
       "<table border=\"1\" class=\"dataframe\">\n",
       "  <thead>\n",
       "    <tr style=\"text-align: right;\">\n",
       "      <th></th>\n",
       "      <th>review</th>\n",
       "      <th>sentiment</th>\n",
       "    </tr>\n",
       "  </thead>\n",
       "  <tbody>\n",
       "    <tr>\n",
       "      <th>0</th>\n",
       "      <td>One of the other reviewers has mentioned that ...</td>\n",
       "      <td>positive</td>\n",
       "    </tr>\n",
       "    <tr>\n",
       "      <th>1</th>\n",
       "      <td>A wonderful little production. &lt;br /&gt;&lt;br /&gt;The...</td>\n",
       "      <td>positive</td>\n",
       "    </tr>\n",
       "    <tr>\n",
       "      <th>2</th>\n",
       "      <td>I thought this was a wonderful way to spend ti...</td>\n",
       "      <td>positive</td>\n",
       "    </tr>\n",
       "    <tr>\n",
       "      <th>3</th>\n",
       "      <td>Basically there's a family where a little boy ...</td>\n",
       "      <td>negative</td>\n",
       "    </tr>\n",
       "    <tr>\n",
       "      <th>4</th>\n",
       "      <td>Petter Mattei's \"Love in the Time of Money\" is...</td>\n",
       "      <td>positive</td>\n",
       "    </tr>\n",
       "    <tr>\n",
       "      <th>...</th>\n",
       "      <td>...</td>\n",
       "      <td>...</td>\n",
       "    </tr>\n",
       "    <tr>\n",
       "      <th>49995</th>\n",
       "      <td>I thought this movie did a down right good job...</td>\n",
       "      <td>positive</td>\n",
       "    </tr>\n",
       "    <tr>\n",
       "      <th>49996</th>\n",
       "      <td>Bad plot, bad dialogue, bad acting, idiotic di...</td>\n",
       "      <td>negative</td>\n",
       "    </tr>\n",
       "    <tr>\n",
       "      <th>49997</th>\n",
       "      <td>I am a Catholic taught in parochial elementary...</td>\n",
       "      <td>negative</td>\n",
       "    </tr>\n",
       "    <tr>\n",
       "      <th>49998</th>\n",
       "      <td>I'm going to have to disagree with the previou...</td>\n",
       "      <td>negative</td>\n",
       "    </tr>\n",
       "    <tr>\n",
       "      <th>49999</th>\n",
       "      <td>No one expects the Star Trek movies to be high...</td>\n",
       "      <td>negative</td>\n",
       "    </tr>\n",
       "  </tbody>\n",
       "</table>\n",
       "<p>50000 rows × 2 columns</p>\n",
       "</div>"
      ],
      "text/plain": [
       "                                                  review sentiment\n",
       "0      One of the other reviewers has mentioned that ...  positive\n",
       "1      A wonderful little production. <br /><br />The...  positive\n",
       "2      I thought this was a wonderful way to spend ti...  positive\n",
       "3      Basically there's a family where a little boy ...  negative\n",
       "4      Petter Mattei's \"Love in the Time of Money\" is...  positive\n",
       "...                                                  ...       ...\n",
       "49995  I thought this movie did a down right good job...  positive\n",
       "49996  Bad plot, bad dialogue, bad acting, idiotic di...  negative\n",
       "49997  I am a Catholic taught in parochial elementary...  negative\n",
       "49998  I'm going to have to disagree with the previou...  negative\n",
       "49999  No one expects the Star Trek movies to be high...  negative\n",
       "\n",
       "[50000 rows x 2 columns]"
      ]
     },
     "execution_count": 7,
     "metadata": {},
     "output_type": "execute_result"
    }
   ],
   "source": [
    "df"
   ]
  },
  {
   "cell_type": "markdown",
   "id": "e2fef682",
   "metadata": {
    "execution": {
     "iopub.execute_input": "2024-05-15T09:42:34.335968Z",
     "iopub.status.busy": "2024-05-15T09:42:34.335586Z",
     "iopub.status.idle": "2024-05-15T09:42:34.360885Z",
     "shell.execute_reply": "2024-05-15T09:42:34.359551Z",
     "shell.execute_reply.started": "2024-05-15T09:42:34.335937Z"
    },
    "papermill": {
     "duration": 0.047819,
     "end_time": "2024-11-11T23:57:20.168779",
     "exception": false,
     "start_time": "2024-11-11T23:57:20.120960",
     "status": "completed"
    },
    "tags": []
   },
   "source": [
    "## <div style=\"text-align: left; background-color:aliceblue ; font-family: Trebuchet MS; color: black; padding: 15px; line-height:1;border-radius:1px; margin-bottom: 0em; text-align: center; font-size: 25px;border-style: solid;border-color: dark green;\"> Data Wrangling  </div> "
   ]
  },
  {
   "cell_type": "markdown",
   "id": "7f356bc7",
   "metadata": {
    "papermill": {
     "duration": 0.047392,
     "end_time": "2024-11-11T23:57:20.265055",
     "exception": false,
     "start_time": "2024-11-11T23:57:20.217663",
     "status": "completed"
    },
    "tags": []
   },
   "source": [
    "#### 1. Computing Dimension of Dataset"
   ]
  },
  {
   "cell_type": "code",
   "execution_count": 8,
   "id": "34976b1c",
   "metadata": {
    "execution": {
     "iopub.execute_input": "2024-11-11T23:57:20.364767Z",
     "iopub.status.busy": "2024-11-11T23:57:20.363795Z",
     "iopub.status.idle": "2024-11-11T23:57:20.368990Z",
     "shell.execute_reply": "2024-11-11T23:57:20.368044Z"
    },
    "papermill": {
     "duration": 0.056482,
     "end_time": "2024-11-11T23:57:20.370891",
     "exception": false,
     "start_time": "2024-11-11T23:57:20.314409",
     "status": "completed"
    },
    "tags": []
   },
   "outputs": [
    {
     "name": "stdout",
     "output_type": "stream",
     "text": [
      "dataset shape:  (50000, 2)\n"
     ]
    }
   ],
   "source": [
    "print('dataset shape: ',df.shape)"
   ]
  },
  {
   "cell_type": "markdown",
   "id": "02805581",
   "metadata": {
    "papermill": {
     "duration": 0.046856,
     "end_time": "2024-11-11T23:57:20.465224",
     "exception": false,
     "start_time": "2024-11-11T23:57:20.418368",
     "status": "completed"
    },
    "tags": []
   },
   "source": [
    "#### 2. Statistical Summary of Dataset"
   ]
  },
  {
   "cell_type": "code",
   "execution_count": 9,
   "id": "bd32da8e",
   "metadata": {
    "execution": {
     "iopub.execute_input": "2024-11-11T23:57:20.559852Z",
     "iopub.status.busy": "2024-11-11T23:57:20.559537Z",
     "iopub.status.idle": "2024-11-11T23:57:20.591986Z",
     "shell.execute_reply": "2024-11-11T23:57:20.590822Z"
    },
    "papermill": {
     "duration": 0.082206,
     "end_time": "2024-11-11T23:57:20.593847",
     "exception": false,
     "start_time": "2024-11-11T23:57:20.511641",
     "status": "completed"
    },
    "tags": []
   },
   "outputs": [
    {
     "name": "stdout",
     "output_type": "stream",
     "text": [
      "<class 'pandas.core.frame.DataFrame'>\n",
      "RangeIndex: 50000 entries, 0 to 49999\n",
      "Data columns (total 2 columns):\n",
      " #   Column     Non-Null Count  Dtype \n",
      "---  ------     --------------  ----- \n",
      " 0   review     50000 non-null  object\n",
      " 1   sentiment  50000 non-null  object\n",
      "dtypes: object(2)\n",
      "memory usage: 781.4+ KB\n"
     ]
    }
   ],
   "source": [
    "df.info()"
   ]
  },
  {
   "cell_type": "markdown",
   "id": "e8efb3e6",
   "metadata": {
    "papermill": {
     "duration": 0.047277,
     "end_time": "2024-11-11T23:57:20.688124",
     "exception": false,
     "start_time": "2024-11-11T23:57:20.640847",
     "status": "completed"
    },
    "tags": []
   },
   "source": [
    "#### 3. Checking if There's Any Duplicate Records."
   ]
  },
  {
   "cell_type": "code",
   "execution_count": 10,
   "id": "2c5b2d20",
   "metadata": {
    "execution": {
     "iopub.execute_input": "2024-11-11T23:57:20.784114Z",
     "iopub.status.busy": "2024-11-11T23:57:20.783784Z",
     "iopub.status.idle": "2024-11-11T23:57:20.956234Z",
     "shell.execute_reply": "2024-11-11T23:57:20.955105Z"
    },
    "papermill": {
     "duration": 0.222728,
     "end_time": "2024-11-11T23:57:20.958416",
     "exception": false,
     "start_time": "2024-11-11T23:57:20.735688",
     "status": "completed"
    },
    "tags": []
   },
   "outputs": [
    {
     "name": "stdout",
     "output_type": "stream",
     "text": [
      "Duplicates in Dataset:  418\n"
     ]
    }
   ],
   "source": [
    "print(\"Duplicates in Dataset: \",df.duplicated().sum())"
   ]
  },
  {
   "cell_type": "code",
   "execution_count": 11,
   "id": "e38adfdb",
   "metadata": {
    "execution": {
     "iopub.execute_input": "2024-11-11T23:57:21.055562Z",
     "iopub.status.busy": "2024-11-11T23:57:21.054870Z",
     "iopub.status.idle": "2024-11-11T23:57:21.212651Z",
     "shell.execute_reply": "2024-11-11T23:57:21.211640Z"
    },
    "papermill": {
     "duration": 0.208441,
     "end_time": "2024-11-11T23:57:21.214872",
     "exception": false,
     "start_time": "2024-11-11T23:57:21.006431",
     "status": "completed"
    },
    "tags": []
   },
   "outputs": [],
   "source": [
    "df.drop_duplicates(inplace = True)"
   ]
  },
  {
   "cell_type": "markdown",
   "id": "99cae956",
   "metadata": {
    "papermill": {
     "duration": 0.048413,
     "end_time": "2024-11-11T23:57:21.312019",
     "exception": false,
     "start_time": "2024-11-11T23:57:21.263606",
     "status": "completed"
    },
    "tags": []
   },
   "source": [
    "#### 4. Computing Total No. of Missing Values and the Percentage of Missing Values"
   ]
  },
  {
   "cell_type": "code",
   "execution_count": 12,
   "id": "d33bf666",
   "metadata": {
    "execution": {
     "iopub.execute_input": "2024-11-11T23:57:21.408300Z",
     "iopub.status.busy": "2024-11-11T23:57:21.407900Z",
     "iopub.status.idle": "2024-11-11T23:57:21.434239Z",
     "shell.execute_reply": "2024-11-11T23:57:21.433377Z"
    },
    "papermill": {
     "duration": 0.076976,
     "end_time": "2024-11-11T23:57:21.436141",
     "exception": false,
     "start_time": "2024-11-11T23:57:21.359165",
     "status": "completed"
    },
    "tags": []
   },
   "outputs": [
    {
     "data": {
      "text/html": [
       "<div>\n",
       "<style scoped>\n",
       "    .dataframe tbody tr th:only-of-type {\n",
       "        vertical-align: middle;\n",
       "    }\n",
       "\n",
       "    .dataframe tbody tr th {\n",
       "        vertical-align: top;\n",
       "    }\n",
       "\n",
       "    .dataframe thead th {\n",
       "        text-align: right;\n",
       "    }\n",
       "</style>\n",
       "<table border=\"1\" class=\"dataframe\">\n",
       "  <thead>\n",
       "    <tr style=\"text-align: right;\">\n",
       "      <th></th>\n",
       "      <th>Total No. of Missing Values</th>\n",
       "      <th>% of Missing Values</th>\n",
       "    </tr>\n",
       "  </thead>\n",
       "  <tbody>\n",
       "    <tr>\n",
       "      <th>review</th>\n",
       "      <td>0</td>\n",
       "      <td>0.0</td>\n",
       "    </tr>\n",
       "    <tr>\n",
       "      <th>sentiment</th>\n",
       "      <td>0</td>\n",
       "      <td>0.0</td>\n",
       "    </tr>\n",
       "  </tbody>\n",
       "</table>\n",
       "</div>"
      ],
      "text/plain": [
       "           Total No. of Missing Values  % of Missing Values\n",
       "review                               0                  0.0\n",
       "sentiment                            0                  0.0"
      ]
     },
     "execution_count": 12,
     "metadata": {},
     "output_type": "execute_result"
    }
   ],
   "source": [
    "missing_data = df.isnull().sum().to_frame().rename(columns={0:\"Total No. of Missing Values\"})\n",
    "missing_data[\"% of Missing Values\"] = round((missing_data[\"Total No. of Missing Values\"]/len(df))*100,2)\n",
    "missing_data"
   ]
  },
  {
   "cell_type": "markdown",
   "id": "8355774a",
   "metadata": {
    "papermill": {
     "duration": 0.046201,
     "end_time": "2024-11-11T23:57:21.529651",
     "exception": false,
     "start_time": "2024-11-11T23:57:21.483450",
     "status": "completed"
    },
    "tags": []
   },
   "source": [
    "#### 5. Performing Descriptive Analysis"
   ]
  },
  {
   "cell_type": "code",
   "execution_count": 13,
   "id": "84fe5e73",
   "metadata": {
    "execution": {
     "iopub.execute_input": "2024-11-11T23:57:21.624205Z",
     "iopub.status.busy": "2024-11-11T23:57:21.623921Z",
     "iopub.status.idle": "2024-11-11T23:57:21.729630Z",
     "shell.execute_reply": "2024-11-11T23:57:21.728704Z"
    },
    "papermill": {
     "duration": 0.155645,
     "end_time": "2024-11-11T23:57:21.731823",
     "exception": false,
     "start_time": "2024-11-11T23:57:21.576178",
     "status": "completed"
    },
    "tags": []
   },
   "outputs": [
    {
     "data": {
      "text/html": [
       "<div>\n",
       "<style scoped>\n",
       "    .dataframe tbody tr th:only-of-type {\n",
       "        vertical-align: middle;\n",
       "    }\n",
       "\n",
       "    .dataframe tbody tr th {\n",
       "        vertical-align: top;\n",
       "    }\n",
       "\n",
       "    .dataframe thead th {\n",
       "        text-align: right;\n",
       "    }\n",
       "</style>\n",
       "<table border=\"1\" class=\"dataframe\">\n",
       "  <thead>\n",
       "    <tr style=\"text-align: right;\">\n",
       "      <th></th>\n",
       "      <th>count</th>\n",
       "      <th>unique</th>\n",
       "      <th>top</th>\n",
       "      <th>freq</th>\n",
       "    </tr>\n",
       "  </thead>\n",
       "  <tbody>\n",
       "    <tr>\n",
       "      <th>review</th>\n",
       "      <td>49582</td>\n",
       "      <td>49582</td>\n",
       "      <td>No one expects the Star Trek movies to be high...</td>\n",
       "      <td>1</td>\n",
       "    </tr>\n",
       "    <tr>\n",
       "      <th>sentiment</th>\n",
       "      <td>49582</td>\n",
       "      <td>2</td>\n",
       "      <td>positive</td>\n",
       "      <td>24884</td>\n",
       "    </tr>\n",
       "  </tbody>\n",
       "</table>\n",
       "</div>"
      ],
      "text/plain": [
       "           count unique                                                top  \\\n",
       "review     49582  49582  No one expects the Star Trek movies to be high...   \n",
       "sentiment  49582      2                                           positive   \n",
       "\n",
       "            freq  \n",
       "review         1  \n",
       "sentiment  24884  "
      ]
     },
     "execution_count": 13,
     "metadata": {},
     "output_type": "execute_result"
    }
   ],
   "source": [
    "round(df.describe(include=\"O\").T,2)"
   ]
  },
  {
   "cell_type": "markdown",
   "id": "76a25590",
   "metadata": {
    "papermill": {
     "duration": 0.054905,
     "end_time": "2024-11-11T23:57:21.834734",
     "exception": false,
     "start_time": "2024-11-11T23:57:21.779829",
     "status": "completed"
    },
    "tags": []
   },
   "source": [
    "## <div style=\"text-align: left; background-color:aliceblue ; font-family: Trebuchet MS; color: black; padding: 15px; line-height:1;border-radius:1px; margin-bottom: 0em; text-align: center; font-size: 25px;border-style: solid;border-color: dark green;\"> Exploratory Data Analysis EDA  </div> "
   ]
  },
  {
   "cell_type": "markdown",
   "id": "db9fd399",
   "metadata": {
    "execution": {
     "iopub.execute_input": "2024-05-15T10:05:49.527788Z",
     "iopub.status.busy": "2024-05-15T10:05:49.527349Z",
     "iopub.status.idle": "2024-05-15T10:05:49.534216Z",
     "shell.execute_reply": "2024-05-15T10:05:49.532318Z",
     "shell.execute_reply.started": "2024-05-15T10:05:49.527757Z"
    },
    "papermill": {
     "duration": 0.046896,
     "end_time": "2024-11-11T23:57:21.935037",
     "exception": false,
     "start_time": "2024-11-11T23:57:21.888141",
     "status": "completed"
    },
    "tags": []
   },
   "source": [
    "#### 1. Visualizing the Distribution of each sentiment class"
   ]
  },
  {
   "cell_type": "code",
   "execution_count": 14,
   "id": "4f541688",
   "metadata": {
    "execution": {
     "iopub.execute_input": "2024-11-11T23:57:22.030424Z",
     "iopub.status.busy": "2024-11-11T23:57:22.030054Z",
     "iopub.status.idle": "2024-11-11T23:57:22.486413Z",
     "shell.execute_reply": "2024-11-11T23:57:22.485468Z"
    },
    "papermill": {
     "duration": 0.506654,
     "end_time": "2024-11-11T23:57:22.488357",
     "exception": false,
     "start_time": "2024-11-11T23:57:21.981703",
     "status": "completed"
    },
    "tags": []
   },
   "outputs": [
    {
     "data": {
      "image/png": "[encoded data removed]",
      "text/plain": [
       "<Figure size 1700x600 with 2 Axes>"
      ]
     },
     "metadata": {},
     "output_type": "display_data"
    }
   ],
   "source": [
    "classes = ['positive','negative']\n",
    "\n",
    "plt.figure(figsize=(17, 6))\n",
    "plt.subplot(1, 2, 1)\n",
    "sentiment_counts = df[\"sentiment\"].value_counts()\n",
    "sns.barplot(x=sentiment_counts.index, y=sentiment_counts.values, palette='Set2', order=classes)\n",
    "plt.title(\"Distribution of NObeyesdad Classes\", fontweight=\"black\", size=14, pad=15)\n",
    "for i, v in enumerate(sentiment_counts.values):\n",
    "    plt.text(i, v, v, ha=\"center\", fontsize=14)\n",
    "plt.xticks(rotation=90)\n",
    "\n",
    "plt.subplot(1, 2, 2)\n",
    "colors = sns.color_palette('Set2', len(classes))\n",
    "plt.pie(sentiment_counts, labels=classes, autopct=\"%.2f%%\", textprops={\"size\": 14},\n",
    "        colors=colors, startangle=90)\n",
    "center_circle = plt.Circle((0, 0), 0.3, fc='white')\n",
    "fig = plt.gcf()\n",
    "fig.gca().add_artist(center_circle)\n",
    "plt.title(\"Distribution of sentiment Classes\", fontweight=\"black\", size=14, pad=15)\n",
    "plt.show()"
   ]
  },
  {
   "cell_type": "markdown",
   "id": "b833108d",
   "metadata": {
    "papermill": {
     "duration": 0.048314,
     "end_time": "2024-11-11T23:57:22.585601",
     "exception": false,
     "start_time": "2024-11-11T23:57:22.537287",
     "status": "completed"
    },
    "tags": []
   },
   "source": [
    "## <div style=\"text-align: left; background-color:aliceblue ; font-family: Trebuchet MS; color: black; padding: 15px; line-height:1;border-radius:1px; margin-bottom: 0em; text-align: center; font-size: 25px;border-style: solid;border-color: dark green;\"> Preprocessing  </div> "
   ]
  },
  {
   "cell_type": "markdown",
   "id": "09448991",
   "metadata": {
    "papermill": {
     "duration": 0.048135,
     "end_time": "2024-11-11T23:57:22.681359",
     "exception": false,
     "start_time": "2024-11-11T23:57:22.633224",
     "status": "completed"
    },
    "tags": []
   },
   "source": [
    "#### 1. Lowercasing "
   ]
  },
  {
   "cell_type": "code",
   "execution_count": 15,
   "id": "a06798e0",
   "metadata": {
    "execution": {
     "iopub.execute_input": "2024-11-11T23:57:22.779236Z",
     "iopub.status.busy": "2024-11-11T23:57:22.778554Z",
     "iopub.status.idle": "2024-11-11T23:57:22.977492Z",
     "shell.execute_reply": "2024-11-11T23:57:22.976497Z"
    },
    "papermill": {
     "duration": 0.250485,
     "end_time": "2024-11-11T23:57:22.979488",
     "exception": false,
     "start_time": "2024-11-11T23:57:22.729003",
     "status": "completed"
    },
    "tags": []
   },
   "outputs": [],
   "source": [
    "df['review'] = df['review'].str.lower()"
   ]
  },
  {
   "cell_type": "code",
   "execution_count": 16,
   "id": "5d0938e2",
   "metadata": {
    "execution": {
     "iopub.execute_input": "2024-11-11T23:57:23.098131Z",
     "iopub.status.busy": "2024-11-11T23:57:23.097310Z",
     "iopub.status.idle": "2024-11-11T23:57:23.105615Z",
     "shell.execute_reply": "2024-11-11T23:57:23.104718Z"
    },
    "papermill": {
     "duration": 0.064617,
     "end_time": "2024-11-11T23:57:23.107661",
     "exception": false,
     "start_time": "2024-11-11T23:57:23.043044",
     "status": "completed"
    },
    "tags": []
   },
   "outputs": [
    {
     "data": {
      "text/plain": [
       "0        one of the other reviewers has mentioned that ...\n",
       "1        a wonderful little production. <br /><br />the...\n",
       "2        i thought this was a wonderful way to spend ti...\n",
       "3        basically there's a family where a little boy ...\n",
       "4        petter mattei's \"love in the time of money\" is...\n",
       "                               ...                        \n",
       "49995    i thought this movie did a down right good job...\n",
       "49996    bad plot, bad dialogue, bad acting, idiotic di...\n",
       "49997    i am a catholic taught in parochial elementary...\n",
       "49998    i'm going to have to disagree with the previou...\n",
       "49999    no one expects the star trek movies to be high...\n",
       "Name: review, Length: 49582, dtype: object"
      ]
     },
     "execution_count": 16,
     "metadata": {},
     "output_type": "execute_result"
    }
   ],
   "source": [
    "df['review']"
   ]
  },
  {
   "cell_type": "markdown",
   "id": "8e58edb2",
   "metadata": {
    "papermill": {
     "duration": 0.054793,
     "end_time": "2024-11-11T23:57:23.216157",
     "exception": false,
     "start_time": "2024-11-11T23:57:23.161364",
     "status": "completed"
    },
    "tags": []
   },
   "source": [
    "#### 2. Removing Html tags"
   ]
  },
  {
   "cell_type": "code",
   "execution_count": 17,
   "id": "ded3f806",
   "metadata": {
    "execution": {
     "iopub.execute_input": "2024-11-11T23:57:23.321398Z",
     "iopub.status.busy": "2024-11-11T23:57:23.320426Z",
     "iopub.status.idle": "2024-11-11T23:57:23.325557Z",
     "shell.execute_reply": "2024-11-11T23:57:23.324685Z"
    },
    "papermill": {
     "duration": 0.058608,
     "end_time": "2024-11-11T23:57:23.327495",
     "exception": false,
     "start_time": "2024-11-11T23:57:23.268887",
     "status": "completed"
    },
    "tags": []
   },
   "outputs": [],
   "source": [
    "import re\n",
    "def remove_html_tags(text):\n",
    "    pattern = r'[^a-zA-Z0-9\\s]'\n",
    "    text = re.sub(pattern,'',text)\n",
    "    return text"
   ]
  },
  {
   "cell_type": "code",
   "execution_count": 18,
   "id": "9fbbd77e",
   "metadata": {
    "execution": {
     "iopub.execute_input": "2024-11-11T23:57:23.429374Z",
     "iopub.status.busy": "2024-11-11T23:57:23.429026Z",
     "iopub.status.idle": "2024-11-11T23:57:26.044502Z",
     "shell.execute_reply": "2024-11-11T23:57:26.043505Z"
    },
    "papermill": {
     "duration": 2.669857,
     "end_time": "2024-11-11T23:57:26.046862",
     "exception": false,
     "start_time": "2024-11-11T23:57:23.377005",
     "status": "completed"
    },
    "tags": []
   },
   "outputs": [],
   "source": [
    "df['review'] = df['review'].apply(remove_html_tags)"
   ]
  },
  {
   "cell_type": "markdown",
   "id": "7d6b3a16",
   "metadata": {
    "execution": {
     "iopub.execute_input": "2024-05-15T14:02:23.745964Z",
     "iopub.status.busy": "2024-05-15T14:02:23.74477Z",
     "iopub.status.idle": "2024-05-15T14:02:23.752149Z",
     "shell.execute_reply": "2024-05-15T14:02:23.750777Z",
     "shell.execute_reply.started": "2024-05-15T14:02:23.745907Z"
    },
    "papermill": {
     "duration": 0.048772,
     "end_time": "2024-11-11T23:57:26.146198",
     "exception": false,
     "start_time": "2024-11-11T23:57:26.097426",
     "status": "completed"
    },
    "tags": []
   },
   "source": [
    "#### 3. Removing URLs"
   ]
  },
  {
   "cell_type": "code",
   "execution_count": 19,
   "id": "81213777",
   "metadata": {
    "execution": {
     "iopub.execute_input": "2024-11-11T23:57:26.247153Z",
     "iopub.status.busy": "2024-11-11T23:57:26.246282Z",
     "iopub.status.idle": "2024-11-11T23:57:27.615302Z",
     "shell.execute_reply": "2024-11-11T23:57:27.614311Z"
    },
    "papermill": {
     "duration": 1.421951,
     "end_time": "2024-11-11T23:57:27.617805",
     "exception": false,
     "start_time": "2024-11-11T23:57:26.195854",
     "status": "completed"
    },
    "tags": []
   },
   "outputs": [],
   "source": [
    "def remove_url(text):\n",
    "    pattern = re.compile(r'https?://\\S+|www\\.\\S+')\n",
    "    return pattern.sub(r'',text)\n",
    "\n",
    "df['review'] = df['review'].apply(remove_url)"
   ]
  },
  {
   "cell_type": "markdown",
   "id": "f6cefd68",
   "metadata": {
    "papermill": {
     "duration": 0.048637,
     "end_time": "2024-11-11T23:57:27.716288",
     "exception": false,
     "start_time": "2024-11-11T23:57:27.667651",
     "status": "completed"
    },
    "tags": []
   },
   "source": [
    "#### 4. Remove Punctuation"
   ]
  },
  {
   "cell_type": "code",
   "execution_count": 20,
   "id": "cafddcd2",
   "metadata": {
    "execution": {
     "iopub.execute_input": "2024-11-11T23:57:27.814902Z",
     "iopub.status.busy": "2024-11-11T23:57:27.814550Z",
     "iopub.status.idle": "2024-11-11T23:57:27.820313Z",
     "shell.execute_reply": "2024-11-11T23:57:27.819509Z"
    },
    "papermill": {
     "duration": 0.057579,
     "end_time": "2024-11-11T23:57:27.822480",
     "exception": false,
     "start_time": "2024-11-11T23:57:27.764901",
     "status": "completed"
    },
    "tags": []
   },
   "outputs": [
    {
     "data": {
      "text/plain": [
       "'!\"#$%&\\'()*+,-./:;<=>?@[\\\\]^_`{|}~'"
      ]
     },
     "execution_count": 20,
     "metadata": {},
     "output_type": "execute_result"
    }
   ],
   "source": [
    "import string,time\n",
    "string.punctuation"
   ]
  },
  {
   "cell_type": "code",
   "execution_count": 21,
   "id": "d567cf87",
   "metadata": {
    "execution": {
     "iopub.execute_input": "2024-11-11T23:57:27.923214Z",
     "iopub.status.busy": "2024-11-11T23:57:27.922600Z",
     "iopub.status.idle": "2024-11-11T23:57:27.926989Z",
     "shell.execute_reply": "2024-11-11T23:57:27.926125Z"
    },
    "papermill": {
     "duration": 0.056108,
     "end_time": "2024-11-11T23:57:27.928977",
     "exception": false,
     "start_time": "2024-11-11T23:57:27.872869",
     "status": "completed"
    },
    "tags": []
   },
   "outputs": [],
   "source": [
    "def remove_punctuation(text):\n",
    "    return text.translate(str.maketrans('','',string.punctuation))"
   ]
  },
  {
   "cell_type": "code",
   "execution_count": 22,
   "id": "9688cf03",
   "metadata": {
    "execution": {
     "iopub.execute_input": "2024-11-11T23:57:28.028087Z",
     "iopub.status.busy": "2024-11-11T23:57:28.027792Z",
     "iopub.status.idle": "2024-11-11T23:57:28.564577Z",
     "shell.execute_reply": "2024-11-11T23:57:28.563793Z"
    },
    "papermill": {
     "duration": 0.58875,
     "end_time": "2024-11-11T23:57:28.566908",
     "exception": false,
     "start_time": "2024-11-11T23:57:27.978158",
     "status": "completed"
    },
    "tags": []
   },
   "outputs": [],
   "source": [
    "df['review'] = df['review'].apply(remove_punctuation)"
   ]
  },
  {
   "cell_type": "markdown",
   "id": "6a1cbe67",
   "metadata": {
    "papermill": {
     "duration": 0.048968,
     "end_time": "2024-11-11T23:57:28.664894",
     "exception": false,
     "start_time": "2024-11-11T23:57:28.615926",
     "status": "completed"
    },
    "tags": []
   },
   "source": [
    "#### 5. Chat word  treatment"
   ]
  },
  {
   "cell_type": "code",
   "execution_count": 23,
   "id": "ba11cb8b",
   "metadata": {
    "execution": {
     "iopub.execute_input": "2024-11-11T23:57:28.764419Z",
     "iopub.status.busy": "2024-11-11T23:57:28.763458Z",
     "iopub.status.idle": "2024-11-11T23:57:28.776004Z",
     "shell.execute_reply": "2024-11-11T23:57:28.775217Z"
    },
    "papermill": {
     "duration": 0.064383,
     "end_time": "2024-11-11T23:57:28.777967",
     "exception": false,
     "start_time": "2024-11-11T23:57:28.713584",
     "status": "completed"
    },
    "tags": []
   },
   "outputs": [],
   "source": [
    "chat_words = {\n",
    "    \"AFAIK\": \"As Far As I Know\",\n",
    "    \"AFK\": \"Away From Keyboard\",\n",
    "    \"ASAP\": \"As Soon As Possible\",\n",
    "    \"ATK\": \"At The Keyboard\",\n",
    "    \"ATM\": \"At The Moment\",\n",
    "    \"A3\": \"Anytime, Anywhere, Anyplace\",\n",
    "    \"BAK\": \"Back At Keyboard\",\n",
    "    \"BBL\": \"Be Back Later\",\n",
    "    \"BBS\": \"Be Back Soon\",\n",
    "    \"BFN\": \"Bye For Now\",\n",
    "    \"B4N\": \"Bye For Now\",\n",
    "    \"BRB\": \"Be Right Back\",\n",
    "    \"BRT\": \"Be Right There\",\n",
    "    \"BTW\": \"By The Way\",\n",
    "    \"B4\": \"Before\",\n",
    "    \"CU\": \"See You\",\n",
    "    \"CUL8R\": \"See You Later\",\n",
    "    \"CYA\": \"See You\",\n",
    "    \"FAQ\": \"Frequently Asked Questions\",\n",
    "    \"FC\": \"Fingers Crossed\",\n",
    "    \"FWIW\": \"For What It's Worth\",\n",
    "    \"FYI\": \"For Your Information\",\n",
    "    \"GAL\": \"Get A Life\",\n",
    "    \"GG\": \"Good Game\",\n",
    "    \"GN\": \"Good Night\",\n",
    "    \"GMTA\": \"Great Minds Think Alike\",\n",
    "    \"GR8\": \"Great!\",\n",
    "    \"G9\": \"Genius\",\n",
    "    \"IC\": \"I See\",\n",
    "    \"ICQ\": \"I Seek you (also a chat program)\",\n",
    "    \"ILU\": \"I Love You\",\n",
    "    \"IMHO\": \"In My Honest/Humble Opinion\",\n",
    "    \"IMO\": \"In My Opinion\",\n",
    "    \"IOW\": \"In Other Words\",\n",
    "    \"IRL\": \"In Real Life\",\n",
    "    \"KISS\": \"Keep It Simple, Stupid\",\n",
    "    \"LDR\": \"Long Distance Relationship\",\n",
    "    \"LMAO\": \"Laugh My A.. Off\",\n",
    "    \"LOL\": \"Laughing Out Loud\",\n",
    "    \"LTNS\": \"Long Time No See\",\n",
    "    \"L8R\": \"Later\",\n",
    "    \"MTE\": \"My Thoughts Exactly\",\n",
    "    \"M8\": \"Mate\",\n",
    "    \"NRN\": \"No Reply Necessary\",\n",
    "    \"OIC\": \"Oh I See\",\n",
    "    \"PITA\": \"Pain In The A..\",\n",
    "    \"PRT\": \"Party\",\n",
    "    \"PRW\": \"Parents Are Watching\",\n",
    "    \"QPSA\": \"Que Pasa?\",\n",
    "    \"ROFL\": \"Rolling On The Floor Laughing\",\n",
    "    \"ROFLOL\": \"Rolling On The Floor Laughing Out Loud\",\n",
    "    \"ROTFLMAO\": \"Rolling On The Floor Laughing My A.. Off\",\n",
    "    \"SK8\": \"Skate\",\n",
    "    \"STATS\": \"Your sex and age\",\n",
    "    \"ASL\": \"Age, Sex, Location\",\n",
    "    \"THX\": \"Thank You\",\n",
    "    \"TTFN\": \"Ta-Ta For Now!\",\n",
    "    \"TTYL\": \"Talk To You Later\",\n",
    "    \"U\": \"You\",\n",
    "    \"U2\": \"You Too\",\n",
    "    \"U4E\": \"Yours For Ever\",\n",
    "    \"WB\": \"Welcome Back\",\n",
    "    \"WTF\": \"What The F...\",\n",
    "    \"WTG\": \"Way To Go!\",\n",
    "    \"WUF\": \"Where Are You From?\",\n",
    "    \"W8\": \"Wait...\",\n",
    "    \"7K\": \"Sick:-D Laughter\",\n",
    "    \"TFW\": \"That feeling when\",\n",
    "    \"MFW\": \"My face when\",\n",
    "    \"MRW\": \"My reaction when\",\n",
    "    \"IFYP\": \"I feel your pain\",\n",
    "    \"LOL\": \"Laughing out loud\",\n",
    "    \"TNTL\": \"Trying not to laugh\",\n",
    "    \"JK\": \"Just kidding\",\n",
    "    \"IDC\": \"I don’t care\",\n",
    "    \"ILY\": \"I love you\",\n",
    "    \"IMU\": \"I miss you\",\n",
    "    \"ADIH\": \"Another day in hell\",\n",
    "    \"IDC\": \"I don’t care\",\n",
    "    \"ZZZ\": \"Sleeping, bored, tired\",\n",
    "    \"WYWH\": \"Wish you were here\",\n",
    "    \"TIME\": \"Tears in my eyes\",\n",
    "    \"BAE\": \"Before anyone else\",\n",
    "    \"FIMH\": \"Forever in my heart\",\n",
    "    \"BSAAW\": \"Big smile and a wink\",\n",
    "    \"BWL\": \"Bursting with laughter\",\n",
    "    \"LMAO\": \"Laughing my a** off\",\n",
    "    \"BFF\": \"Best friends forever\",\n",
    "    \"CSL\": \"Can’t stop laughing\",\n",
    "}\n"
   ]
  },
  {
   "cell_type": "code",
   "execution_count": 24,
   "id": "0087d03f",
   "metadata": {
    "execution": {
     "iopub.execute_input": "2024-11-11T23:57:28.876627Z",
     "iopub.status.busy": "2024-11-11T23:57:28.876290Z",
     "iopub.status.idle": "2024-11-11T23:57:28.881426Z",
     "shell.execute_reply": "2024-11-11T23:57:28.880569Z"
    },
    "papermill": {
     "duration": 0.056811,
     "end_time": "2024-11-11T23:57:28.883471",
     "exception": false,
     "start_time": "2024-11-11T23:57:28.826660",
     "status": "completed"
    },
    "tags": []
   },
   "outputs": [],
   "source": [
    "def chat_conversion(text):\n",
    "    new_text=[]\n",
    "    for w in text.split():\n",
    "        if w.upper() in chat_words:\n",
    "            new_text.append(chat_words[w.upper()])\n",
    "        else:\n",
    "            new_text.append(w)\n",
    "    return \" \".join(new_text)"
   ]
  },
  {
   "cell_type": "code",
   "execution_count": 25,
   "id": "353d5f9c",
   "metadata": {
    "execution": {
     "iopub.execute_input": "2024-11-11T23:57:28.982088Z",
     "iopub.status.busy": "2024-11-11T23:57:28.981451Z",
     "iopub.status.idle": "2024-11-11T23:57:33.642890Z",
     "shell.execute_reply": "2024-11-11T23:57:33.641959Z"
    },
    "papermill": {
     "duration": 4.713254,
     "end_time": "2024-11-11T23:57:33.645182",
     "exception": false,
     "start_time": "2024-11-11T23:57:28.931928",
     "status": "completed"
    },
    "tags": []
   },
   "outputs": [],
   "source": [
    "df['review'] = df['review'].apply(chat_conversion)"
   ]
  },
  {
   "cell_type": "markdown",
   "id": "950d4cc9",
   "metadata": {
    "papermill": {
     "duration": 0.048669,
     "end_time": "2024-11-11T23:57:33.743406",
     "exception": false,
     "start_time": "2024-11-11T23:57:33.694737",
     "status": "completed"
    },
    "tags": []
   },
   "source": [
    "#### 7. Removing Stopword"
   ]
  },
  {
   "cell_type": "code",
   "execution_count": 26,
   "id": "7b5a814f",
   "metadata": {
    "execution": {
     "iopub.execute_input": "2024-11-11T23:57:33.843084Z",
     "iopub.status.busy": "2024-11-11T23:57:33.842135Z",
     "iopub.status.idle": "2024-11-11T23:57:33.856305Z",
     "shell.execute_reply": "2024-11-11T23:57:33.855388Z"
    },
    "papermill": {
     "duration": 0.06684,
     "end_time": "2024-11-11T23:57:33.858424",
     "exception": false,
     "start_time": "2024-11-11T23:57:33.791584",
     "status": "completed"
    },
    "tags": []
   },
   "outputs": [
    {
     "data": {
      "text/plain": [
       "['i',\n",
       " 'me',\n",
       " 'my',\n",
       " 'myself',\n",
       " 'we',\n",
       " 'our',\n",
       " 'ours',\n",
       " 'ourselves',\n",
       " 'you',\n",
       " \"you're\",\n",
       " \"you've\",\n",
       " \"you'll\",\n",
       " \"you'd\",\n",
       " 'your',\n",
       " 'yours',\n",
       " 'yourself',\n",
       " 'yourselves',\n",
       " 'he',\n",
       " 'him',\n",
       " 'his',\n",
       " 'himself',\n",
       " 'she',\n",
       " \"she's\",\n",
       " 'her',\n",
       " 'hers',\n",
       " 'herself',\n",
       " 'it',\n",
       " \"it's\",\n",
       " 'its',\n",
       " 'itself',\n",
       " 'they',\n",
       " 'them',\n",
       " 'their',\n",
       " 'theirs',\n",
       " 'themselves',\n",
       " 'what',\n",
       " 'which',\n",
       " 'who',\n",
       " 'whom',\n",
       " 'this',\n",
       " 'that',\n",
       " \"that'll\",\n",
       " 'these',\n",
       " 'those',\n",
       " 'am',\n",
       " 'is',\n",
       " 'are',\n",
       " 'was',\n",
       " 'were',\n",
       " 'be',\n",
       " 'been',\n",
       " 'being',\n",
       " 'have',\n",
       " 'has',\n",
       " 'had',\n",
       " 'having',\n",
       " 'do',\n",
       " 'does',\n",
       " 'did',\n",
       " 'doing',\n",
       " 'a',\n",
       " 'an',\n",
       " 'the',\n",
       " 'and',\n",
       " 'but',\n",
       " 'if',\n",
       " 'or',\n",
       " 'because',\n",
       " 'as',\n",
       " 'until',\n",
       " 'while',\n",
       " 'of',\n",
       " 'at',\n",
       " 'by',\n",
       " 'for',\n",
       " 'with',\n",
       " 'about',\n",
       " 'against',\n",
       " 'between',\n",
       " 'into',\n",
       " 'through',\n",
       " 'during',\n",
       " 'before',\n",
       " 'after',\n",
       " 'above',\n",
       " 'below',\n",
       " 'to',\n",
       " 'from',\n",
       " 'up',\n",
       " 'down',\n",
       " 'in',\n",
       " 'out',\n",
       " 'on',\n",
       " 'off',\n",
       " 'over',\n",
       " 'under',\n",
       " 'again',\n",
       " 'further',\n",
       " 'then',\n",
       " 'once',\n",
       " 'here',\n",
       " 'there',\n",
       " 'when',\n",
       " 'where',\n",
       " 'why',\n",
       " 'how',\n",
       " 'all',\n",
       " 'any',\n",
       " 'both',\n",
       " 'each',\n",
       " 'few',\n",
       " 'more',\n",
       " 'most',\n",
       " 'other',\n",
       " 'some',\n",
       " 'such',\n",
       " 'no',\n",
       " 'nor',\n",
       " 'not',\n",
       " 'only',\n",
       " 'own',\n",
       " 'same',\n",
       " 'so',\n",
       " 'than',\n",
       " 'too',\n",
       " 'very',\n",
       " 's',\n",
       " 't',\n",
       " 'can',\n",
       " 'will',\n",
       " 'just',\n",
       " 'don',\n",
       " \"don't\",\n",
       " 'should',\n",
       " \"should've\",\n",
       " 'now',\n",
       " 'd',\n",
       " 'll',\n",
       " 'm',\n",
       " 'o',\n",
       " 're',\n",
       " 've',\n",
       " 'y',\n",
       " 'ain',\n",
       " 'aren',\n",
       " \"aren't\",\n",
       " 'couldn',\n",
       " \"couldn't\",\n",
       " 'didn',\n",
       " \"didn't\",\n",
       " 'doesn',\n",
       " \"doesn't\",\n",
       " 'hadn',\n",
       " \"hadn't\",\n",
       " 'hasn',\n",
       " \"hasn't\",\n",
       " 'haven',\n",
       " \"haven't\",\n",
       " 'isn',\n",
       " \"isn't\",\n",
       " 'ma',\n",
       " 'mightn',\n",
       " \"mightn't\",\n",
       " 'mustn',\n",
       " \"mustn't\",\n",
       " 'needn',\n",
       " \"needn't\",\n",
       " 'shan',\n",
       " \"shan't\",\n",
       " 'shouldn',\n",
       " \"shouldn't\",\n",
       " 'wasn',\n",
       " \"wasn't\",\n",
       " 'weren',\n",
       " \"weren't\",\n",
       " 'won',\n",
       " \"won't\",\n",
       " 'wouldn',\n",
       " \"wouldn't\"]"
      ]
     },
     "execution_count": 26,
     "metadata": {},
     "output_type": "execute_result"
    }
   ],
   "source": [
    "from nltk.corpus import stopwords\n",
    "\n",
    "stop_words = stopwords.words('english')\n",
    "stop_words"
   ]
  },
  {
   "cell_type": "code",
   "execution_count": 27,
   "id": "e21aad15",
   "metadata": {
    "execution": {
     "iopub.execute_input": "2024-11-11T23:57:33.957548Z",
     "iopub.status.busy": "2024-11-11T23:57:33.957230Z",
     "iopub.status.idle": "2024-11-11T23:57:33.962736Z",
     "shell.execute_reply": "2024-11-11T23:57:33.961628Z"
    },
    "papermill": {
     "duration": 0.056665,
     "end_time": "2024-11-11T23:57:33.964640",
     "exception": false,
     "start_time": "2024-11-11T23:57:33.907975",
     "status": "completed"
    },
    "tags": []
   },
   "outputs": [],
   "source": [
    "def stopwords_removal(text):\n",
    "    new_text=[]\n",
    "    for word in text.split():\n",
    "        if word in stop_words:\n",
    "            new_text.append('')\n",
    "        else:\n",
    "            new_text.append(word)\n",
    "    x=new_text[:]\n",
    "    new_text.clear()\n",
    "    return \" \".join(x)            "
   ]
  },
  {
   "cell_type": "code",
   "execution_count": 28,
   "id": "a860631d",
   "metadata": {
    "execution": {
     "iopub.execute_input": "2024-11-11T23:57:34.064148Z",
     "iopub.status.busy": "2024-11-11T23:57:34.063877Z",
     "iopub.status.idle": "2024-11-11T23:57:56.015617Z",
     "shell.execute_reply": "2024-11-11T23:57:56.014613Z"
    },
    "papermill": {
     "duration": 22.004467,
     "end_time": "2024-11-11T23:57:56.017922",
     "exception": false,
     "start_time": "2024-11-11T23:57:34.013455",
     "status": "completed"
    },
    "tags": []
   },
   "outputs": [
    {
     "data": {
      "text/html": [
       "<div>\n",
       "<style scoped>\n",
       "    .dataframe tbody tr th:only-of-type {\n",
       "        vertical-align: middle;\n",
       "    }\n",
       "\n",
       "    .dataframe tbody tr th {\n",
       "        vertical-align: top;\n",
       "    }\n",
       "\n",
       "    .dataframe thead th {\n",
       "        text-align: right;\n",
       "    }\n",
       "</style>\n",
       "<table border=\"1\" class=\"dataframe\">\n",
       "  <thead>\n",
       "    <tr style=\"text-align: right;\">\n",
       "      <th></th>\n",
       "      <th>review</th>\n",
       "      <th>sentiment</th>\n",
       "    </tr>\n",
       "  </thead>\n",
       "  <tbody>\n",
       "    <tr>\n",
       "      <th>0</th>\n",
       "      <td>one    reviewers  mentioned   watching  1 oz e...</td>\n",
       "      <td>positive</td>\n",
       "    </tr>\n",
       "    <tr>\n",
       "      <th>1</th>\n",
       "      <td>wonderful little production br br  filming te...</td>\n",
       "      <td>positive</td>\n",
       "    </tr>\n",
       "    <tr>\n",
       "      <th>2</th>\n",
       "      <td>thought    wonderful way  spend Tears   eyes ...</td>\n",
       "      <td>positive</td>\n",
       "    </tr>\n",
       "    <tr>\n",
       "      <th>3</th>\n",
       "      <td>basically theres  family   little boy jake thi...</td>\n",
       "      <td>negative</td>\n",
       "    </tr>\n",
       "    <tr>\n",
       "      <th>4</th>\n",
       "      <td>petter matteis love   Tears   eyes  money   vi...</td>\n",
       "      <td>positive</td>\n",
       "    </tr>\n",
       "  </tbody>\n",
       "</table>\n",
       "</div>"
      ],
      "text/plain": [
       "                                              review sentiment\n",
       "0  one    reviewers  mentioned   watching  1 oz e...  positive\n",
       "1   wonderful little production br br  filming te...  positive\n",
       "2   thought    wonderful way  spend Tears   eyes ...  positive\n",
       "3  basically theres  family   little boy jake thi...  negative\n",
       "4  petter matteis love   Tears   eyes  money   vi...  positive"
      ]
     },
     "execution_count": 28,
     "metadata": {},
     "output_type": "execute_result"
    }
   ],
   "source": [
    "df['review']=df['review'].apply(stopwords_removal)\n",
    "df.head()"
   ]
  },
  {
   "cell_type": "markdown",
   "id": "58d571a9",
   "metadata": {
    "papermill": {
     "duration": 0.048908,
     "end_time": "2024-11-11T23:57:56.117790",
     "exception": false,
     "start_time": "2024-11-11T23:57:56.068882",
     "status": "completed"
    },
    "tags": []
   },
   "source": [
    "#### 8. Removing Emojis"
   ]
  },
  {
   "cell_type": "code",
   "execution_count": 29,
   "id": "2019a2d8",
   "metadata": {
    "execution": {
     "iopub.execute_input": "2024-11-11T23:57:56.218712Z",
     "iopub.status.busy": "2024-11-11T23:57:56.218129Z",
     "iopub.status.idle": "2024-11-11T23:57:56.223349Z",
     "shell.execute_reply": "2024-11-11T23:57:56.222273Z"
    },
    "papermill": {
     "duration": 0.057756,
     "end_time": "2024-11-11T23:57:56.225519",
     "exception": false,
     "start_time": "2024-11-11T23:57:56.167763",
     "status": "completed"
    },
    "tags": []
   },
   "outputs": [],
   "source": [
    "def remove_emoji(text):\n",
    "    emoji_pattern = re.compile(\"[\"\n",
    "                           u\"\\U0001F600-\\U0001F64F\"  # emoticons\n",
    "                           u\"\\U0001F300-\\U0001F5FF\"  # symbols & pictographs\n",
    "                           u\"\\U0001F680-\\U0001F6FF\"  # transport & map symbols\n",
    "                           u\"\\U0001F1E0-\\U0001F1FF\"  # flags (iOS)\n",
    "                           u\"\\U00002702-\\U000027B0\"\n",
    "                           u\"\\U000024C2-\\U0001F251\"\n",
    "                           \"]+\", flags=re.UNICODE)\n",
    "    return emoji_pattern.sub(r'', text)"
   ]
  },
  {
   "cell_type": "code",
   "execution_count": 30,
   "id": "aefcfce8",
   "metadata": {
    "execution": {
     "iopub.execute_input": "2024-11-11T23:57:56.324381Z",
     "iopub.status.busy": "2024-11-11T23:57:56.324060Z",
     "iopub.status.idle": "2024-11-11T23:57:59.246495Z",
     "shell.execute_reply": "2024-11-11T23:57:59.245694Z"
    },
    "papermill": {
     "duration": 2.974233,
     "end_time": "2024-11-11T23:57:59.248651",
     "exception": false,
     "start_time": "2024-11-11T23:57:56.274418",
     "status": "completed"
    },
    "tags": []
   },
   "outputs": [],
   "source": [
    "df['review']=df['review'].apply(remove_emoji)"
   ]
  },
  {
   "cell_type": "markdown",
   "id": "0a969585",
   "metadata": {
    "papermill": {
     "duration": 0.049149,
     "end_time": "2024-11-11T23:57:59.347583",
     "exception": false,
     "start_time": "2024-11-11T23:57:59.298434",
     "status": "completed"
    },
    "tags": []
   },
   "source": [
    "#### 9. Removing contractions"
   ]
  },
  {
   "cell_type": "code",
   "execution_count": 31,
   "id": "88bc8a6c",
   "metadata": {
    "execution": {
     "iopub.execute_input": "2024-11-11T23:57:59.450174Z",
     "iopub.status.busy": "2024-11-11T23:57:59.449407Z",
     "iopub.status.idle": "2024-11-11T23:58:04.226203Z",
     "shell.execute_reply": "2024-11-11T23:58:04.225374Z"
    },
    "papermill": {
     "duration": 4.831806,
     "end_time": "2024-11-11T23:58:04.228588",
     "exception": false,
     "start_time": "2024-11-11T23:57:59.396782",
     "status": "completed"
    },
    "tags": []
   },
   "outputs": [],
   "source": [
    "def expand_contractions(text):\n",
    "    expanded_text = contractions.fix(text)\n",
    "    return expanded_text\n",
    "\n",
    "df['review'] = df['review'].apply(expand_contractions)\n"
   ]
  },
  {
   "cell_type": "markdown",
   "id": "61bb4c56",
   "metadata": {
    "papermill": {
     "duration": 0.051663,
     "end_time": "2024-11-11T23:58:04.331493",
     "exception": false,
     "start_time": "2024-11-11T23:58:04.279830",
     "status": "completed"
    },
    "tags": []
   },
   "source": [
    "#### Lemmatize"
   ]
  },
  {
   "cell_type": "code",
   "execution_count": 32,
   "id": "3909dce0",
   "metadata": {
    "execution": {
     "iopub.execute_input": "2024-11-11T23:58:04.431758Z",
     "iopub.status.busy": "2024-11-11T23:58:04.431038Z",
     "iopub.status.idle": "2024-11-11T23:58:05.618006Z",
     "shell.execute_reply": "2024-11-11T23:58:05.617207Z"
    },
    "papermill": {
     "duration": 1.239346,
     "end_time": "2024-11-11T23:58:05.620250",
     "exception": false,
     "start_time": "2024-11-11T23:58:04.380904",
     "status": "completed"
    },
    "tags": []
   },
   "outputs": [],
   "source": [
    "# Load SpaCy model\n",
    "nlp = spacy.load(\"en_core_web_sm\")"
   ]
  },
  {
   "cell_type": "code",
   "execution_count": 33,
   "id": "605ac2f8",
   "metadata": {
    "execution": {
     "iopub.execute_input": "2024-11-11T23:58:05.721846Z",
     "iopub.status.busy": "2024-11-11T23:58:05.721173Z",
     "iopub.status.idle": "2024-11-11T23:58:05.726717Z",
     "shell.execute_reply": "2024-11-11T23:58:05.725780Z"
    },
    "papermill": {
     "duration": 0.058571,
     "end_time": "2024-11-11T23:58:05.728687",
     "exception": false,
     "start_time": "2024-11-11T23:58:05.670116",
     "status": "completed"
    },
    "tags": []
   },
   "outputs": [],
   "source": [
    "# Function to perform lemmatization on a single text\n",
    "def lemmatize_text(text):\n",
    "    doc = nlp(text)\n",
    "    lemmatized_text = ' '.join([token.lemma_ for token in doc])\n",
    "    return lemmatized_text\n",
    "\n",
    "# Function to lemmatize the 'review' column of the DataFrame\n",
    "def lemmatize_reviews(df):\n",
    "    df['review'] = df['review'].apply(lemmatize_text)\n",
    "    return df"
   ]
  },
  {
   "cell_type": "code",
   "execution_count": 34,
   "id": "e259c263",
   "metadata": {
    "execution": {
     "iopub.execute_input": "2024-11-11T23:58:05.833766Z",
     "iopub.status.busy": "2024-11-11T23:58:05.833115Z",
     "iopub.status.idle": "2024-11-12T00:25:49.420006Z",
     "shell.execute_reply": "2024-11-12T00:25:49.419081Z"
    },
    "papermill": {
     "duration": 1663.643822,
     "end_time": "2024-11-12T00:25:49.422876",
     "exception": false,
     "start_time": "2024-11-11T23:58:05.779054",
     "status": "completed"
    },
    "tags": []
   },
   "outputs": [],
   "source": [
    "# Lemmatize the 'review' column\n",
    "df = lemmatize_reviews(df)"
   ]
  },
  {
   "cell_type": "markdown",
   "id": "c82f5354",
   "metadata": {
    "papermill": {
     "duration": 0.048342,
     "end_time": "2024-11-12T00:25:49.521832",
     "exception": false,
     "start_time": "2024-11-12T00:25:49.473490",
     "status": "completed"
    },
    "tags": []
   },
   "source": [
    "#### 10. Tokenize the text"
   ]
  },
  {
   "cell_type": "code",
   "execution_count": 35,
   "id": "a6e9854b",
   "metadata": {
    "execution": {
     "iopub.execute_input": "2024-11-12T00:25:49.630136Z",
     "iopub.status.busy": "2024-11-12T00:25:49.629422Z",
     "iopub.status.idle": "2024-11-12T00:26:55.634669Z",
     "shell.execute_reply": "2024-11-12T00:26:55.633648Z"
    },
    "papermill": {
     "duration": 66.065063,
     "end_time": "2024-11-12T00:26:55.637232",
     "exception": false,
     "start_time": "2024-11-12T00:25:49.572169",
     "status": "completed"
    },
    "tags": []
   },
   "outputs": [],
   "source": [
    "def do_tokenization(text):\n",
    "    \n",
    "    token_words = word_tokenize(text)\n",
    "    return token_words\n",
    "\n",
    "df['review'] = df['review'].apply(do_tokenization)"
   ]
  },
  {
   "cell_type": "code",
   "execution_count": 36,
   "id": "00f3c69d",
   "metadata": {
    "execution": {
     "iopub.execute_input": "2024-11-12T00:26:55.736990Z",
     "iopub.status.busy": "2024-11-12T00:26:55.736644Z",
     "iopub.status.idle": "2024-11-12T00:26:55.758290Z",
     "shell.execute_reply": "2024-11-12T00:26:55.757330Z"
    },
    "papermill": {
     "duration": 0.072996,
     "end_time": "2024-11-12T00:26:55.760199",
     "exception": false,
     "start_time": "2024-11-12T00:26:55.687203",
     "status": "completed"
    },
    "tags": []
   },
   "outputs": [
    {
     "data": {
      "text/html": [
       "<div>\n",
       "<style scoped>\n",
       "    .dataframe tbody tr th:only-of-type {\n",
       "        vertical-align: middle;\n",
       "    }\n",
       "\n",
       "    .dataframe tbody tr th {\n",
       "        vertical-align: top;\n",
       "    }\n",
       "\n",
       "    .dataframe thead th {\n",
       "        text-align: right;\n",
       "    }\n",
       "</style>\n",
       "<table border=\"1\" class=\"dataframe\">\n",
       "  <thead>\n",
       "    <tr style=\"text-align: right;\">\n",
       "      <th></th>\n",
       "      <th>review</th>\n",
       "      <th>sentiment</th>\n",
       "    </tr>\n",
       "  </thead>\n",
       "  <tbody>\n",
       "    <tr>\n",
       "      <th>0</th>\n",
       "      <td>[one, reviewer, mention, watch, 1, oz, episode...</td>\n",
       "      <td>positive</td>\n",
       "    </tr>\n",
       "    <tr>\n",
       "      <th>1</th>\n",
       "      <td>[wonderful, little, production, br, br, film, ...</td>\n",
       "      <td>positive</td>\n",
       "    </tr>\n",
       "    <tr>\n",
       "      <th>2</th>\n",
       "      <td>[think, wonderful, way, spend, Tears, eye, hot...</td>\n",
       "      <td>positive</td>\n",
       "    </tr>\n",
       "    <tr>\n",
       "      <th>3</th>\n",
       "      <td>[basically, there, be, family, little, boy, ja...</td>\n",
       "      <td>negative</td>\n",
       "    </tr>\n",
       "    <tr>\n",
       "      <th>4</th>\n",
       "      <td>[petter, matteis, love, tear, eye, money, visu...</td>\n",
       "      <td>positive</td>\n",
       "    </tr>\n",
       "    <tr>\n",
       "      <th>...</th>\n",
       "      <td>...</td>\n",
       "      <td>...</td>\n",
       "    </tr>\n",
       "    <tr>\n",
       "      <th>49995</th>\n",
       "      <td>[think, movie, right, good, job, be, not, crea...</td>\n",
       "      <td>positive</td>\n",
       "    </tr>\n",
       "    <tr>\n",
       "      <th>49996</th>\n",
       "      <td>[bad, plot, bad, dialogue, bad, act, idiotic, ...</td>\n",
       "      <td>negative</td>\n",
       "    </tr>\n",
       "    <tr>\n",
       "      <th>49997</th>\n",
       "      <td>[catholic, teach, parochial, elementary, schoo...</td>\n",
       "      <td>negative</td>\n",
       "    </tr>\n",
       "    <tr>\n",
       "      <th>49998</th>\n",
       "      <td>[I, be, go, disagree, previous, comment, side,...</td>\n",
       "      <td>negative</td>\n",
       "    </tr>\n",
       "    <tr>\n",
       "      <th>49999</th>\n",
       "      <td>[one, expect, star, trek, movie, high, art, fa...</td>\n",
       "      <td>negative</td>\n",
       "    </tr>\n",
       "  </tbody>\n",
       "</table>\n",
       "<p>49582 rows × 2 columns</p>\n",
       "</div>"
      ],
      "text/plain": [
       "                                                  review sentiment\n",
       "0      [one, reviewer, mention, watch, 1, oz, episode...  positive\n",
       "1      [wonderful, little, production, br, br, film, ...  positive\n",
       "2      [think, wonderful, way, spend, Tears, eye, hot...  positive\n",
       "3      [basically, there, be, family, little, boy, ja...  negative\n",
       "4      [petter, matteis, love, tear, eye, money, visu...  positive\n",
       "...                                                  ...       ...\n",
       "49995  [think, movie, right, good, job, be, not, crea...  positive\n",
       "49996  [bad, plot, bad, dialogue, bad, act, idiotic, ...  negative\n",
       "49997  [catholic, teach, parochial, elementary, schoo...  negative\n",
       "49998  [I, be, go, disagree, previous, comment, side,...  negative\n",
       "49999  [one, expect, star, trek, movie, high, art, fa...  negative\n",
       "\n",
       "[49582 rows x 2 columns]"
      ]
     },
     "execution_count": 36,
     "metadata": {},
     "output_type": "execute_result"
    }
   ],
   "source": [
    "df"
   ]
  },
  {
   "cell_type": "markdown",
   "id": "3e2de3b0",
   "metadata": {
    "papermill": {
     "duration": 0.053266,
     "end_time": "2024-11-12T00:26:55.863829",
     "exception": false,
     "start_time": "2024-11-12T00:26:55.810563",
     "status": "completed"
    },
    "tags": []
   },
   "source": [
    "## <div style=\"text-align: left; background-color:aliceblue ; font-family: Trebuchet MS; color: black; padding: 15px; line-height:1;border-radius:1px; margin-bottom: 0em; text-align: center; font-size: 25px;border-style: solid;border-color: dark green;\"> Split the Data into Independent and Dependent Variable </div> "
   ]
  },
  {
   "cell_type": "code",
   "execution_count": 37,
   "id": "2dca18da",
   "metadata": {
    "execution": {
     "iopub.execute_input": "2024-11-12T00:26:55.963410Z",
     "iopub.status.busy": "2024-11-12T00:26:55.963076Z",
     "iopub.status.idle": "2024-11-12T00:26:55.967525Z",
     "shell.execute_reply": "2024-11-12T00:26:55.966538Z"
    },
    "papermill": {
     "duration": 0.055963,
     "end_time": "2024-11-12T00:26:55.969466",
     "exception": false,
     "start_time": "2024-11-12T00:26:55.913503",
     "status": "completed"
    },
    "tags": []
   },
   "outputs": [],
   "source": [
    "x = df['review']\n",
    "y = df['sentiment']"
   ]
  },
  {
   "cell_type": "code",
   "execution_count": 38,
   "id": "12633c67",
   "metadata": {
    "execution": {
     "iopub.execute_input": "2024-11-12T00:26:56.068646Z",
     "iopub.status.busy": "2024-11-12T00:26:56.068322Z",
     "iopub.status.idle": "2024-11-12T00:26:56.085782Z",
     "shell.execute_reply": "2024-11-12T00:26:56.084781Z"
    },
    "papermill": {
     "duration": 0.069371,
     "end_time": "2024-11-12T00:26:56.087788",
     "exception": false,
     "start_time": "2024-11-12T00:26:56.018417",
     "status": "completed"
    },
    "tags": []
   },
   "outputs": [],
   "source": [
    "from sklearn.preprocessing import LabelEncoder\n",
    "encoder = LabelEncoder()\n",
    "\n",
    "y = encoder.fit_transform(y)"
   ]
  },
  {
   "cell_type": "code",
   "execution_count": 39,
   "id": "42ca9fe8",
   "metadata": {
    "execution": {
     "iopub.execute_input": "2024-11-12T00:26:56.188714Z",
     "iopub.status.busy": "2024-11-12T00:26:56.187872Z",
     "iopub.status.idle": "2024-11-12T00:26:56.200044Z",
     "shell.execute_reply": "2024-11-12T00:26:56.199326Z"
    },
    "papermill": {
     "duration": 0.064483,
     "end_time": "2024-11-12T00:26:56.202056",
     "exception": false,
     "start_time": "2024-11-12T00:26:56.137573",
     "status": "completed"
    },
    "tags": []
   },
   "outputs": [],
   "source": [
    "from sklearn.model_selection import train_test_split\n",
    "X_train,X_test,y_train,y_test = train_test_split(x,y,test_size=0.2,random_state=1)"
   ]
  },
  {
   "cell_type": "code",
   "execution_count": 40,
   "id": "4de4a056",
   "metadata": {
    "execution": {
     "iopub.execute_input": "2024-11-12T00:26:56.302582Z",
     "iopub.status.busy": "2024-11-12T00:26:56.302280Z",
     "iopub.status.idle": "2024-11-12T00:26:56.307439Z",
     "shell.execute_reply": "2024-11-12T00:26:56.306562Z"
    },
    "papermill": {
     "duration": 0.05694,
     "end_time": "2024-11-12T00:26:56.309475",
     "exception": false,
     "start_time": "2024-11-12T00:26:56.252535",
     "status": "completed"
    },
    "tags": []
   },
   "outputs": [
    {
     "data": {
      "text/plain": [
       "(39665,)"
      ]
     },
     "execution_count": 40,
     "metadata": {},
     "output_type": "execute_result"
    }
   ],
   "source": [
    "X_train.shape"
   ]
  },
  {
   "cell_type": "markdown",
   "id": "9bdd8ab1",
   "metadata": {
    "papermill": {
     "duration": 0.048871,
     "end_time": "2024-11-12T00:26:56.407444",
     "exception": false,
     "start_time": "2024-11-12T00:26:56.358573",
     "status": "completed"
    },
    "tags": []
   },
   "source": [
    "\n",
    "## <div style=\"text-align: left; background-color:aliceblue ; font-family: Trebuchet MS; color: black; padding: 15px; line-height:1;border-radius:1px; margin-bottom: 0em; text-align: center; font-size: 25px;border-style: solid;border-color: dark green;\"> Tokenize the data </div> "
   ]
  },
  {
   "cell_type": "code",
   "execution_count": 41,
   "id": "4f07c0cc",
   "metadata": {
    "execution": {
     "iopub.execute_input": "2024-11-12T00:26:56.505994Z",
     "iopub.status.busy": "2024-11-12T00:26:56.505728Z",
     "iopub.status.idle": "2024-11-12T00:26:56.509790Z",
     "shell.execute_reply": "2024-11-12T00:26:56.509071Z"
    },
    "papermill": {
     "duration": 0.055463,
     "end_time": "2024-11-12T00:26:56.511634",
     "exception": false,
     "start_time": "2024-11-12T00:26:56.456171",
     "status": "completed"
    },
    "tags": []
   },
   "outputs": [],
   "source": [
    "tokenizer = Tokenizer()"
   ]
  },
  {
   "cell_type": "code",
   "execution_count": 42,
   "id": "643b307f",
   "metadata": {
    "execution": {
     "iopub.execute_input": "2024-11-12T00:26:56.611611Z",
     "iopub.status.busy": "2024-11-12T00:26:56.611289Z",
     "iopub.status.idle": "2024-11-12T00:27:00.739644Z",
     "shell.execute_reply": "2024-11-12T00:27:00.738801Z"
    },
    "papermill": {
     "duration": 4.180731,
     "end_time": "2024-11-12T00:27:00.741974",
     "exception": false,
     "start_time": "2024-11-12T00:26:56.561243",
     "status": "completed"
    },
    "tags": []
   },
   "outputs": [],
   "source": [
    "tokenizer.fit_on_texts(X_train)"
   ]
  },
  {
   "cell_type": "code",
   "execution_count": 43,
   "id": "86f72467",
   "metadata": {
    "execution": {
     "iopub.execute_input": "2024-11-12T00:27:00.846459Z",
     "iopub.status.busy": "2024-11-12T00:27:00.846096Z",
     "iopub.status.idle": "2024-11-12T00:27:00.852271Z",
     "shell.execute_reply": "2024-11-12T00:27:00.851388Z"
    },
    "papermill": {
     "duration": 0.060934,
     "end_time": "2024-11-12T00:27:00.854551",
     "exception": false,
     "start_time": "2024-11-12T00:27:00.793617",
     "status": "completed"
    },
    "tags": []
   },
   "outputs": [
    {
     "data": {
      "text/plain": [
       "142120"
      ]
     },
     "execution_count": 43,
     "metadata": {},
     "output_type": "execute_result"
    }
   ],
   "source": [
    "len(tokenizer.word_index)"
   ]
  },
  {
   "cell_type": "code",
   "execution_count": 44,
   "id": "d50b6808",
   "metadata": {
    "execution": {
     "iopub.execute_input": "2024-11-12T00:27:00.958063Z",
     "iopub.status.busy": "2024-11-12T00:27:00.957739Z",
     "iopub.status.idle": "2024-11-12T00:27:00.963275Z",
     "shell.execute_reply": "2024-11-12T00:27:00.962503Z"
    },
    "papermill": {
     "duration": 0.058382,
     "end_time": "2024-11-12T00:27:00.965212",
     "exception": false,
     "start_time": "2024-11-12T00:27:00.906830",
     "status": "completed"
    },
    "tags": []
   },
   "outputs": [
    {
     "data": {
      "text/plain": [
       "39665"
      ]
     },
     "execution_count": 44,
     "metadata": {},
     "output_type": "execute_result"
    }
   ],
   "source": [
    "tokenizer.document_count"
   ]
  },
  {
   "cell_type": "code",
   "execution_count": 45,
   "id": "e24433f8",
   "metadata": {
    "execution": {
     "iopub.execute_input": "2024-11-12T00:27:01.065973Z",
     "iopub.status.busy": "2024-11-12T00:27:01.065726Z",
     "iopub.status.idle": "2024-11-12T00:27:04.764165Z",
     "shell.execute_reply": "2024-11-12T00:27:04.763387Z"
    },
    "papermill": {
     "duration": 3.75093,
     "end_time": "2024-11-12T00:27:04.766354",
     "exception": false,
     "start_time": "2024-11-12T00:27:01.015424",
     "status": "completed"
    },
    "tags": []
   },
   "outputs": [],
   "source": [
    "X_train = tokenizer.texts_to_sequences(X_train)\n",
    "X_test = tokenizer.texts_to_sequences(X_test)"
   ]
  },
  {
   "cell_type": "code",
   "execution_count": 46,
   "id": "34a156da",
   "metadata": {
    "execution": {
     "iopub.execute_input": "2024-11-12T00:27:04.868530Z",
     "iopub.status.busy": "2024-11-12T00:27:04.867770Z",
     "iopub.status.idle": "2024-11-12T00:27:04.873824Z",
     "shell.execute_reply": "2024-11-12T00:27:04.872945Z"
    },
    "papermill": {
     "duration": 0.060109,
     "end_time": "2024-11-12T00:27:04.876618",
     "exception": false,
     "start_time": "2024-11-12T00:27:04.816509",
     "status": "completed"
    },
    "tags": []
   },
   "outputs": [
    {
     "name": "stdout",
     "output_type": "stream",
     "text": [
      "12 2 2910 2522 68 51 9 44933 10250 3101 5885 2808 4903 462 12 17 176 10250 716 89 152 38 5632 718 44 635 105 181 26 16 257 204 246 9 2 2067 1016 15 1040 54 2545 36 5 19 1361 61 7 77 64 95 6 430 168 2 56 2047 18 3452 68 10 4 56 214 226 16 1234 34 31 77 7762 6 4 430 168 44934 "
     ]
    }
   ],
   "source": [
    "for num in X_train[0]:\n",
    "    print(num, end=' ')"
   ]
  },
  {
   "cell_type": "code",
   "execution_count": 47,
   "id": "daa40742",
   "metadata": {
    "execution": {
     "iopub.execute_input": "2024-11-12T00:27:04.976726Z",
     "iopub.status.busy": "2024-11-12T00:27:04.976443Z",
     "iopub.status.idle": "2024-11-12T00:27:04.981701Z",
     "shell.execute_reply": "2024-11-12T00:27:04.980899Z"
    },
    "papermill": {
     "duration": 0.057419,
     "end_time": "2024-11-12T00:27:04.983920",
     "exception": false,
     "start_time": "2024-11-12T00:27:04.926501",
     "status": "completed"
    },
    "tags": []
   },
   "outputs": [
    {
     "name": "stdout",
     "output_type": "stream",
     "text": [
      "get movie library saw lot actor like itjohn cleese ian holm ralph richardson etc get watch expect cleese large role since first billing surprised find five minute screen tear eye along everyone else like movie amazingly pointless character nobody plot nonexistent end one bad ending ever see funny part that be stay away movie want prevent go huh lot do not want waste tears eye ignore people say funny movieit be not stay away costsplease "
     ]
    }
   ],
   "source": [
    "# Print corresponding words horizontally\n",
    "for num in X_train[0]:\n",
    "    word = tokenizer.index_word.get(num, 'UNK')  \n",
    "    print(word, end=' ')"
   ]
  },
  {
   "cell_type": "markdown",
   "id": "66fa19a3",
   "metadata": {
    "papermill": {
     "duration": 0.049538,
     "end_time": "2024-11-12T00:27:05.083255",
     "exception": false,
     "start_time": "2024-11-12T00:27:05.033717",
     "status": "completed"
    },
    "tags": []
   },
   "source": [
    "## <div style=\"text-align: left; background-color:aliceblue ; font-family: Trebuchet MS; color: black; padding: 15px; line-height:1;border-radius:1px; margin-bottom: 0em; text-align: center; font-size: 25px;border-style: solid;border-color: dark green;\"> Padding the data </div> "
   ]
  },
  {
   "cell_type": "code",
   "execution_count": 48,
   "id": "7fda598a",
   "metadata": {
    "execution": {
     "iopub.execute_input": "2024-11-12T00:27:05.204390Z",
     "iopub.status.busy": "2024-11-12T00:27:05.203544Z",
     "iopub.status.idle": "2024-11-12T00:27:05.228001Z",
     "shell.execute_reply": "2024-11-12T00:27:05.226908Z"
    },
    "papermill": {
     "duration": 0.084346,
     "end_time": "2024-11-12T00:27:05.230129",
     "exception": false,
     "start_time": "2024-11-12T00:27:05.145783",
     "status": "completed"
    },
    "tags": []
   },
   "outputs": [
    {
     "name": "stdout",
     "output_type": "stream",
     "text": [
      "Maximum sequence length: 1466\n"
     ]
    }
   ],
   "source": [
    "max_length = 0\n",
    "for sequence in X_train:\n",
    "    # Calculate the length of the sequence\n",
    "    sequence_length = len(sequence)\n",
    "    # Update max_length if the current sequence length is greater\n",
    "    if sequence_length > max_length:\n",
    "        max_length = sequence_length\n",
    "\n",
    "print(\"Maximum sequence length:\", max_length)"
   ]
  },
  {
   "cell_type": "code",
   "execution_count": 49,
   "id": "bdb2b29d",
   "metadata": {
    "execution": {
     "iopub.execute_input": "2024-11-12T00:27:05.344078Z",
     "iopub.status.busy": "2024-11-12T00:27:05.343742Z",
     "iopub.status.idle": "2024-11-12T00:27:05.865487Z",
     "shell.execute_reply": "2024-11-12T00:27:05.864509Z"
    },
    "papermill": {
     "duration": 0.58815,
     "end_time": "2024-11-12T00:27:05.868892",
     "exception": false,
     "start_time": "2024-11-12T00:27:05.280742",
     "status": "completed"
    },
    "tags": []
   },
   "outputs": [],
   "source": [
    "X_train=pad_sequences(X_train,maxlen=100,padding=\"post\")\n",
    "X_test=pad_sequences(X_test,maxlen=100,padding=\"post\")"
   ]
  },
  {
   "cell_type": "code",
   "execution_count": 50,
   "id": "d0173b81",
   "metadata": {
    "execution": {
     "iopub.execute_input": "2024-11-12T00:27:05.984804Z",
     "iopub.status.busy": "2024-11-12T00:27:05.984479Z",
     "iopub.status.idle": "2024-11-12T00:27:05.991524Z",
     "shell.execute_reply": "2024-11-12T00:27:05.990527Z"
    },
    "papermill": {
     "duration": 0.063616,
     "end_time": "2024-11-12T00:27:05.993372",
     "exception": false,
     "start_time": "2024-11-12T00:27:05.929756",
     "status": "completed"
    },
    "tags": []
   },
   "outputs": [
    {
     "data": {
      "text/plain": [
       "array([   12,     2,  2910,  2522,    68,    51,     9, 44933, 10250,\n",
       "        3101,  5885,  2808,  4903,   462,    12,    17,   176, 10250,\n",
       "         716,    89,   152,    38,  5632,   718,    44,   635,   105,\n",
       "         181,    26,    16,   257,   204,   246,     9,     2,  2067,\n",
       "        1016,    15,  1040,    54,  2545,    36,     5,    19,  1361,\n",
       "          61,     7,    77,    64,    95,     6,   430,   168,     2,\n",
       "          56,  2047,    18,  3452,    68,    10,     4,    56,   214,\n",
       "         226,    16,  1234,    34,    31,    77,  7762,     6,     4,\n",
       "         430,   168, 44934,     0,     0,     0,     0,     0,     0,\n",
       "           0,     0,     0,     0,     0,     0,     0,     0,     0,\n",
       "           0,     0,     0,     0,     0,     0,     0,     0,     0,\n",
       "           0], dtype=int32)"
      ]
     },
     "execution_count": 50,
     "metadata": {},
     "output_type": "execute_result"
    }
   ],
   "source": [
    "X_train[0]"
   ]
  },
  {
   "cell_type": "code",
   "execution_count": 51,
   "id": "3862cf6d",
   "metadata": {
    "execution": {
     "iopub.execute_input": "2024-11-12T00:27:06.097383Z",
     "iopub.status.busy": "2024-11-12T00:27:06.096710Z",
     "iopub.status.idle": "2024-11-12T00:27:06.102923Z",
     "shell.execute_reply": "2024-11-12T00:27:06.101956Z"
    },
    "papermill": {
     "duration": 0.059343,
     "end_time": "2024-11-12T00:27:06.104782",
     "exception": false,
     "start_time": "2024-11-12T00:27:06.045439",
     "status": "completed"
    },
    "tags": []
   },
   "outputs": [
    {
     "data": {
      "text/plain": [
       "array([0, 0, 1, ..., 0, 0, 1])"
      ]
     },
     "execution_count": 51,
     "metadata": {},
     "output_type": "execute_result"
    }
   ],
   "source": [
    "y_train"
   ]
  },
  {
   "cell_type": "markdown",
   "id": "5034b48d",
   "metadata": {
    "papermill": {
     "duration": 0.049832,
     "end_time": "2024-11-12T00:27:06.206804",
     "exception": false,
     "start_time": "2024-11-12T00:27:06.156972",
     "status": "completed"
    },
    "tags": []
   },
   "source": [
    "\n",
    "## <div style=\"text-align: left; background-color:aliceblue ; font-family: Trebuchet MS; color: black; padding: 15px; line-height:1;border-radius:1px; margin-bottom: 0em; text-align: center; font-size: 25px;border-style: solid;border-color: dark green;\"> Modelling </div> "
   ]
  },
  {
   "cell_type": "markdown",
   "id": "58f3e130",
   "metadata": {
    "papermill": {
     "duration": 0.049519,
     "end_time": "2024-11-12T00:27:06.306177",
     "exception": false,
     "start_time": "2024-11-12T00:27:06.256658",
     "status": "completed"
    },
    "tags": []
   },
   "source": [
    "## <div style=\"text-align: left; background-color:aliceblue ; font-family: Trebuchet MS; color: black; padding: 15px; line-height:1;border-radius:1px; margin-bottom: 0em; text-align: center; font-size: 25px;border-style: solid;border-color: dark green;\"> Bidirectional RNN</div> "
   ]
  },
  {
   "cell_type": "code",
   "execution_count": 52,
   "id": "0ab225ce",
   "metadata": {
    "execution": {
     "iopub.execute_input": "2024-11-12T00:27:06.419723Z",
     "iopub.status.busy": "2024-11-12T00:27:06.418965Z",
     "iopub.status.idle": "2024-11-12T00:27:06.548247Z",
     "shell.execute_reply": "2024-11-12T00:27:06.547201Z"
    },
    "papermill": {
     "duration": 0.191273,
     "end_time": "2024-11-12T00:27:06.550380",
     "exception": false,
     "start_time": "2024-11-12T00:27:06.359107",
     "status": "completed"
    },
    "tags": []
   },
   "outputs": [
    {
     "name": "stderr",
     "output_type": "stream",
     "text": [
      "W0000 00:00:1731371226.447894      25 gpu_device.cc:2344] Cannot dlopen some GPU libraries. Please make sure the missing libraries mentioned above are installed properly if you would like to use GPU. Follow the guide at https://www.tensorflow.org/install/gpu for how to download and setup the required libraries for your platform.\n",
      "Skipping registering GPU devices...\n"
     ]
    },
    {
     "data": {
      "text/html": [
       "<pre style=\"white-space:pre;overflow-x:auto;line-height:normal;font-family:Menlo,'DejaVu Sans Mono',consolas,'Courier New',monospace\"><span style=\"font-weight: bold\">Model: \"sequential\"</span>\n",
       "</pre>\n"
      ],
      "text/plain": [
       "\u001b[1mModel: \"sequential\"\u001b[0m\n"
      ]
     },
     "metadata": {},
     "output_type": "display_data"
    },
    {
     "data": {
      "text/html": [
       "<pre style=\"white-space:pre;overflow-x:auto;line-height:normal;font-family:Menlo,'DejaVu Sans Mono',consolas,'Courier New',monospace\">┏━━━━━━━━━━━━━━━━━━━━━━━━━━━━━━━━━┳━━━━━━━━━━━━━━━━━━━━━━━━┳━━━━━━━━━━━━━━━┓\n",
       "┃<span style=\"font-weight: bold\"> Layer (type)                    </span>┃<span style=\"font-weight: bold\"> Output Shape           </span>┃<span style=\"font-weight: bold\">       Param # </span>┃\n",
       "┡━━━━━━━━━━━━━━━━━━━━━━━━━━━━━━━━━╇━━━━━━━━━━━━━━━━━━━━━━━━╇━━━━━━━━━━━━━━━┩\n",
       "│ embedding (<span style=\"color: #0087ff; text-decoration-color: #0087ff\">Embedding</span>)           │ ?                      │   <span style=\"color: #00af00; text-decoration-color: #00af00\">0</span> (unbuilt) │\n",
       "├─────────────────────────────────┼────────────────────────┼───────────────┤\n",
       "│ spatial_dropout1d               │ ?                      │             <span style=\"color: #00af00; text-decoration-color: #00af00\">0</span> │\n",
       "│ (<span style=\"color: #0087ff; text-decoration-color: #0087ff\">SpatialDropout1D</span>)              │                        │               │\n",
       "├─────────────────────────────────┼────────────────────────┼───────────────┤\n",
       "│ bidirectional (<span style=\"color: #0087ff; text-decoration-color: #0087ff\">Bidirectional</span>)   │ ?                      │   <span style=\"color: #00af00; text-decoration-color: #00af00\">0</span> (unbuilt) │\n",
       "├─────────────────────────────────┼────────────────────────┼───────────────┤\n",
       "│ dropout (<span style=\"color: #0087ff; text-decoration-color: #0087ff\">Dropout</span>)               │ ?                      │             <span style=\"color: #00af00; text-decoration-color: #00af00\">0</span> │\n",
       "├─────────────────────────────────┼────────────────────────┼───────────────┤\n",
       "│ batch_normalization             │ ?                      │   <span style=\"color: #00af00; text-decoration-color: #00af00\">0</span> (unbuilt) │\n",
       "│ (<span style=\"color: #0087ff; text-decoration-color: #0087ff\">BatchNormalization</span>)            │                        │               │\n",
       "├─────────────────────────────────┼────────────────────────┼───────────────┤\n",
       "│ bidirectional_1 (<span style=\"color: #0087ff; text-decoration-color: #0087ff\">Bidirectional</span>) │ ?                      │   <span style=\"color: #00af00; text-decoration-color: #00af00\">0</span> (unbuilt) │\n",
       "├─────────────────────────────────┼────────────────────────┼───────────────┤\n",
       "│ dropout_1 (<span style=\"color: #0087ff; text-decoration-color: #0087ff\">Dropout</span>)             │ ?                      │             <span style=\"color: #00af00; text-decoration-color: #00af00\">0</span> │\n",
       "├─────────────────────────────────┼────────────────────────┼───────────────┤\n",
       "│ batch_normalization_1           │ ?                      │   <span style=\"color: #00af00; text-decoration-color: #00af00\">0</span> (unbuilt) │\n",
       "│ (<span style=\"color: #0087ff; text-decoration-color: #0087ff\">BatchNormalization</span>)            │                        │               │\n",
       "├─────────────────────────────────┼────────────────────────┼───────────────┤\n",
       "│ simple_rnn_2 (<span style=\"color: #0087ff; text-decoration-color: #0087ff\">SimpleRNN</span>)        │ ?                      │   <span style=\"color: #00af00; text-decoration-color: #00af00\">0</span> (unbuilt) │\n",
       "├─────────────────────────────────┼────────────────────────┼───────────────┤\n",
       "│ dense (<span style=\"color: #0087ff; text-decoration-color: #0087ff\">Dense</span>)                   │ ?                      │   <span style=\"color: #00af00; text-decoration-color: #00af00\">0</span> (unbuilt) │\n",
       "├─────────────────────────────────┼────────────────────────┼───────────────┤\n",
       "│ dense_1 (<span style=\"color: #0087ff; text-decoration-color: #0087ff\">Dense</span>)                 │ ?                      │   <span style=\"color: #00af00; text-decoration-color: #00af00\">0</span> (unbuilt) │\n",
       "└─────────────────────────────────┴────────────────────────┴───────────────┘\n",
       "</pre>\n"
      ],
      "text/plain": [
       "┏━━━━━━━━━━━━━━━━━━━━━━━━━━━━━━━━━┳━━━━━━━━━━━━━━━━━━━━━━━━┳━━━━━━━━━━━━━━━┓\n",
       "┃\u001b[1m \u001b[0m\u001b[1mLayer (type)                   \u001b[0m\u001b[1m \u001b[0m┃\u001b[1m \u001b[0m\u001b[1mOutput Shape          \u001b[0m\u001b[1m \u001b[0m┃\u001b[1m \u001b[0m\u001b[1m      Param #\u001b[0m\u001b[1m \u001b[0m┃\n",
       "┡━━━━━━━━━━━━━━━━━━━━━━━━━━━━━━━━━╇━━━━━━━━━━━━━━━━━━━━━━━━╇━━━━━━━━━━━━━━━┩\n",
       "│ embedding (\u001b[38;5;33mEmbedding\u001b[0m)           │ ?                      │   \u001b[38;5;34m0\u001b[0m (unbuilt) │\n",
       "├─────────────────────────────────┼────────────────────────┼───────────────┤\n",
       "│ spatial_dropout1d               │ ?                      │             \u001b[38;5;34m0\u001b[0m │\n",
       "│ (\u001b[38;5;33mSpatialDropout1D\u001b[0m)              │                        │               │\n",
       "├─────────────────────────────────┼────────────────────────┼───────────────┤\n",
       "│ bidirectional (\u001b[38;5;33mBidirectional\u001b[0m)   │ ?                      │   \u001b[38;5;34m0\u001b[0m (unbuilt) │\n",
       "├─────────────────────────────────┼────────────────────────┼───────────────┤\n",
       "│ dropout (\u001b[38;5;33mDropout\u001b[0m)               │ ?                      │             \u001b[38;5;34m0\u001b[0m │\n",
       "├─────────────────────────────────┼────────────────────────┼───────────────┤\n",
       "│ batch_normalization             │ ?                      │   \u001b[38;5;34m0\u001b[0m (unbuilt) │\n",
       "│ (\u001b[38;5;33mBatchNormalization\u001b[0m)            │                        │               │\n",
       "├─────────────────────────────────┼────────────────────────┼───────────────┤\n",
       "│ bidirectional_1 (\u001b[38;5;33mBidirectional\u001b[0m) │ ?                      │   \u001b[38;5;34m0\u001b[0m (unbuilt) │\n",
       "├─────────────────────────────────┼────────────────────────┼───────────────┤\n",
       "│ dropout_1 (\u001b[38;5;33mDropout\u001b[0m)             │ ?                      │             \u001b[38;5;34m0\u001b[0m │\n",
       "├─────────────────────────────────┼────────────────────────┼───────────────┤\n",
       "│ batch_normalization_1           │ ?                      │   \u001b[38;5;34m0\u001b[0m (unbuilt) │\n",
       "│ (\u001b[38;5;33mBatchNormalization\u001b[0m)            │                        │               │\n",
       "├─────────────────────────────────┼────────────────────────┼───────────────┤\n",
       "│ simple_rnn_2 (\u001b[38;5;33mSimpleRNN\u001b[0m)        │ ?                      │   \u001b[38;5;34m0\u001b[0m (unbuilt) │\n",
       "├─────────────────────────────────┼────────────────────────┼───────────────┤\n",
       "│ dense (\u001b[38;5;33mDense\u001b[0m)                   │ ?                      │   \u001b[38;5;34m0\u001b[0m (unbuilt) │\n",
       "├─────────────────────────────────┼────────────────────────┼───────────────┤\n",
       "│ dense_1 (\u001b[38;5;33mDense\u001b[0m)                 │ ?                      │   \u001b[38;5;34m0\u001b[0m (unbuilt) │\n",
       "└─────────────────────────────────┴────────────────────────┴───────────────┘\n"
      ]
     },
     "metadata": {},
     "output_type": "display_data"
    },
    {
     "data": {
      "text/html": [
       "<pre style=\"white-space:pre;overflow-x:auto;line-height:normal;font-family:Menlo,'DejaVu Sans Mono',consolas,'Courier New',monospace\"><span style=\"font-weight: bold\"> Total params: </span><span style=\"color: #00af00; text-decoration-color: #00af00\">0</span> (0.00 B)\n",
       "</pre>\n"
      ],
      "text/plain": [
       "\u001b[1m Total params: \u001b[0m\u001b[38;5;34m0\u001b[0m (0.00 B)\n"
      ]
     },
     "metadata": {},
     "output_type": "display_data"
    },
    {
     "data": {
      "text/html": [
       "<pre style=\"white-space:pre;overflow-x:auto;line-height:normal;font-family:Menlo,'DejaVu Sans Mono',consolas,'Courier New',monospace\"><span style=\"font-weight: bold\"> Trainable params: </span><span style=\"color: #00af00; text-decoration-color: #00af00\">0</span> (0.00 B)\n",
       "</pre>\n"
      ],
      "text/plain": [
       "\u001b[1m Trainable params: \u001b[0m\u001b[38;5;34m0\u001b[0m (0.00 B)\n"
      ]
     },
     "metadata": {},
     "output_type": "display_data"
    },
    {
     "data": {
      "text/html": [
       "<pre style=\"white-space:pre;overflow-x:auto;line-height:normal;font-family:Menlo,'DejaVu Sans Mono',consolas,'Courier New',monospace\"><span style=\"font-weight: bold\"> Non-trainable params: </span><span style=\"color: #00af00; text-decoration-color: #00af00\">0</span> (0.00 B)\n",
       "</pre>\n"
      ],
      "text/plain": [
       "\u001b[1m Non-trainable params: \u001b[0m\u001b[38;5;34m0\u001b[0m (0.00 B)\n"
      ]
     },
     "metadata": {},
     "output_type": "display_data"
    }
   ],
   "source": [
    "# Define the model\n",
    "RNN_model = Sequential()\n",
    "RNN_model.add(Embedding(input_dim=len(tokenizer.word_index)+1, output_dim=100, input_length=100))\n",
    "RNN_model.add(SpatialDropout1D(0.2))\n",
    "RNN_model.add(Bidirectional(SimpleRNN(64, return_sequences=True)))\n",
    "RNN_model.add(Dropout(0.2))\n",
    "RNN_model.add(BatchNormalization())\n",
    "RNN_model.add(Bidirectional(SimpleRNN(32, return_sequences=True)))\n",
    "RNN_model.add(Dropout(0.2))\n",
    "RNN_model.add(BatchNormalization())\n",
    "RNN_model.add(SimpleRNN(16, return_sequences=False))\n",
    "\n",
    "# Continue with other layers\n",
    "RNN_model.add(Dense(64, activation='relu', kernel_regularizer=l2(0.01)))\n",
    "RNN_model.add(Dense(1, activation='sigmoid'))\n",
    "\n",
    "# Summarize the model\n",
    "RNN_model.summary()\n"
   ]
  },
  {
   "cell_type": "code",
   "execution_count": 53,
   "id": "8cac6443",
   "metadata": {
    "execution": {
     "iopub.execute_input": "2024-11-12T00:27:06.655615Z",
     "iopub.status.busy": "2024-11-12T00:27:06.655248Z",
     "iopub.status.idle": "2024-11-12T01:09:28.004830Z",
     "shell.execute_reply": "2024-11-12T01:09:28.003986Z"
    },
    "papermill": {
     "duration": 2541.403121,
     "end_time": "2024-11-12T01:09:28.006847",
     "exception": false,
     "start_time": "2024-11-12T00:27:06.603726",
     "status": "completed"
    },
    "tags": []
   },
   "outputs": [
    {
     "name": "stdout",
     "output_type": "stream",
     "text": [
      "Epoch 1/10\n",
      "\u001b[1m1240/1240\u001b[0m \u001b[32m━━━━━━━━━━━━━━━━━━━━\u001b[0m\u001b[37m\u001b[0m \u001b[1m253s\u001b[0m 198ms/step - accuracy: 0.5071 - loss: 0.7957 - val_accuracy: 0.5029 - val_loss: 0.6956\n",
      "Epoch 2/10\n",
      "\u001b[1m1240/1240\u001b[0m \u001b[32m━━━━━━━━━━━━━━━━━━━━\u001b[0m\u001b[37m\u001b[0m \u001b[1m248s\u001b[0m 200ms/step - accuracy: 0.5049 - loss: 0.6945 - val_accuracy: 0.5332 - val_loss: 0.6874\n",
      "Epoch 3/10\n",
      "\u001b[1m1240/1240\u001b[0m \u001b[32m━━━━━━━━━━━━━━━━━━━━\u001b[0m\u001b[37m\u001b[0m \u001b[1m248s\u001b[0m 200ms/step - accuracy: 0.5811 - loss: 0.6665 - val_accuracy: 0.6170 - val_loss: 0.6627\n",
      "Epoch 4/10\n",
      "\u001b[1m1240/1240\u001b[0m \u001b[32m━━━━━━━━━━━━━━━━━━━━\u001b[0m\u001b[37m\u001b[0m \u001b[1m264s\u001b[0m 202ms/step - accuracy: 0.6320 - loss: 0.6281 - val_accuracy: 0.5725 - val_loss: 0.6668\n",
      "Epoch 5/10\n",
      "\u001b[1m1240/1240\u001b[0m \u001b[32m━━━━━━━━━━━━━━━━━━━━\u001b[0m\u001b[37m\u001b[0m \u001b[1m250s\u001b[0m 202ms/step - accuracy: 0.6496 - loss: 0.5851 - val_accuracy: 0.6830 - val_loss: 0.6293\n",
      "Epoch 6/10\n",
      "\u001b[1m1240/1240\u001b[0m \u001b[32m━━━━━━━━━━━━━━━━━━━━\u001b[0m\u001b[37m\u001b[0m \u001b[1m262s\u001b[0m 202ms/step - accuracy: 0.6865 - loss: 0.5595 - val_accuracy: 0.6204 - val_loss: 0.6568\n",
      "Epoch 7/10\n",
      "\u001b[1m1240/1240\u001b[0m \u001b[32m━━━━━━━━━━━━━━━━━━━━\u001b[0m\u001b[37m\u001b[0m \u001b[1m263s\u001b[0m 203ms/step - accuracy: 0.6805 - loss: 0.5462 - val_accuracy: 0.7248 - val_loss: 0.6197\n",
      "Epoch 8/10\n",
      "\u001b[1m1240/1240\u001b[0m \u001b[32m━━━━━━━━━━━━━━━━━━━━\u001b[0m\u001b[37m\u001b[0m \u001b[1m250s\u001b[0m 202ms/step - accuracy: 0.7648 - loss: 0.4928 - val_accuracy: 0.6267 - val_loss: 0.6715\n",
      "Epoch 9/10\n",
      "\u001b[1m1240/1240\u001b[0m \u001b[32m━━━━━━━━━━━━━━━━━━━━\u001b[0m\u001b[37m\u001b[0m \u001b[1m251s\u001b[0m 202ms/step - accuracy: 0.7011 - loss: 0.5109 - val_accuracy: 0.7148 - val_loss: 0.5994\n",
      "Epoch 10/10\n",
      "\u001b[1m1240/1240\u001b[0m \u001b[32m━━━━━━━━━━━━━━━━━━━━\u001b[0m\u001b[37m\u001b[0m \u001b[1m251s\u001b[0m 203ms/step - accuracy: 0.7585 - loss: 0.4780 - val_accuracy: 0.7148 - val_loss: 0.6035\n"
     ]
    }
   ],
   "source": [
    "RNN_model.compile(loss='binary_crossentropy', optimizer='adam', metrics=['accuracy'])\n",
    "\n",
    "history = RNN_model.fit(X_train, y_train, epochs=10, batch_size=32, validation_data=(X_test, y_test))\n"
   ]
  },
  {
   "cell_type": "code",
   "execution_count": 54,
   "id": "0bab2de1",
   "metadata": {
    "execution": {
     "iopub.execute_input": "2024-11-12T01:09:30.227604Z",
     "iopub.status.busy": "2024-11-12T01:09:30.227221Z",
     "iopub.status.idle": "2024-11-12T01:09:30.580301Z",
     "shell.execute_reply": "2024-11-12T01:09:30.579407Z"
    },
    "papermill": {
     "duration": 1.49722,
     "end_time": "2024-11-12T01:09:30.582543",
     "exception": false,
     "start_time": "2024-11-12T01:09:29.085323",
     "status": "completed"
    },
    "tags": []
   },
   "outputs": [
    {
     "data": {
      "image/png": "[encoded data removed]",
      "text/plain": [
       "<Figure size 640x480 with 1 Axes>"
      ]
     },
     "metadata": {},
     "output_type": "display_data"
    }
   ],
   "source": [
    "# Plot training & validation accuracy values\n",
    "plt.plot(history.history['accuracy'])\n",
    "plt.plot(history.history['val_accuracy'])\n",
    "plt.title('Model accuracy')\n",
    "plt.ylabel('Accuracy')\n",
    "plt.xlabel('Epoch')\n",
    "plt.legend(['Train', 'Validation'], loc='upper left')\n",
    "plt.show()"
   ]
  },
  {
   "cell_type": "code",
   "execution_count": 55,
   "id": "4f0f284d",
   "metadata": {
    "execution": {
     "iopub.execute_input": "2024-11-12T01:09:32.787019Z",
     "iopub.status.busy": "2024-11-12T01:09:32.786663Z",
     "iopub.status.idle": "2024-11-12T01:09:33.098259Z",
     "shell.execute_reply": "2024-11-12T01:09:33.097292Z"
    },
    "papermill": {
     "duration": 1.44362,
     "end_time": "2024-11-12T01:09:33.100525",
     "exception": false,
     "start_time": "2024-11-12T01:09:31.656905",
     "status": "completed"
    },
    "tags": []
   },
   "outputs": [
    {
     "data": {
      "image/png": "[encoded data removed]",
      "text/plain": [
       "<Figure size 640x480 with 1 Axes>"
      ]
     },
     "metadata": {},
     "output_type": "display_data"
    }
   ],
   "source": [
    "# Plot training & validation accuracy values\n",
    "plt.plot(history.history['loss'])\n",
    "plt.plot(history.history['val_loss'])\n",
    "plt.title('Model loss')\n",
    "plt.ylabel('loss')\n",
    "plt.xlabel('Epoch')\n",
    "plt.legend(['Train', 'Validation'], loc='upper left')\n",
    "plt.show()"
   ]
  },
  {
   "cell_type": "markdown",
   "id": "d6147258",
   "metadata": {
    "papermill": {
     "duration": 1.145329,
     "end_time": "2024-11-12T01:09:35.470407",
     "exception": false,
     "start_time": "2024-11-12T01:09:34.325078",
     "status": "completed"
    },
    "tags": []
   },
   "source": [
    "## <div style=\"text-align: left; background-color:aliceblue ; font-family: Trebuchet MS; color: black; padding: 15px; line-height:1;border-radius:1px; margin-bottom: 0em; text-align: center; font-size: 25px;border-style: solid;border-color: dark green;\"> LSTM </div> "
   ]
  },
  {
   "cell_type": "code",
   "execution_count": 56,
   "id": "72aa97db",
   "metadata": {
    "execution": {
     "iopub.execute_input": "2024-11-12T01:09:37.698243Z",
     "iopub.status.busy": "2024-11-12T01:09:37.697317Z",
     "iopub.status.idle": "2024-11-12T01:09:37.733666Z",
     "shell.execute_reply": "2024-11-12T01:09:37.732885Z"
    },
    "papermill": {
     "duration": 1.174193,
     "end_time": "2024-11-12T01:09:37.735718",
     "exception": false,
     "start_time": "2024-11-12T01:09:36.561525",
     "status": "completed"
    },
    "tags": []
   },
   "outputs": [
    {
     "data": {
      "text/html": [
       "<pre style=\"white-space:pre;overflow-x:auto;line-height:normal;font-family:Menlo,'DejaVu Sans Mono',consolas,'Courier New',monospace\"><span style=\"font-weight: bold\">Model: \"sequential_1\"</span>\n",
       "</pre>\n"
      ],
      "text/plain": [
       "\u001b[1mModel: \"sequential_1\"\u001b[0m\n"
      ]
     },
     "metadata": {},
     "output_type": "display_data"
    },
    {
     "data": {
      "text/html": [
       "<pre style=\"white-space:pre;overflow-x:auto;line-height:normal;font-family:Menlo,'DejaVu Sans Mono',consolas,'Courier New',monospace\">┏━━━━━━━━━━━━━━━━━━━━━━━━━━━━━━━━━┳━━━━━━━━━━━━━━━━━━━━━━━━┳━━━━━━━━━━━━━━━┓\n",
       "┃<span style=\"font-weight: bold\"> Layer (type)                    </span>┃<span style=\"font-weight: bold\"> Output Shape           </span>┃<span style=\"font-weight: bold\">       Param # </span>┃\n",
       "┡━━━━━━━━━━━━━━━━━━━━━━━━━━━━━━━━━╇━━━━━━━━━━━━━━━━━━━━━━━━╇━━━━━━━━━━━━━━━┩\n",
       "│ embedding_1 (<span style=\"color: #0087ff; text-decoration-color: #0087ff\">Embedding</span>)         │ ?                      │   <span style=\"color: #00af00; text-decoration-color: #00af00\">0</span> (unbuilt) │\n",
       "├─────────────────────────────────┼────────────────────────┼───────────────┤\n",
       "│ spatial_dropout1d_1             │ ?                      │             <span style=\"color: #00af00; text-decoration-color: #00af00\">0</span> │\n",
       "│ (<span style=\"color: #0087ff; text-decoration-color: #0087ff\">SpatialDropout1D</span>)              │                        │               │\n",
       "├─────────────────────────────────┼────────────────────────┼───────────────┤\n",
       "│ lstm (<span style=\"color: #0087ff; text-decoration-color: #0087ff\">LSTM</span>)                     │ ?                      │   <span style=\"color: #00af00; text-decoration-color: #00af00\">0</span> (unbuilt) │\n",
       "├─────────────────────────────────┼────────────────────────┼───────────────┤\n",
       "│ dropout_2 (<span style=\"color: #0087ff; text-decoration-color: #0087ff\">Dropout</span>)             │ ?                      │             <span style=\"color: #00af00; text-decoration-color: #00af00\">0</span> │\n",
       "├─────────────────────────────────┼────────────────────────┼───────────────┤\n",
       "│ batch_normalization_2           │ ?                      │   <span style=\"color: #00af00; text-decoration-color: #00af00\">0</span> (unbuilt) │\n",
       "│ (<span style=\"color: #0087ff; text-decoration-color: #0087ff\">BatchNormalization</span>)            │                        │               │\n",
       "├─────────────────────────────────┼────────────────────────┼───────────────┤\n",
       "│ dense_2 (<span style=\"color: #0087ff; text-decoration-color: #0087ff\">Dense</span>)                 │ ?                      │   <span style=\"color: #00af00; text-decoration-color: #00af00\">0</span> (unbuilt) │\n",
       "└─────────────────────────────────┴────────────────────────┴───────────────┘\n",
       "</pre>\n"
      ],
      "text/plain": [
       "┏━━━━━━━━━━━━━━━━━━━━━━━━━━━━━━━━━┳━━━━━━━━━━━━━━━━━━━━━━━━┳━━━━━━━━━━━━━━━┓\n",
       "┃\u001b[1m \u001b[0m\u001b[1mLayer (type)                   \u001b[0m\u001b[1m \u001b[0m┃\u001b[1m \u001b[0m\u001b[1mOutput Shape          \u001b[0m\u001b[1m \u001b[0m┃\u001b[1m \u001b[0m\u001b[1m      Param #\u001b[0m\u001b[1m \u001b[0m┃\n",
       "┡━━━━━━━━━━━━━━━━━━━━━━━━━━━━━━━━━╇━━━━━━━━━━━━━━━━━━━━━━━━╇━━━━━━━━━━━━━━━┩\n",
       "│ embedding_1 (\u001b[38;5;33mEmbedding\u001b[0m)         │ ?                      │   \u001b[38;5;34m0\u001b[0m (unbuilt) │\n",
       "├─────────────────────────────────┼────────────────────────┼───────────────┤\n",
       "│ spatial_dropout1d_1             │ ?                      │             \u001b[38;5;34m0\u001b[0m │\n",
       "│ (\u001b[38;5;33mSpatialDropout1D\u001b[0m)              │                        │               │\n",
       "├─────────────────────────────────┼────────────────────────┼───────────────┤\n",
       "│ lstm (\u001b[38;5;33mLSTM\u001b[0m)                     │ ?                      │   \u001b[38;5;34m0\u001b[0m (unbuilt) │\n",
       "├─────────────────────────────────┼────────────────────────┼───────────────┤\n",
       "│ dropout_2 (\u001b[38;5;33mDropout\u001b[0m)             │ ?                      │             \u001b[38;5;34m0\u001b[0m │\n",
       "├─────────────────────────────────┼────────────────────────┼───────────────┤\n",
       "│ batch_normalization_2           │ ?                      │   \u001b[38;5;34m0\u001b[0m (unbuilt) │\n",
       "│ (\u001b[38;5;33mBatchNormalization\u001b[0m)            │                        │               │\n",
       "├─────────────────────────────────┼────────────────────────┼───────────────┤\n",
       "│ dense_2 (\u001b[38;5;33mDense\u001b[0m)                 │ ?                      │   \u001b[38;5;34m0\u001b[0m (unbuilt) │\n",
       "└─────────────────────────────────┴────────────────────────┴───────────────┘\n"
      ]
     },
     "metadata": {},
     "output_type": "display_data"
    },
    {
     "data": {
      "text/html": [
       "<pre style=\"white-space:pre;overflow-x:auto;line-height:normal;font-family:Menlo,'DejaVu Sans Mono',consolas,'Courier New',monospace\"><span style=\"font-weight: bold\"> Total params: </span><span style=\"color: #00af00; text-decoration-color: #00af00\">0</span> (0.00 B)\n",
       "</pre>\n"
      ],
      "text/plain": [
       "\u001b[1m Total params: \u001b[0m\u001b[38;5;34m0\u001b[0m (0.00 B)\n"
      ]
     },
     "metadata": {},
     "output_type": "display_data"
    },
    {
     "data": {
      "text/html": [
       "<pre style=\"white-space:pre;overflow-x:auto;line-height:normal;font-family:Menlo,'DejaVu Sans Mono',consolas,'Courier New',monospace\"><span style=\"font-weight: bold\"> Trainable params: </span><span style=\"color: #00af00; text-decoration-color: #00af00\">0</span> (0.00 B)\n",
       "</pre>\n"
      ],
      "text/plain": [
       "\u001b[1m Trainable params: \u001b[0m\u001b[38;5;34m0\u001b[0m (0.00 B)\n"
      ]
     },
     "metadata": {},
     "output_type": "display_data"
    },
    {
     "data": {
      "text/html": [
       "<pre style=\"white-space:pre;overflow-x:auto;line-height:normal;font-family:Menlo,'DejaVu Sans Mono',consolas,'Courier New',monospace\"><span style=\"font-weight: bold\"> Non-trainable params: </span><span style=\"color: #00af00; text-decoration-color: #00af00\">0</span> (0.00 B)\n",
       "</pre>\n"
      ],
      "text/plain": [
       "\u001b[1m Non-trainable params: \u001b[0m\u001b[38;5;34m0\u001b[0m (0.00 B)\n"
      ]
     },
     "metadata": {},
     "output_type": "display_data"
    }
   ],
   "source": [
    "# Define the model\n",
    "lstm_model = Sequential()\n",
    "lstm_model.add(Embedding(input_dim=len(tokenizer.word_index)+1, output_dim=100, input_length=100))\n",
    "lstm_model.add(SpatialDropout1D(0.5))\n",
    "lstm_model.add(LSTM(5, return_sequences=False))\n",
    "lstm_model.add(Dropout(0.5))\n",
    "lstm_model.add(BatchNormalization())\n",
    "\n",
    "\n",
    "lstm_model.add(Dense(1, activation='sigmoid'))\n",
    "\n",
    "# Summarize the model\n",
    "lstm_model.summary()"
   ]
  },
  {
   "cell_type": "code",
   "execution_count": 57,
   "id": "ddcc8431",
   "metadata": {
    "execution": {
     "iopub.execute_input": "2024-11-12T01:09:40.030903Z",
     "iopub.status.busy": "2024-11-12T01:09:40.029962Z",
     "iopub.status.idle": "2024-11-12T01:17:26.848977Z",
     "shell.execute_reply": "2024-11-12T01:17:26.848125Z"
    },
    "papermill": {
     "duration": 467.978307,
     "end_time": "2024-11-12T01:17:26.851263",
     "exception": false,
     "start_time": "2024-11-12T01:09:38.872956",
     "status": "completed"
    },
    "tags": []
   },
   "outputs": [
    {
     "name": "stdout",
     "output_type": "stream",
     "text": [
      "Epoch 1/10\n",
      "\u001b[1m310/310\u001b[0m \u001b[32m━━━━━━━━━━━━━━━━━━━━\u001b[0m\u001b[37m\u001b[0m \u001b[1m49s\u001b[0m 148ms/step - accuracy: 0.5340 - loss: 0.7420 - val_accuracy: 0.5977 - val_loss: 0.6695\n",
      "Epoch 2/10\n",
      "\u001b[1m310/310\u001b[0m \u001b[32m━━━━━━━━━━━━━━━━━━━━\u001b[0m\u001b[37m\u001b[0m \u001b[1m47s\u001b[0m 151ms/step - accuracy: 0.6659 - loss: 0.5791 - val_accuracy: 0.8554 - val_loss: 0.3800\n",
      "Epoch 3/10\n",
      "\u001b[1m310/310\u001b[0m \u001b[32m━━━━━━━━━━━━━━━━━━━━\u001b[0m\u001b[37m\u001b[0m \u001b[1m46s\u001b[0m 150ms/step - accuracy: 0.8311 - loss: 0.4224 - val_accuracy: 0.8570 - val_loss: 0.3820\n",
      "Epoch 4/10\n",
      "\u001b[1m310/310\u001b[0m \u001b[32m━━━━━━━━━━━━━━━━━━━━\u001b[0m\u001b[37m\u001b[0m \u001b[1m46s\u001b[0m 150ms/step - accuracy: 0.8988 - loss: 0.3203 - val_accuracy: 0.8646 - val_loss: 0.3628\n",
      "Epoch 5/10\n",
      "\u001b[1m310/310\u001b[0m \u001b[32m━━━━━━━━━━━━━━━━━━━━\u001b[0m\u001b[37m\u001b[0m \u001b[1m47s\u001b[0m 150ms/step - accuracy: 0.8993 - loss: 0.3105 - val_accuracy: 0.8649 - val_loss: 0.3728\n",
      "Epoch 6/10\n",
      "\u001b[1m310/310\u001b[0m \u001b[32m━━━━━━━━━━━━━━━━━━━━\u001b[0m\u001b[37m\u001b[0m \u001b[1m46s\u001b[0m 148ms/step - accuracy: 0.8588 - loss: 0.3555 - val_accuracy: 0.8544 - val_loss: 0.4043\n",
      "Epoch 7/10\n",
      "\u001b[1m310/310\u001b[0m \u001b[32m━━━━━━━━━━━━━━━━━━━━\u001b[0m\u001b[37m\u001b[0m \u001b[1m47s\u001b[0m 150ms/step - accuracy: 0.8974 - loss: 0.3080 - val_accuracy: 0.8548 - val_loss: 0.4019\n",
      "Epoch 8/10\n",
      "\u001b[1m310/310\u001b[0m \u001b[32m━━━━━━━━━━━━━━━━━━━━\u001b[0m\u001b[37m\u001b[0m \u001b[1m46s\u001b[0m 149ms/step - accuracy: 0.8989 - loss: 0.2975 - val_accuracy: 0.8568 - val_loss: 0.4109\n",
      "Epoch 9/10\n",
      "\u001b[1m310/310\u001b[0m \u001b[32m━━━━━━━━━━━━━━━━━━━━\u001b[0m\u001b[37m\u001b[0m \u001b[1m47s\u001b[0m 151ms/step - accuracy: 0.9093 - loss: 0.2774 - val_accuracy: 0.8543 - val_loss: 0.4223\n",
      "Epoch 10/10\n",
      "\u001b[1m310/310\u001b[0m \u001b[32m━━━━━━━━━━━━━━━━━━━━\u001b[0m\u001b[37m\u001b[0m \u001b[1m46s\u001b[0m 148ms/step - accuracy: 0.9103 - loss: 0.2775 - val_accuracy: 0.8592 - val_loss: 0.4103\n"
     ]
    }
   ],
   "source": [
    "lstm_model.compile(loss='binary_crossentropy', optimizer='adam', metrics=['accuracy'])\n",
    "\n",
    "history = lstm_model.fit(X_train, y_train, epochs=10, batch_size=128, validation_data=(X_test, y_test))\n"
   ]
  },
  {
   "cell_type": "code",
   "execution_count": 58,
   "id": "236d720c",
   "metadata": {
    "execution": {
     "iopub.execute_input": "2024-11-12T01:17:29.590840Z",
     "iopub.status.busy": "2024-11-12T01:17:29.590448Z",
     "iopub.status.idle": "2024-11-12T01:17:29.901363Z",
     "shell.execute_reply": "2024-11-12T01:17:29.900385Z"
    },
    "papermill": {
     "duration": 1.652528,
     "end_time": "2024-11-12T01:17:29.903641",
     "exception": false,
     "start_time": "2024-11-12T01:17:28.251113",
     "status": "completed"
    },
    "tags": []
   },
   "outputs": [
    {
     "data": {
      "image/png": "[encoded data removed]",
      "text/plain": [
       "<Figure size 640x480 with 1 Axes>"
      ]
     },
     "metadata": {},
     "output_type": "display_data"
    }
   ],
   "source": [
    "# Plot training & validation accuracy values\n",
    "plt.plot(history.history['accuracy'])\n",
    "plt.plot(history.history['val_accuracy'])\n",
    "plt.title('Model accuracy')\n",
    "plt.ylabel('Accuracy')\n",
    "plt.xlabel('Epoch')\n",
    "plt.legend(['Train', 'Validation'], loc='upper left')\n",
    "plt.show()"
   ]
  },
  {
   "cell_type": "code",
   "execution_count": 59,
   "id": "28d6a31e",
   "metadata": {
    "execution": {
     "iopub.execute_input": "2024-11-12T01:17:32.633054Z",
     "iopub.status.busy": "2024-11-12T01:17:32.632214Z",
     "iopub.status.idle": "2024-11-12T01:17:32.912948Z",
     "shell.execute_reply": "2024-11-12T01:17:32.912048Z"
    },
    "papermill": {
     "duration": 1.616975,
     "end_time": "2024-11-12T01:17:32.914909",
     "exception": false,
     "start_time": "2024-11-12T01:17:31.297934",
     "status": "completed"
    },
    "tags": []
   },
   "outputs": [
    {
     "data": {
      "image/png": "[encoded data removed]",
      "text/plain": [
       "<Figure size 640x480 with 1 Axes>"
      ]
     },
     "metadata": {},
     "output_type": "display_data"
    }
   ],
   "source": [
    "# Plot training & validation accuracy values\n",
    "plt.plot(history.history['loss'])\n",
    "plt.plot(history.history['val_loss'])\n",
    "plt.title('Model loss')\n",
    "plt.ylabel('loss')\n",
    "plt.xlabel('Epoch')\n",
    "plt.legend(['Train', 'Validation'], loc='upper left')\n",
    "plt.show()"
   ]
  },
  {
   "cell_type": "markdown",
   "id": "4beeb3a7",
   "metadata": {
    "papermill": {
     "duration": 1.331006,
     "end_time": "2024-11-12T01:17:35.744627",
     "exception": false,
     "start_time": "2024-11-12T01:17:34.413621",
     "status": "completed"
    },
    "tags": []
   },
   "source": [
    "## <div style=\"text-align: left; background-color:aliceblue ; font-family: Trebuchet MS; color: black; padding: 15px; line-height:1;border-radius:1px; margin-bottom: 0em; text-align: center; font-size: 25px;border-style: solid;border-color: dark green;\"> GRU</div> "
   ]
  },
  {
   "cell_type": "code",
   "execution_count": 60,
   "id": "e301a05b",
   "metadata": {
    "execution": {
     "iopub.execute_input": "2024-11-12T01:17:38.540919Z",
     "iopub.status.busy": "2024-11-12T01:17:38.540536Z",
     "iopub.status.idle": "2024-11-12T01:17:38.573084Z",
     "shell.execute_reply": "2024-11-12T01:17:38.572238Z"
    },
    "papermill": {
     "duration": 1.364268,
     "end_time": "2024-11-12T01:17:38.575040",
     "exception": false,
     "start_time": "2024-11-12T01:17:37.210772",
     "status": "completed"
    },
    "tags": []
   },
   "outputs": [
    {
     "data": {
      "text/html": [
       "<pre style=\"white-space:pre;overflow-x:auto;line-height:normal;font-family:Menlo,'DejaVu Sans Mono',consolas,'Courier New',monospace\"><span style=\"font-weight: bold\">Model: \"sequential_2\"</span>\n",
       "</pre>\n"
      ],
      "text/plain": [
       "\u001b[1mModel: \"sequential_2\"\u001b[0m\n"
      ]
     },
     "metadata": {},
     "output_type": "display_data"
    },
    {
     "data": {
      "text/html": [
       "<pre style=\"white-space:pre;overflow-x:auto;line-height:normal;font-family:Menlo,'DejaVu Sans Mono',consolas,'Courier New',monospace\">┏━━━━━━━━━━━━━━━━━━━━━━━━━━━━━━━━━┳━━━━━━━━━━━━━━━━━━━━━━━━┳━━━━━━━━━━━━━━━┓\n",
       "┃<span style=\"font-weight: bold\"> Layer (type)                    </span>┃<span style=\"font-weight: bold\"> Output Shape           </span>┃<span style=\"font-weight: bold\">       Param # </span>┃\n",
       "┡━━━━━━━━━━━━━━━━━━━━━━━━━━━━━━━━━╇━━━━━━━━━━━━━━━━━━━━━━━━╇━━━━━━━━━━━━━━━┩\n",
       "│ embedding_2 (<span style=\"color: #0087ff; text-decoration-color: #0087ff\">Embedding</span>)         │ ?                      │   <span style=\"color: #00af00; text-decoration-color: #00af00\">0</span> (unbuilt) │\n",
       "├─────────────────────────────────┼────────────────────────┼───────────────┤\n",
       "│ spatial_dropout1d_2             │ ?                      │             <span style=\"color: #00af00; text-decoration-color: #00af00\">0</span> │\n",
       "│ (<span style=\"color: #0087ff; text-decoration-color: #0087ff\">SpatialDropout1D</span>)              │                        │               │\n",
       "├─────────────────────────────────┼────────────────────────┼───────────────┤\n",
       "│ gru (<span style=\"color: #0087ff; text-decoration-color: #0087ff\">GRU</span>)                       │ ?                      │   <span style=\"color: #00af00; text-decoration-color: #00af00\">0</span> (unbuilt) │\n",
       "├─────────────────────────────────┼────────────────────────┼───────────────┤\n",
       "│ dropout_3 (<span style=\"color: #0087ff; text-decoration-color: #0087ff\">Dropout</span>)             │ ?                      │             <span style=\"color: #00af00; text-decoration-color: #00af00\">0</span> │\n",
       "├─────────────────────────────────┼────────────────────────┼───────────────┤\n",
       "│ dense_3 (<span style=\"color: #0087ff; text-decoration-color: #0087ff\">Dense</span>)                 │ ?                      │   <span style=\"color: #00af00; text-decoration-color: #00af00\">0</span> (unbuilt) │\n",
       "└─────────────────────────────────┴────────────────────────┴───────────────┘\n",
       "</pre>\n"
      ],
      "text/plain": [
       "┏━━━━━━━━━━━━━━━━━━━━━━━━━━━━━━━━━┳━━━━━━━━━━━━━━━━━━━━━━━━┳━━━━━━━━━━━━━━━┓\n",
       "┃\u001b[1m \u001b[0m\u001b[1mLayer (type)                   \u001b[0m\u001b[1m \u001b[0m┃\u001b[1m \u001b[0m\u001b[1mOutput Shape          \u001b[0m\u001b[1m \u001b[0m┃\u001b[1m \u001b[0m\u001b[1m      Param #\u001b[0m\u001b[1m \u001b[0m┃\n",
       "┡━━━━━━━━━━━━━━━━━━━━━━━━━━━━━━━━━╇━━━━━━━━━━━━━━━━━━━━━━━━╇━━━━━━━━━━━━━━━┩\n",
       "│ embedding_2 (\u001b[38;5;33mEmbedding\u001b[0m)         │ ?                      │   \u001b[38;5;34m0\u001b[0m (unbuilt) │\n",
       "├─────────────────────────────────┼────────────────────────┼───────────────┤\n",
       "│ spatial_dropout1d_2             │ ?                      │             \u001b[38;5;34m0\u001b[0m │\n",
       "│ (\u001b[38;5;33mSpatialDropout1D\u001b[0m)              │                        │               │\n",
       "├─────────────────────────────────┼────────────────────────┼───────────────┤\n",
       "│ gru (\u001b[38;5;33mGRU\u001b[0m)                       │ ?                      │   \u001b[38;5;34m0\u001b[0m (unbuilt) │\n",
       "├─────────────────────────────────┼────────────────────────┼───────────────┤\n",
       "│ dropout_3 (\u001b[38;5;33mDropout\u001b[0m)             │ ?                      │             \u001b[38;5;34m0\u001b[0m │\n",
       "├─────────────────────────────────┼────────────────────────┼───────────────┤\n",
       "│ dense_3 (\u001b[38;5;33mDense\u001b[0m)                 │ ?                      │   \u001b[38;5;34m0\u001b[0m (unbuilt) │\n",
       "└─────────────────────────────────┴────────────────────────┴───────────────┘\n"
      ]
     },
     "metadata": {},
     "output_type": "display_data"
    },
    {
     "data": {
      "text/html": [
       "<pre style=\"white-space:pre;overflow-x:auto;line-height:normal;font-family:Menlo,'DejaVu Sans Mono',consolas,'Courier New',monospace\"><span style=\"font-weight: bold\"> Total params: </span><span style=\"color: #00af00; text-decoration-color: #00af00\">0</span> (0.00 B)\n",
       "</pre>\n"
      ],
      "text/plain": [
       "\u001b[1m Total params: \u001b[0m\u001b[38;5;34m0\u001b[0m (0.00 B)\n"
      ]
     },
     "metadata": {},
     "output_type": "display_data"
    },
    {
     "data": {
      "text/html": [
       "<pre style=\"white-space:pre;overflow-x:auto;line-height:normal;font-family:Menlo,'DejaVu Sans Mono',consolas,'Courier New',monospace\"><span style=\"font-weight: bold\"> Trainable params: </span><span style=\"color: #00af00; text-decoration-color: #00af00\">0</span> (0.00 B)\n",
       "</pre>\n"
      ],
      "text/plain": [
       "\u001b[1m Trainable params: \u001b[0m\u001b[38;5;34m0\u001b[0m (0.00 B)\n"
      ]
     },
     "metadata": {},
     "output_type": "display_data"
    },
    {
     "data": {
      "text/html": [
       "<pre style=\"white-space:pre;overflow-x:auto;line-height:normal;font-family:Menlo,'DejaVu Sans Mono',consolas,'Courier New',monospace\"><span style=\"font-weight: bold\"> Non-trainable params: </span><span style=\"color: #00af00; text-decoration-color: #00af00\">0</span> (0.00 B)\n",
       "</pre>\n"
      ],
      "text/plain": [
       "\u001b[1m Non-trainable params: \u001b[0m\u001b[38;5;34m0\u001b[0m (0.00 B)\n"
      ]
     },
     "metadata": {},
     "output_type": "display_data"
    }
   ],
   "source": [
    "# Define the model\n",
    "GRU_model = Sequential()\n",
    "GRU_model.add(Embedding(input_dim=len(tokenizer.word_index)+1, output_dim=100, input_length=100))\n",
    "GRU_model.add(SpatialDropout1D(0.5))\n",
    "GRU_model.add(GRU(5, return_sequences=False))\n",
    "GRU_model.add(Dropout(0.5))\n",
    "#GRU_model.add(BatchNormalization())\n",
    "\n",
    "\n",
    "GRU_model.add(Dense(1, activation='sigmoid'))\n",
    "\n",
    "# Summarize the model\n",
    "GRU_model.summary()"
   ]
  },
  {
   "cell_type": "code",
   "execution_count": 61,
   "id": "246d33ea",
   "metadata": {
    "execution": {
     "iopub.execute_input": "2024-11-12T01:17:41.309193Z",
     "iopub.status.busy": "2024-11-12T01:17:41.308818Z",
     "iopub.status.idle": "2024-11-12T01:19:49.569667Z",
     "shell.execute_reply": "2024-11-12T01:19:49.568682Z"
    },
    "papermill": {
     "duration": 131.016747,
     "end_time": "2024-11-12T01:19:50.997561",
     "exception": false,
     "start_time": "2024-11-12T01:17:39.980814",
     "status": "completed"
    },
    "tags": []
   },
   "outputs": [
    {
     "name": "stdout",
     "output_type": "stream",
     "text": [
      "Epoch 1/5\n",
      "\u001b[1m155/155\u001b[0m \u001b[32m━━━━━━━━━━━━━━━━━━━━\u001b[0m\u001b[37m\u001b[0m \u001b[1m28s\u001b[0m 161ms/step - accuracy: 0.5453 - loss: 0.6855 - val_accuracy: 0.6677 - val_loss: 0.6081\n",
      "Epoch 2/5\n",
      "\u001b[1m155/155\u001b[0m \u001b[32m━━━━━━━━━━━━━━━━━━━━\u001b[0m\u001b[37m\u001b[0m \u001b[1m25s\u001b[0m 161ms/step - accuracy: 0.7761 - loss: 0.5202 - val_accuracy: 0.8554 - val_loss: 0.3827\n",
      "Epoch 3/5\n",
      "\u001b[1m155/155\u001b[0m \u001b[32m━━━━━━━━━━━━━━━━━━━━\u001b[0m\u001b[37m\u001b[0m \u001b[1m25s\u001b[0m 162ms/step - accuracy: 0.8800 - loss: 0.3644 - val_accuracy: 0.8728 - val_loss: 0.3402\n",
      "Epoch 4/5\n",
      "\u001b[1m155/155\u001b[0m \u001b[32m━━━━━━━━━━━━━━━━━━━━\u001b[0m\u001b[37m\u001b[0m \u001b[1m25s\u001b[0m 164ms/step - accuracy: 0.9108 - loss: 0.2952 - val_accuracy: 0.8756 - val_loss: 0.3216\n",
      "Epoch 5/5\n",
      "\u001b[1m155/155\u001b[0m \u001b[32m━━━━━━━━━━━━━━━━━━━━\u001b[0m\u001b[37m\u001b[0m \u001b[1m25s\u001b[0m 161ms/step - accuracy: 0.9331 - loss: 0.2330 - val_accuracy: 0.8768 - val_loss: 0.3192\n"
     ]
    }
   ],
   "source": [
    "GRU_model.compile(loss='binary_crossentropy', optimizer='adam', metrics=['accuracy'])\n",
    "\n",
    "history = GRU_model.fit(X_train, y_train, epochs=5, batch_size=256, validation_data=(X_test, y_test))\n"
   ]
  },
  {
   "cell_type": "code",
   "execution_count": 62,
   "id": "1862d40b",
   "metadata": {
    "execution": {
     "iopub.execute_input": "2024-11-12T01:19:53.968115Z",
     "iopub.status.busy": "2024-11-12T01:19:53.967424Z",
     "iopub.status.idle": "2024-11-12T01:19:54.325138Z",
     "shell.execute_reply": "2024-11-12T01:19:54.324202Z"
    },
    "papermill": {
     "duration": 1.862838,
     "end_time": "2024-11-12T01:19:54.327317",
     "exception": false,
     "start_time": "2024-11-12T01:19:52.464479",
     "status": "completed"
    },
    "tags": []
   },
   "outputs": [
    {
     "data": {
      "image/png": "[encoded data removed]",
      "text/plain": [
       "<Figure size 640x480 with 1 Axes>"
      ]
     },
     "metadata": {},
     "output_type": "display_data"
    }
   ],
   "source": [
    "# Plot training & validation accuracy values\n",
    "plt.plot(history.history['accuracy'])\n",
    "plt.plot(history.history['val_accuracy'])\n",
    "plt.title('Model accuracy')\n",
    "plt.ylabel('Accuracy')\n",
    "plt.xlabel('Epoch')\n",
    "plt.legend(['Train', 'Validation'], loc='upper left')\n",
    "plt.show()"
   ]
  },
  {
   "cell_type": "code",
   "execution_count": 63,
   "id": "1fd3feed",
   "metadata": {
    "execution": {
     "iopub.execute_input": "2024-11-12T01:19:57.216924Z",
     "iopub.status.busy": "2024-11-12T01:19:57.216566Z",
     "iopub.status.idle": "2024-11-12T01:19:57.551316Z",
     "shell.execute_reply": "2024-11-12T01:19:57.550399Z"
    },
    "papermill": {
     "duration": 1.80911,
     "end_time": "2024-11-12T01:19:57.553480",
     "exception": false,
     "start_time": "2024-11-12T01:19:55.744370",
     "status": "completed"
    },
    "tags": []
   },
   "outputs": [
    {
     "data": {
      "image/png": "[encoded data removed]",
      "text/plain": [
       "<Figure size 640x480 with 1 Axes>"
      ]
     },
     "metadata": {},
     "output_type": "display_data"
    }
   ],
   "source": [
    "# Plot training & validation accuracy values\n",
    "plt.plot(history.history['loss'])\n",
    "plt.plot(history.history['val_loss'])\n",
    "plt.title('Model loss')\n",
    "plt.ylabel('loss')\n",
    "plt.xlabel('Epoch')\n",
    "plt.legend(['Train', 'Validation'], loc='upper left')\n",
    "plt.show()"
   ]
  },
  {
   "cell_type": "markdown",
   "id": "8e37d63b",
   "metadata": {
    "papermill": {
     "duration": 1.471897,
     "end_time": "2024-11-12T01:20:00.434674",
     "exception": false,
     "start_time": "2024-11-12T01:19:58.962777",
     "status": "completed"
    },
    "tags": []
   },
   "source": [
    "## <div style=\"text-align: left; background-color:aliceblue ; font-family: Trebuchet MS; color: black; padding: 15px; line-height:1;border-radius:1px; margin-bottom: 0em; text-align: center; font-size: 25px;border-style: solid;border-color: dark green;\"> Hypertuning GRU</div>"
   ]
  },
  {
   "cell_type": "code",
   "execution_count": 64,
   "id": "d52d0a46",
   "metadata": {
    "execution": {
     "iopub.execute_input": "2024-11-12T01:20:03.355996Z",
     "iopub.status.busy": "2024-11-12T01:20:03.355585Z",
     "iopub.status.idle": "2024-11-12T01:20:03.366880Z",
     "shell.execute_reply": "2024-11-12T01:20:03.366099Z"
    },
    "papermill": {
     "duration": 1.466652,
     "end_time": "2024-11-12T01:20:03.368897",
     "exception": false,
     "start_time": "2024-11-12T01:20:01.902245",
     "status": "completed"
    },
    "tags": []
   },
   "outputs": [],
   "source": [
    "import keras\n",
    "\n",
    "def Hyper_GRU_model(hp):\n",
    "    model = keras.Sequential()\n",
    "    model.add(keras.layers.Embedding(input_dim=len(tokenizer.word_index) + 1, output_dim=100, input_shape=(X_train.shape[1],)))\n",
    "    \n",
    "    units = hp.Int('units', min_value=1, max_value=10, step=2)\n",
    "    model.add(keras.layers.GRU(units, return_sequences=True))\n",
    "    model.add(keras.layers.Dropout(rate=hp.Float('dropout_rate', min_value=0.1, max_value=0.5, step=0.1)))\n",
    "    \n",
    "    for i in range(hp.Int('num_layers', 1, 5)):\n",
    "        model.add(keras.layers.GRU(units, return_sequences=True))\n",
    "        model.add(keras.layers.Dropout(rate=hp.Float(f'dropout_rate_{i}', min_value=0.1, max_value=0.5, step=0.1)))\n",
    "        \n",
    "    model.add(keras.layers.GRU(units))\n",
    "    model.add(keras.layers.Dropout(rate=hp.Float('final_dropout_rate', min_value=0.1, max_value=0.5, step=0.1)))\n",
    "    \n",
    "    model.add(keras.layers.Dense(1, activation='sigmoid'))\n",
    "    \n",
    "    model.compile(optimizer=keras.optimizers.Adam(learning_rate=hp.Choice('learning_rate', values=[1e-2, 1e-3, 1e-4])),\n",
    "                  loss='binary_crossentropy',\n",
    "                  metrics=['accuracy'])\n",
    "    \n",
    "    print(\"Model built with the following architecture:\")\n",
    "    model.summary()\n",
    "    \n",
    "    return model"
   ]
  },
  {
   "cell_type": "code",
   "execution_count": 65,
   "id": "bc8483b7",
   "metadata": {
    "execution": {
     "iopub.execute_input": "2024-11-12T01:20:06.247538Z",
     "iopub.status.busy": "2024-11-12T01:20:06.246797Z",
     "iopub.status.idle": "2024-11-12T01:20:06.589222Z",
     "shell.execute_reply": "2024-11-12T01:20:06.588319Z"
    },
    "papermill": {
     "duration": 1.746199,
     "end_time": "2024-11-12T01:20:06.591148",
     "exception": false,
     "start_time": "2024-11-12T01:20:04.844949",
     "status": "completed"
    },
    "tags": []
   },
   "outputs": [
    {
     "name": "stdout",
     "output_type": "stream",
     "text": [
      "Model built with the following architecture:\n"
     ]
    },
    {
     "data": {
      "text/html": [
       "<pre style=\"white-space:pre;overflow-x:auto;line-height:normal;font-family:Menlo,'DejaVu Sans Mono',consolas,'Courier New',monospace\"><span style=\"font-weight: bold\">Model: \"sequential_3\"</span>\n",
       "</pre>\n"
      ],
      "text/plain": [
       "\u001b[1mModel: \"sequential_3\"\u001b[0m\n"
      ]
     },
     "metadata": {},
     "output_type": "display_data"
    },
    {
     "data": {
      "text/html": [
       "<pre style=\"white-space:pre;overflow-x:auto;line-height:normal;font-family:Menlo,'DejaVu Sans Mono',consolas,'Courier New',monospace\">┏━━━━━━━━━━━━━━━━━━━━━━━━━━━━━━━━━┳━━━━━━━━━━━━━━━━━━━━━━━━┳━━━━━━━━━━━━━━━┓\n",
       "┃<span style=\"font-weight: bold\"> Layer (type)                    </span>┃<span style=\"font-weight: bold\"> Output Shape           </span>┃<span style=\"font-weight: bold\">       Param # </span>┃\n",
       "┡━━━━━━━━━━━━━━━━━━━━━━━━━━━━━━━━━╇━━━━━━━━━━━━━━━━━━━━━━━━╇━━━━━━━━━━━━━━━┩\n",
       "│ embedding_3 (<span style=\"color: #0087ff; text-decoration-color: #0087ff\">Embedding</span>)         │ (<span style=\"color: #00d7ff; text-decoration-color: #00d7ff\">None</span>, <span style=\"color: #00af00; text-decoration-color: #00af00\">100</span>, <span style=\"color: #00af00; text-decoration-color: #00af00\">100</span>)       │    <span style=\"color: #00af00; text-decoration-color: #00af00\">14,212,100</span> │\n",
       "├─────────────────────────────────┼────────────────────────┼───────────────┤\n",
       "│ gru_1 (<span style=\"color: #0087ff; text-decoration-color: #0087ff\">GRU</span>)                     │ (<span style=\"color: #00d7ff; text-decoration-color: #00d7ff\">None</span>, <span style=\"color: #00af00; text-decoration-color: #00af00\">100</span>, <span style=\"color: #00af00; text-decoration-color: #00af00\">1</span>)         │           <span style=\"color: #00af00; text-decoration-color: #00af00\">309</span> │\n",
       "├─────────────────────────────────┼────────────────────────┼───────────────┤\n",
       "│ dropout_4 (<span style=\"color: #0087ff; text-decoration-color: #0087ff\">Dropout</span>)             │ (<span style=\"color: #00d7ff; text-decoration-color: #00d7ff\">None</span>, <span style=\"color: #00af00; text-decoration-color: #00af00\">100</span>, <span style=\"color: #00af00; text-decoration-color: #00af00\">1</span>)         │             <span style=\"color: #00af00; text-decoration-color: #00af00\">0</span> │\n",
       "├─────────────────────────────────┼────────────────────────┼───────────────┤\n",
       "│ gru_2 (<span style=\"color: #0087ff; text-decoration-color: #0087ff\">GRU</span>)                     │ (<span style=\"color: #00d7ff; text-decoration-color: #00d7ff\">None</span>, <span style=\"color: #00af00; text-decoration-color: #00af00\">100</span>, <span style=\"color: #00af00; text-decoration-color: #00af00\">1</span>)         │            <span style=\"color: #00af00; text-decoration-color: #00af00\">12</span> │\n",
       "├─────────────────────────────────┼────────────────────────┼───────────────┤\n",
       "│ dropout_5 (<span style=\"color: #0087ff; text-decoration-color: #0087ff\">Dropout</span>)             │ (<span style=\"color: #00d7ff; text-decoration-color: #00d7ff\">None</span>, <span style=\"color: #00af00; text-decoration-color: #00af00\">100</span>, <span style=\"color: #00af00; text-decoration-color: #00af00\">1</span>)         │             <span style=\"color: #00af00; text-decoration-color: #00af00\">0</span> │\n",
       "├─────────────────────────────────┼────────────────────────┼───────────────┤\n",
       "│ gru_3 (<span style=\"color: #0087ff; text-decoration-color: #0087ff\">GRU</span>)                     │ (<span style=\"color: #00d7ff; text-decoration-color: #00d7ff\">None</span>, <span style=\"color: #00af00; text-decoration-color: #00af00\">1</span>)              │            <span style=\"color: #00af00; text-decoration-color: #00af00\">12</span> │\n",
       "├─────────────────────────────────┼────────────────────────┼───────────────┤\n",
       "│ dropout_6 (<span style=\"color: #0087ff; text-decoration-color: #0087ff\">Dropout</span>)             │ (<span style=\"color: #00d7ff; text-decoration-color: #00d7ff\">None</span>, <span style=\"color: #00af00; text-decoration-color: #00af00\">1</span>)              │             <span style=\"color: #00af00; text-decoration-color: #00af00\">0</span> │\n",
       "├─────────────────────────────────┼────────────────────────┼───────────────┤\n",
       "│ dense_4 (<span style=\"color: #0087ff; text-decoration-color: #0087ff\">Dense</span>)                 │ (<span style=\"color: #00d7ff; text-decoration-color: #00d7ff\">None</span>, <span style=\"color: #00af00; text-decoration-color: #00af00\">1</span>)              │             <span style=\"color: #00af00; text-decoration-color: #00af00\">2</span> │\n",
       "└─────────────────────────────────┴────────────────────────┴───────────────┘\n",
       "</pre>\n"
      ],
      "text/plain": [
       "┏━━━━━━━━━━━━━━━━━━━━━━━━━━━━━━━━━┳━━━━━━━━━━━━━━━━━━━━━━━━┳━━━━━━━━━━━━━━━┓\n",
       "┃\u001b[1m \u001b[0m\u001b[1mLayer (type)                   \u001b[0m\u001b[1m \u001b[0m┃\u001b[1m \u001b[0m\u001b[1mOutput Shape          \u001b[0m\u001b[1m \u001b[0m┃\u001b[1m \u001b[0m\u001b[1m      Param #\u001b[0m\u001b[1m \u001b[0m┃\n",
       "┡━━━━━━━━━━━━━━━━━━━━━━━━━━━━━━━━━╇━━━━━━━━━━━━━━━━━━━━━━━━╇━━━━━━━━━━━━━━━┩\n",
       "│ embedding_3 (\u001b[38;5;33mEmbedding\u001b[0m)         │ (\u001b[38;5;45mNone\u001b[0m, \u001b[38;5;34m100\u001b[0m, \u001b[38;5;34m100\u001b[0m)       │    \u001b[38;5;34m14,212,100\u001b[0m │\n",
       "├─────────────────────────────────┼────────────────────────┼───────────────┤\n",
       "│ gru_1 (\u001b[38;5;33mGRU\u001b[0m)                     │ (\u001b[38;5;45mNone\u001b[0m, \u001b[38;5;34m100\u001b[0m, \u001b[38;5;34m1\u001b[0m)         │           \u001b[38;5;34m309\u001b[0m │\n",
       "├─────────────────────────────────┼────────────────────────┼───────────────┤\n",
       "│ dropout_4 (\u001b[38;5;33mDropout\u001b[0m)             │ (\u001b[38;5;45mNone\u001b[0m, \u001b[38;5;34m100\u001b[0m, \u001b[38;5;34m1\u001b[0m)         │             \u001b[38;5;34m0\u001b[0m │\n",
       "├─────────────────────────────────┼────────────────────────┼───────────────┤\n",
       "│ gru_2 (\u001b[38;5;33mGRU\u001b[0m)                     │ (\u001b[38;5;45mNone\u001b[0m, \u001b[38;5;34m100\u001b[0m, \u001b[38;5;34m1\u001b[0m)         │            \u001b[38;5;34m12\u001b[0m │\n",
       "├─────────────────────────────────┼────────────────────────┼───────────────┤\n",
       "│ dropout_5 (\u001b[38;5;33mDropout\u001b[0m)             │ (\u001b[38;5;45mNone\u001b[0m, \u001b[38;5;34m100\u001b[0m, \u001b[38;5;34m1\u001b[0m)         │             \u001b[38;5;34m0\u001b[0m │\n",
       "├─────────────────────────────────┼────────────────────────┼───────────────┤\n",
       "│ gru_3 (\u001b[38;5;33mGRU\u001b[0m)                     │ (\u001b[38;5;45mNone\u001b[0m, \u001b[38;5;34m1\u001b[0m)              │            \u001b[38;5;34m12\u001b[0m │\n",
       "├─────────────────────────────────┼────────────────────────┼───────────────┤\n",
       "│ dropout_6 (\u001b[38;5;33mDropout\u001b[0m)             │ (\u001b[38;5;45mNone\u001b[0m, \u001b[38;5;34m1\u001b[0m)              │             \u001b[38;5;34m0\u001b[0m │\n",
       "├─────────────────────────────────┼────────────────────────┼───────────────┤\n",
       "│ dense_4 (\u001b[38;5;33mDense\u001b[0m)                 │ (\u001b[38;5;45mNone\u001b[0m, \u001b[38;5;34m1\u001b[0m)              │             \u001b[38;5;34m2\u001b[0m │\n",
       "└─────────────────────────────────┴────────────────────────┴───────────────┘\n"
      ]
     },
     "metadata": {},
     "output_type": "display_data"
    },
    {
     "data": {
      "text/html": [
       "<pre style=\"white-space:pre;overflow-x:auto;line-height:normal;font-family:Menlo,'DejaVu Sans Mono',consolas,'Courier New',monospace\"><span style=\"font-weight: bold\"> Total params: </span><span style=\"color: #00af00; text-decoration-color: #00af00\">14,212,435</span> (54.22 MB)\n",
       "</pre>\n"
      ],
      "text/plain": [
       "\u001b[1m Total params: \u001b[0m\u001b[38;5;34m14,212,435\u001b[0m (54.22 MB)\n"
      ]
     },
     "metadata": {},
     "output_type": "display_data"
    },
    {
     "data": {
      "text/html": [
       "<pre style=\"white-space:pre;overflow-x:auto;line-height:normal;font-family:Menlo,'DejaVu Sans Mono',consolas,'Courier New',monospace\"><span style=\"font-weight: bold\"> Trainable params: </span><span style=\"color: #00af00; text-decoration-color: #00af00\">14,212,435</span> (54.22 MB)\n",
       "</pre>\n"
      ],
      "text/plain": [
       "\u001b[1m Trainable params: \u001b[0m\u001b[38;5;34m14,212,435\u001b[0m (54.22 MB)\n"
      ]
     },
     "metadata": {},
     "output_type": "display_data"
    },
    {
     "data": {
      "text/html": [
       "<pre style=\"white-space:pre;overflow-x:auto;line-height:normal;font-family:Menlo,'DejaVu Sans Mono',consolas,'Courier New',monospace\"><span style=\"font-weight: bold\"> Non-trainable params: </span><span style=\"color: #00af00; text-decoration-color: #00af00\">0</span> (0.00 B)\n",
       "</pre>\n"
      ],
      "text/plain": [
       "\u001b[1m Non-trainable params: \u001b[0m\u001b[38;5;34m0\u001b[0m (0.00 B)\n"
      ]
     },
     "metadata": {},
     "output_type": "display_data"
    }
   ],
   "source": [
    "import kerastuner as kt\n",
    "tuner = kt.RandomSearch(Hyper_GRU_model,objective = 'val_accuracy',\n",
    "                       max_trials = 5,\n",
    "                       directory = '/kaggle/working/',\n",
    "                       project_name='GRU_hyperparameter')"
   ]
  },
  {
   "cell_type": "code",
   "execution_count": 66,
   "id": "9765da1b",
   "metadata": {
    "execution": {
     "iopub.execute_input": "2024-11-12T01:20:09.453581Z",
     "iopub.status.busy": "2024-11-12T01:20:09.452437Z",
     "iopub.status.idle": "2024-11-12T01:20:09.457643Z",
     "shell.execute_reply": "2024-11-12T01:20:09.456671Z"
    },
    "papermill": {
     "duration": 1.406591,
     "end_time": "2024-11-12T01:20:09.459683",
     "exception": false,
     "start_time": "2024-11-12T01:20:08.053092",
     "status": "completed"
    },
    "tags": []
   },
   "outputs": [],
   "source": [
    "import tensorflow\n",
    "early_stopping = tensorflow.keras.callbacks.EarlyStopping(\n",
    "    monitor='val_loss', \n",
    "    patience=3, \n",
    "    restore_best_weights=True\n",
    ")"
   ]
  },
  {
   "cell_type": "code",
   "execution_count": 67,
   "id": "2427e7be",
   "metadata": {
    "execution": {
     "iopub.execute_input": "2024-11-12T01:20:12.378057Z",
     "iopub.status.busy": "2024-11-12T01:20:12.377712Z",
     "iopub.status.idle": "2024-11-12T03:51:04.867292Z",
     "shell.execute_reply": "2024-11-12T03:51:04.866394Z"
    },
    "papermill": {
     "duration": 9053.949823,
     "end_time": "2024-11-12T03:51:04.870840",
     "exception": false,
     "start_time": "2024-11-12T01:20:10.921017",
     "status": "completed"
    },
    "tags": []
   },
   "outputs": [
    {
     "name": "stdout",
     "output_type": "stream",
     "text": [
      "Trial 5 Complete [00h 21m 47s]\n",
      "val_accuracy: 0.8826258182525635\n",
      "\n",
      "Best val_accuracy So Far: 0.8826258182525635\n",
      "Total elapsed time: 02h 30m 52s\n"
     ]
    }
   ],
   "source": [
    "X_train_reshaped = X_train.reshape(X_train.shape[0], X_train.shape[1], 1)\n",
    "X_test_reshaped = X_test.reshape(X_test.shape[0], X_test.shape[1], 1)\n",
    "tuner.search(X_train_reshaped, y_train, epochs=100, validation_data=(X_test_reshaped, y_test), callbacks=[early_stopping])"
   ]
  },
  {
   "cell_type": "code",
   "execution_count": 68,
   "id": "88532c9a",
   "metadata": {
    "execution": {
     "iopub.execute_input": "2024-11-12T03:51:07.768473Z",
     "iopub.status.busy": "2024-11-12T03:51:07.767185Z",
     "iopub.status.idle": "2024-11-12T03:51:09.421061Z",
     "shell.execute_reply": "2024-11-12T03:51:09.420092Z"
    },
    "papermill": {
     "duration": 3.152775,
     "end_time": "2024-11-12T03:51:09.423448",
     "exception": false,
     "start_time": "2024-11-12T03:51:06.270673",
     "status": "completed"
    },
    "tags": []
   },
   "outputs": [
    {
     "name": "stdout",
     "output_type": "stream",
     "text": [
      "Model built with the following architecture:\n"
     ]
    },
    {
     "data": {
      "text/html": [
       "<pre style=\"white-space:pre;overflow-x:auto;line-height:normal;font-family:Menlo,'DejaVu Sans Mono',consolas,'Courier New',monospace\"><span style=\"font-weight: bold\">Model: \"sequential\"</span>\n",
       "</pre>\n"
      ],
      "text/plain": [
       "\u001b[1mModel: \"sequential\"\u001b[0m\n"
      ]
     },
     "metadata": {},
     "output_type": "display_data"
    },
    {
     "data": {
      "text/html": [
       "<pre style=\"white-space:pre;overflow-x:auto;line-height:normal;font-family:Menlo,'DejaVu Sans Mono',consolas,'Courier New',monospace\">┏━━━━━━━━━━━━━━━━━━━━━━━━━━━━━━━━━┳━━━━━━━━━━━━━━━━━━━━━━━━┳━━━━━━━━━━━━━━━┓\n",
       "┃<span style=\"font-weight: bold\"> Layer (type)                    </span>┃<span style=\"font-weight: bold\"> Output Shape           </span>┃<span style=\"font-weight: bold\">       Param # </span>┃\n",
       "┡━━━━━━━━━━━━━━━━━━━━━━━━━━━━━━━━━╇━━━━━━━━━━━━━━━━━━━━━━━━╇━━━━━━━━━━━━━━━┩\n",
       "│ embedding (<span style=\"color: #0087ff; text-decoration-color: #0087ff\">Embedding</span>)           │ (<span style=\"color: #00d7ff; text-decoration-color: #00d7ff\">None</span>, <span style=\"color: #00af00; text-decoration-color: #00af00\">100</span>, <span style=\"color: #00af00; text-decoration-color: #00af00\">100</span>)       │    <span style=\"color: #00af00; text-decoration-color: #00af00\">14,212,100</span> │\n",
       "├─────────────────────────────────┼────────────────────────┼───────────────┤\n",
       "│ gru (<span style=\"color: #0087ff; text-decoration-color: #0087ff\">GRU</span>)                       │ (<span style=\"color: #00d7ff; text-decoration-color: #00d7ff\">None</span>, <span style=\"color: #00af00; text-decoration-color: #00af00\">100</span>, <span style=\"color: #00af00; text-decoration-color: #00af00\">3</span>)         │           <span style=\"color: #00af00; text-decoration-color: #00af00\">945</span> │\n",
       "├─────────────────────────────────┼────────────────────────┼───────────────┤\n",
       "│ dropout (<span style=\"color: #0087ff; text-decoration-color: #0087ff\">Dropout</span>)               │ (<span style=\"color: #00d7ff; text-decoration-color: #00d7ff\">None</span>, <span style=\"color: #00af00; text-decoration-color: #00af00\">100</span>, <span style=\"color: #00af00; text-decoration-color: #00af00\">3</span>)         │             <span style=\"color: #00af00; text-decoration-color: #00af00\">0</span> │\n",
       "├─────────────────────────────────┼────────────────────────┼───────────────┤\n",
       "│ gru_1 (<span style=\"color: #0087ff; text-decoration-color: #0087ff\">GRU</span>)                     │ (<span style=\"color: #00d7ff; text-decoration-color: #00d7ff\">None</span>, <span style=\"color: #00af00; text-decoration-color: #00af00\">100</span>, <span style=\"color: #00af00; text-decoration-color: #00af00\">3</span>)         │            <span style=\"color: #00af00; text-decoration-color: #00af00\">72</span> │\n",
       "├─────────────────────────────────┼────────────────────────┼───────────────┤\n",
       "│ dropout_1 (<span style=\"color: #0087ff; text-decoration-color: #0087ff\">Dropout</span>)             │ (<span style=\"color: #00d7ff; text-decoration-color: #00d7ff\">None</span>, <span style=\"color: #00af00; text-decoration-color: #00af00\">100</span>, <span style=\"color: #00af00; text-decoration-color: #00af00\">3</span>)         │             <span style=\"color: #00af00; text-decoration-color: #00af00\">0</span> │\n",
       "├─────────────────────────────────┼────────────────────────┼───────────────┤\n",
       "│ gru_2 (<span style=\"color: #0087ff; text-decoration-color: #0087ff\">GRU</span>)                     │ (<span style=\"color: #00d7ff; text-decoration-color: #00d7ff\">None</span>, <span style=\"color: #00af00; text-decoration-color: #00af00\">3</span>)              │            <span style=\"color: #00af00; text-decoration-color: #00af00\">72</span> │\n",
       "├─────────────────────────────────┼────────────────────────┼───────────────┤\n",
       "│ dropout_2 (<span style=\"color: #0087ff; text-decoration-color: #0087ff\">Dropout</span>)             │ (<span style=\"color: #00d7ff; text-decoration-color: #00d7ff\">None</span>, <span style=\"color: #00af00; text-decoration-color: #00af00\">3</span>)              │             <span style=\"color: #00af00; text-decoration-color: #00af00\">0</span> │\n",
       "├─────────────────────────────────┼────────────────────────┼───────────────┤\n",
       "│ dense (<span style=\"color: #0087ff; text-decoration-color: #0087ff\">Dense</span>)                   │ (<span style=\"color: #00d7ff; text-decoration-color: #00d7ff\">None</span>, <span style=\"color: #00af00; text-decoration-color: #00af00\">1</span>)              │             <span style=\"color: #00af00; text-decoration-color: #00af00\">4</span> │\n",
       "└─────────────────────────────────┴────────────────────────┴───────────────┘\n",
       "</pre>\n"
      ],
      "text/plain": [
       "┏━━━━━━━━━━━━━━━━━━━━━━━━━━━━━━━━━┳━━━━━━━━━━━━━━━━━━━━━━━━┳━━━━━━━━━━━━━━━┓\n",
       "┃\u001b[1m \u001b[0m\u001b[1mLayer (type)                   \u001b[0m\u001b[1m \u001b[0m┃\u001b[1m \u001b[0m\u001b[1mOutput Shape          \u001b[0m\u001b[1m \u001b[0m┃\u001b[1m \u001b[0m\u001b[1m      Param #\u001b[0m\u001b[1m \u001b[0m┃\n",
       "┡━━━━━━━━━━━━━━━━━━━━━━━━━━━━━━━━━╇━━━━━━━━━━━━━━━━━━━━━━━━╇━━━━━━━━━━━━━━━┩\n",
       "│ embedding (\u001b[38;5;33mEmbedding\u001b[0m)           │ (\u001b[38;5;45mNone\u001b[0m, \u001b[38;5;34m100\u001b[0m, \u001b[38;5;34m100\u001b[0m)       │    \u001b[38;5;34m14,212,100\u001b[0m │\n",
       "├─────────────────────────────────┼────────────────────────┼───────────────┤\n",
       "│ gru (\u001b[38;5;33mGRU\u001b[0m)                       │ (\u001b[38;5;45mNone\u001b[0m, \u001b[38;5;34m100\u001b[0m, \u001b[38;5;34m3\u001b[0m)         │           \u001b[38;5;34m945\u001b[0m │\n",
       "├─────────────────────────────────┼────────────────────────┼───────────────┤\n",
       "│ dropout (\u001b[38;5;33mDropout\u001b[0m)               │ (\u001b[38;5;45mNone\u001b[0m, \u001b[38;5;34m100\u001b[0m, \u001b[38;5;34m3\u001b[0m)         │             \u001b[38;5;34m0\u001b[0m │\n",
       "├─────────────────────────────────┼────────────────────────┼───────────────┤\n",
       "│ gru_1 (\u001b[38;5;33mGRU\u001b[0m)                     │ (\u001b[38;5;45mNone\u001b[0m, \u001b[38;5;34m100\u001b[0m, \u001b[38;5;34m3\u001b[0m)         │            \u001b[38;5;34m72\u001b[0m │\n",
       "├─────────────────────────────────┼────────────────────────┼───────────────┤\n",
       "│ dropout_1 (\u001b[38;5;33mDropout\u001b[0m)             │ (\u001b[38;5;45mNone\u001b[0m, \u001b[38;5;34m100\u001b[0m, \u001b[38;5;34m3\u001b[0m)         │             \u001b[38;5;34m0\u001b[0m │\n",
       "├─────────────────────────────────┼────────────────────────┼───────────────┤\n",
       "│ gru_2 (\u001b[38;5;33mGRU\u001b[0m)                     │ (\u001b[38;5;45mNone\u001b[0m, \u001b[38;5;34m3\u001b[0m)              │            \u001b[38;5;34m72\u001b[0m │\n",
       "├─────────────────────────────────┼────────────────────────┼───────────────┤\n",
       "│ dropout_2 (\u001b[38;5;33mDropout\u001b[0m)             │ (\u001b[38;5;45mNone\u001b[0m, \u001b[38;5;34m3\u001b[0m)              │             \u001b[38;5;34m0\u001b[0m │\n",
       "├─────────────────────────────────┼────────────────────────┼───────────────┤\n",
       "│ dense (\u001b[38;5;33mDense\u001b[0m)                   │ (\u001b[38;5;45mNone\u001b[0m, \u001b[38;5;34m1\u001b[0m)              │             \u001b[38;5;34m4\u001b[0m │\n",
       "└─────────────────────────────────┴────────────────────────┴───────────────┘\n"
      ]
     },
     "metadata": {},
     "output_type": "display_data"
    },
    {
     "data": {
      "text/html": [
       "<pre style=\"white-space:pre;overflow-x:auto;line-height:normal;font-family:Menlo,'DejaVu Sans Mono',consolas,'Courier New',monospace\"><span style=\"font-weight: bold\"> Total params: </span><span style=\"color: #00af00; text-decoration-color: #00af00\">14,213,193</span> (54.22 MB)\n",
       "</pre>\n"
      ],
      "text/plain": [
       "\u001b[1m Total params: \u001b[0m\u001b[38;5;34m14,213,193\u001b[0m (54.22 MB)\n"
      ]
     },
     "metadata": {},
     "output_type": "display_data"
    },
    {
     "data": {
      "text/html": [
       "<pre style=\"white-space:pre;overflow-x:auto;line-height:normal;font-family:Menlo,'DejaVu Sans Mono',consolas,'Courier New',monospace\"><span style=\"font-weight: bold\"> Trainable params: </span><span style=\"color: #00af00; text-decoration-color: #00af00\">14,213,193</span> (54.22 MB)\n",
       "</pre>\n"
      ],
      "text/plain": [
       "\u001b[1m Trainable params: \u001b[0m\u001b[38;5;34m14,213,193\u001b[0m (54.22 MB)\n"
      ]
     },
     "metadata": {},
     "output_type": "display_data"
    },
    {
     "data": {
      "text/html": [
       "<pre style=\"white-space:pre;overflow-x:auto;line-height:normal;font-family:Menlo,'DejaVu Sans Mono',consolas,'Courier New',monospace\"><span style=\"font-weight: bold\"> Non-trainable params: </span><span style=\"color: #00af00; text-decoration-color: #00af00\">0</span> (0.00 B)\n",
       "</pre>\n"
      ],
      "text/plain": [
       "\u001b[1m Non-trainable params: \u001b[0m\u001b[38;5;34m0\u001b[0m (0.00 B)\n"
      ]
     },
     "metadata": {},
     "output_type": "display_data"
    }
   ],
   "source": [
    "best_model = tuner.get_best_models(num_models=1)[0]"
   ]
  },
  {
   "cell_type": "markdown",
   "id": "34dcbc3a",
   "metadata": {
    "execution": {
     "iopub.execute_input": "2024-05-17T08:03:34.079482Z",
     "iopub.status.busy": "2024-05-17T08:03:34.079073Z",
     "iopub.status.idle": "2024-05-17T08:03:34.086208Z",
     "shell.execute_reply": "2024-05-17T08:03:34.085099Z",
     "shell.execute_reply.started": "2024-05-17T08:03:34.079453Z"
    },
    "papermill": {
     "duration": 1.490608,
     "end_time": "2024-11-12T03:51:12.314709",
     "exception": false,
     "start_time": "2024-11-12T03:51:10.824101",
     "status": "completed"
    },
    "tags": []
   },
   "source": [
    "## <div style=\"text-align: left; background-color:aliceblue ; font-family: Trebuchet MS; color: black; padding: 15px; line-height:1;border-radius:1px; margin-bottom: 0em; text-align: center; font-size: 25px;border-style: solid;border-color: dark green;\"> Model Evaluation and Comparision  </div>"
   ]
  },
  {
   "cell_type": "markdown",
   "id": "7da670cf",
   "metadata": {
    "papermill": {
     "duration": 1.394995,
     "end_time": "2024-11-12T03:51:15.147873",
     "exception": false,
     "start_time": "2024-11-12T03:51:13.752878",
     "status": "completed"
    },
    "tags": []
   },
   "source": [
    "## Bideirectional RNN (Recurrent Neural Network)"
   ]
  },
  {
   "cell_type": "code",
   "execution_count": 69,
   "id": "f11ac402",
   "metadata": {
    "execution": {
     "iopub.execute_input": "2024-11-12T03:51:18.023045Z",
     "iopub.status.busy": "2024-11-12T03:51:18.022700Z",
     "iopub.status.idle": "2024-11-12T03:51:26.626711Z",
     "shell.execute_reply": "2024-11-12T03:51:26.625788Z"
    },
    "papermill": {
     "duration": 9.997526,
     "end_time": "2024-11-12T03:51:26.628940",
     "exception": false,
     "start_time": "2024-11-12T03:51:16.631414",
     "status": "completed"
    },
    "tags": []
   },
   "outputs": [
    {
     "name": "stdout",
     "output_type": "stream",
     "text": [
      "\u001b[1m310/310\u001b[0m \u001b[32m━━━━━━━━━━━━━━━━━━━━\u001b[0m\u001b[37m\u001b[0m \u001b[1m8s\u001b[0m 25ms/step\n"
     ]
    }
   ],
   "source": [
    "RNN_pred = RNN_model.predict(X_test)"
   ]
  },
  {
   "cell_type": "code",
   "execution_count": 70,
   "id": "c78d3f57",
   "metadata": {
    "execution": {
     "iopub.execute_input": "2024-11-12T03:51:29.516247Z",
     "iopub.status.busy": "2024-11-12T03:51:29.515843Z",
     "iopub.status.idle": "2024-11-12T03:51:29.520780Z",
     "shell.execute_reply": "2024-11-12T03:51:29.519710Z"
    },
    "papermill": {
     "duration": 1.413747,
     "end_time": "2024-11-12T03:51:29.522824",
     "exception": false,
     "start_time": "2024-11-12T03:51:28.109077",
     "status": "completed"
    },
    "tags": []
   },
   "outputs": [],
   "source": [
    "RNN_pred = (RNN_pred > 0.5).astype('int')"
   ]
  },
  {
   "cell_type": "code",
   "execution_count": 71,
   "id": "64f14bf5",
   "metadata": {
    "execution": {
     "iopub.execute_input": "2024-11-12T03:51:32.491738Z",
     "iopub.status.busy": "2024-11-12T03:51:32.491299Z",
     "iopub.status.idle": "2024-11-12T03:51:32.498670Z",
     "shell.execute_reply": "2024-11-12T03:51:32.497648Z"
    },
    "papermill": {
     "duration": 1.478884,
     "end_time": "2024-11-12T03:51:32.500733",
     "exception": false,
     "start_time": "2024-11-12T03:51:31.021849",
     "status": "completed"
    },
    "tags": []
   },
   "outputs": [
    {
     "name": "stdout",
     "output_type": "stream",
     "text": [
      "Bidirection_RNN_Accuracy Score is : 71.48331148532823 %\n"
     ]
    }
   ],
   "source": [
    "Bidirection_RNN_Accuracy = accuracy_score(RNN_pred,y_test)*100\n",
    "print(\"Bidirection_RNN_Accuracy Score is :\",Bidirection_RNN_Accuracy,'%')"
   ]
  },
  {
   "cell_type": "code",
   "execution_count": 72,
   "id": "e1a88b03",
   "metadata": {
    "execution": {
     "iopub.execute_input": "2024-11-12T03:51:35.485821Z",
     "iopub.status.busy": "2024-11-12T03:51:35.485471Z",
     "iopub.status.idle": "2024-11-12T03:51:35.518390Z",
     "shell.execute_reply": "2024-11-12T03:51:35.517480Z"
    },
    "papermill": {
     "duration": 1.458968,
     "end_time": "2024-11-12T03:51:35.520477",
     "exception": false,
     "start_time": "2024-11-12T03:51:34.061509",
     "status": "completed"
    },
    "tags": []
   },
   "outputs": [
    {
     "data": {
      "text/html": [
       "<div>\n",
       "<style scoped>\n",
       "    .dataframe tbody tr th:only-of-type {\n",
       "        vertical-align: middle;\n",
       "    }\n",
       "\n",
       "    .dataframe tbody tr th {\n",
       "        vertical-align: top;\n",
       "    }\n",
       "\n",
       "    .dataframe thead th {\n",
       "        text-align: right;\n",
       "    }\n",
       "</style>\n",
       "<table border=\"1\" class=\"dataframe\">\n",
       "  <thead>\n",
       "    <tr style=\"text-align: right;\">\n",
       "      <th></th>\n",
       "      <th>precision</th>\n",
       "      <th>recall</th>\n",
       "      <th>f1-score</th>\n",
       "      <th>support</th>\n",
       "    </tr>\n",
       "  </thead>\n",
       "  <tbody>\n",
       "    <tr>\n",
       "      <th>0</th>\n",
       "      <td>0.684087</td>\n",
       "      <td>0.814027</td>\n",
       "      <td>0.743422</td>\n",
       "      <td>5033.000000</td>\n",
       "    </tr>\n",
       "    <tr>\n",
       "      <th>1</th>\n",
       "      <td>0.761711</td>\n",
       "      <td>0.612613</td>\n",
       "      <td>0.679074</td>\n",
       "      <td>4884.000000</td>\n",
       "    </tr>\n",
       "    <tr>\n",
       "      <th>accuracy</th>\n",
       "      <td>0.714833</td>\n",
       "      <td>0.714833</td>\n",
       "      <td>0.714833</td>\n",
       "      <td>0.714833</td>\n",
       "    </tr>\n",
       "    <tr>\n",
       "      <th>macro avg</th>\n",
       "      <td>0.722899</td>\n",
       "      <td>0.713320</td>\n",
       "      <td>0.711248</td>\n",
       "      <td>9917.000000</td>\n",
       "    </tr>\n",
       "    <tr>\n",
       "      <th>weighted avg</th>\n",
       "      <td>0.722316</td>\n",
       "      <td>0.714833</td>\n",
       "      <td>0.711732</td>\n",
       "      <td>9917.000000</td>\n",
       "    </tr>\n",
       "  </tbody>\n",
       "</table>\n",
       "</div>"
      ],
      "text/plain": [
       "              precision    recall  f1-score      support\n",
       "0              0.684087  0.814027  0.743422  5033.000000\n",
       "1              0.761711  0.612613  0.679074  4884.000000\n",
       "accuracy       0.714833  0.714833  0.714833     0.714833\n",
       "macro avg      0.722899  0.713320  0.711248  9917.000000\n",
       "weighted avg   0.722316  0.714833  0.711732  9917.000000"
      ]
     },
     "execution_count": 72,
     "metadata": {},
     "output_type": "execute_result"
    }
   ],
   "source": [
    "from sklearn.metrics import classification_report\n",
    "report_dict = classification_report(y_test, RNN_pred, output_dict=True)\n",
    "report_df = pd.DataFrame(report_dict).transpose()\n",
    "report_df"
   ]
  },
  {
   "cell_type": "code",
   "execution_count": 73,
   "id": "3bcd35c9",
   "metadata": {
    "execution": {
     "iopub.execute_input": "2024-11-12T03:51:38.474667Z",
     "iopub.status.busy": "2024-11-12T03:51:38.473801Z",
     "iopub.status.idle": "2024-11-12T03:51:38.490587Z",
     "shell.execute_reply": "2024-11-12T03:51:38.489634Z"
    },
    "papermill": {
     "duration": 1.513797,
     "end_time": "2024-11-12T03:51:38.492547",
     "exception": false,
     "start_time": "2024-11-12T03:51:36.978750",
     "status": "completed"
    },
    "tags": []
   },
   "outputs": [
    {
     "data": {
      "text/plain": [
       "[['negative'],\n",
       " ['positive'],\n",
       " ['positive'],\n",
       " ['positive'],\n",
       " ['positive'],\n",
       " ['negative'],\n",
       " ['positive'],\n",
       " ['positive'],\n",
       " ['negative'],\n",
       " ['negative']]"
      ]
     },
     "execution_count": 73,
     "metadata": {},
     "output_type": "execute_result"
    }
   ],
   "source": [
    "sentiment_labels = {0: 'negative', 1: 'positive'}\n",
    "\n",
    "RNN_sentiments = [[sentiment_labels[val[0]]] for val in RNN_pred]\n",
    "RNN_sentiments[0:10]"
   ]
  },
  {
   "cell_type": "markdown",
   "id": "0fd32565",
   "metadata": {
    "execution": {
     "iopub.execute_input": "2024-05-17T08:24:52.655744Z",
     "iopub.status.busy": "2024-05-17T08:24:52.654829Z",
     "iopub.status.idle": "2024-05-17T08:24:52.659704Z",
     "shell.execute_reply": "2024-05-17T08:24:52.658745Z",
     "shell.execute_reply.started": "2024-05-17T08:24:52.6557Z"
    },
    "papermill": {
     "duration": 1.480484,
     "end_time": "2024-11-12T03:51:41.403709",
     "exception": false,
     "start_time": "2024-11-12T03:51:39.923225",
     "status": "completed"
    },
    "tags": []
   },
   "source": [
    "## LSTM (Long short Term Memory)"
   ]
  },
  {
   "cell_type": "code",
   "execution_count": 74,
   "id": "35013f47",
   "metadata": {
    "execution": {
     "iopub.execute_input": "2024-11-12T03:51:44.404524Z",
     "iopub.status.busy": "2024-11-12T03:51:44.403657Z",
     "iopub.status.idle": "2024-11-12T03:51:47.464124Z",
     "shell.execute_reply": "2024-11-12T03:51:47.463389Z"
    },
    "papermill": {
     "duration": 4.589788,
     "end_time": "2024-11-12T03:51:47.466146",
     "exception": false,
     "start_time": "2024-11-12T03:51:42.876358",
     "status": "completed"
    },
    "tags": []
   },
   "outputs": [
    {
     "name": "stdout",
     "output_type": "stream",
     "text": [
      "\u001b[1m310/310\u001b[0m \u001b[32m━━━━━━━━━━━━━━━━━━━━\u001b[0m\u001b[37m\u001b[0m \u001b[1m3s\u001b[0m 9ms/step\n"
     ]
    }
   ],
   "source": [
    "lstm_pred = lstm_model.predict(X_test)"
   ]
  },
  {
   "cell_type": "code",
   "execution_count": 75,
   "id": "2d3cee23",
   "metadata": {
    "execution": {
     "iopub.execute_input": "2024-11-12T03:51:50.397267Z",
     "iopub.status.busy": "2024-11-12T03:51:50.396846Z",
     "iopub.status.idle": "2024-11-12T03:51:50.402248Z",
     "shell.execute_reply": "2024-11-12T03:51:50.401215Z"
    },
    "papermill": {
     "duration": 1.523625,
     "end_time": "2024-11-12T03:51:50.404203",
     "exception": false,
     "start_time": "2024-11-12T03:51:48.880578",
     "status": "completed"
    },
    "tags": []
   },
   "outputs": [],
   "source": [
    "lstm_pred = (lstm_pred > 0.5).astype('int')"
   ]
  },
  {
   "cell_type": "code",
   "execution_count": 76,
   "id": "2bc59dda",
   "metadata": {
    "execution": {
     "iopub.execute_input": "2024-11-12T03:51:53.369937Z",
     "iopub.status.busy": "2024-11-12T03:51:53.369586Z",
     "iopub.status.idle": "2024-11-12T03:51:53.376703Z",
     "shell.execute_reply": "2024-11-12T03:51:53.375612Z"
    },
    "papermill": {
     "duration": 1.550237,
     "end_time": "2024-11-12T03:51:53.378719",
     "exception": false,
     "start_time": "2024-11-12T03:51:51.828482",
     "status": "completed"
    },
    "tags": []
   },
   "outputs": [
    {
     "name": "stdout",
     "output_type": "stream",
     "text": [
      "LSTM_Accuracy Score is : 85.92316224664717 %\n"
     ]
    }
   ],
   "source": [
    "LSTM_Accuracy = accuracy_score(lstm_pred,y_test)*100\n",
    "print(\"LSTM_Accuracy Score is :\",LSTM_Accuracy,'%')"
   ]
  },
  {
   "cell_type": "code",
   "execution_count": 77,
   "id": "20c5937e",
   "metadata": {
    "execution": {
     "iopub.execute_input": "2024-11-12T03:51:56.252911Z",
     "iopub.status.busy": "2024-11-12T03:51:56.252509Z",
     "iopub.status.idle": "2024-11-12T03:51:56.277126Z",
     "shell.execute_reply": "2024-11-12T03:51:56.276096Z"
    },
    "papermill": {
     "duration": 1.456025,
     "end_time": "2024-11-12T03:51:56.279203",
     "exception": false,
     "start_time": "2024-11-12T03:51:54.823178",
     "status": "completed"
    },
    "tags": []
   },
   "outputs": [
    {
     "data": {
      "text/html": [
       "<div>\n",
       "<style scoped>\n",
       "    .dataframe tbody tr th:only-of-type {\n",
       "        vertical-align: middle;\n",
       "    }\n",
       "\n",
       "    .dataframe tbody tr th {\n",
       "        vertical-align: top;\n",
       "    }\n",
       "\n",
       "    .dataframe thead th {\n",
       "        text-align: right;\n",
       "    }\n",
       "</style>\n",
       "<table border=\"1\" class=\"dataframe\">\n",
       "  <thead>\n",
       "    <tr style=\"text-align: right;\">\n",
       "      <th></th>\n",
       "      <th>precision</th>\n",
       "      <th>recall</th>\n",
       "      <th>f1-score</th>\n",
       "      <th>support</th>\n",
       "    </tr>\n",
       "  </thead>\n",
       "  <tbody>\n",
       "    <tr>\n",
       "      <th>0</th>\n",
       "      <td>0.861028</td>\n",
       "      <td>0.861713</td>\n",
       "      <td>0.861370</td>\n",
       "      <td>5033.000000</td>\n",
       "    </tr>\n",
       "    <tr>\n",
       "      <th>1</th>\n",
       "      <td>0.857377</td>\n",
       "      <td>0.856675</td>\n",
       "      <td>0.857026</td>\n",
       "      <td>4884.000000</td>\n",
       "    </tr>\n",
       "    <tr>\n",
       "      <th>accuracy</th>\n",
       "      <td>0.859232</td>\n",
       "      <td>0.859232</td>\n",
       "      <td>0.859232</td>\n",
       "      <td>0.859232</td>\n",
       "    </tr>\n",
       "    <tr>\n",
       "      <th>macro avg</th>\n",
       "      <td>0.859203</td>\n",
       "      <td>0.859194</td>\n",
       "      <td>0.859198</td>\n",
       "      <td>9917.000000</td>\n",
       "    </tr>\n",
       "    <tr>\n",
       "      <th>weighted avg</th>\n",
       "      <td>0.859230</td>\n",
       "      <td>0.859232</td>\n",
       "      <td>0.859231</td>\n",
       "      <td>9917.000000</td>\n",
       "    </tr>\n",
       "  </tbody>\n",
       "</table>\n",
       "</div>"
      ],
      "text/plain": [
       "              precision    recall  f1-score      support\n",
       "0              0.861028  0.861713  0.861370  5033.000000\n",
       "1              0.857377  0.856675  0.857026  4884.000000\n",
       "accuracy       0.859232  0.859232  0.859232     0.859232\n",
       "macro avg      0.859203  0.859194  0.859198  9917.000000\n",
       "weighted avg   0.859230  0.859232  0.859231  9917.000000"
      ]
     },
     "execution_count": 77,
     "metadata": {},
     "output_type": "execute_result"
    }
   ],
   "source": [
    "from sklearn.metrics import classification_report\n",
    "report_dict = classification_report(y_test, lstm_pred, output_dict=True)\n",
    "report_df = pd.DataFrame(report_dict).transpose()\n",
    "report_df"
   ]
  },
  {
   "cell_type": "code",
   "execution_count": 78,
   "id": "ef85dd46",
   "metadata": {
    "execution": {
     "iopub.execute_input": "2024-11-12T03:51:59.240987Z",
     "iopub.status.busy": "2024-11-12T03:51:59.240645Z",
     "iopub.status.idle": "2024-11-12T03:51:59.257560Z",
     "shell.execute_reply": "2024-11-12T03:51:59.256636Z"
    },
    "papermill": {
     "duration": 1.466786,
     "end_time": "2024-11-12T03:51:59.259440",
     "exception": false,
     "start_time": "2024-11-12T03:51:57.792654",
     "status": "completed"
    },
    "tags": []
   },
   "outputs": [
    {
     "data": {
      "text/plain": [
       "[['positive'],\n",
       " ['positive'],\n",
       " ['positive'],\n",
       " ['positive'],\n",
       " ['positive'],\n",
       " ['negative'],\n",
       " ['positive'],\n",
       " ['positive'],\n",
       " ['negative'],\n",
       " ['negative']]"
      ]
     },
     "execution_count": 78,
     "metadata": {},
     "output_type": "execute_result"
    }
   ],
   "source": [
    "sentiment_labels = {0: 'negative', 1: 'positive'}\n",
    "\n",
    "lstm_sentiments = [[sentiment_labels[val[0]]] for val in lstm_pred]\n",
    "lstm_sentiments[0:10]"
   ]
  },
  {
   "cell_type": "markdown",
   "id": "3c01c918",
   "metadata": {
    "execution": {
     "iopub.execute_input": "2024-05-17T08:44:10.045987Z",
     "iopub.status.busy": "2024-05-17T08:44:10.045556Z",
     "iopub.status.idle": "2024-05-17T08:44:10.050334Z",
     "shell.execute_reply": "2024-05-17T08:44:10.049217Z",
     "shell.execute_reply.started": "2024-05-17T08:44:10.045956Z"
    },
    "papermill": {
     "duration": 1.409328,
     "end_time": "2024-11-12T03:52:02.172941",
     "exception": false,
     "start_time": "2024-11-12T03:52:00.763613",
     "status": "completed"
    },
    "tags": []
   },
   "source": [
    "##  GRU (Grated Recurrent Unit)"
   ]
  },
  {
   "cell_type": "code",
   "execution_count": 79,
   "id": "66b91cc0",
   "metadata": {
    "execution": {
     "iopub.execute_input": "2024-11-12T03:52:05.281517Z",
     "iopub.status.busy": "2024-11-12T03:52:05.280756Z",
     "iopub.status.idle": "2024-11-12T03:52:08.510532Z",
     "shell.execute_reply": "2024-11-12T03:52:08.509754Z"
    },
    "papermill": {
     "duration": 4.694249,
     "end_time": "2024-11-12T03:52:08.512508",
     "exception": false,
     "start_time": "2024-11-12T03:52:03.818259",
     "status": "completed"
    },
    "tags": []
   },
   "outputs": [
    {
     "name": "stdout",
     "output_type": "stream",
     "text": [
      "\u001b[1m310/310\u001b[0m \u001b[32m━━━━━━━━━━━━━━━━━━━━\u001b[0m\u001b[37m\u001b[0m \u001b[1m3s\u001b[0m 9ms/step\n"
     ]
    }
   ],
   "source": [
    "GRU_pred = GRU_model.predict(X_test)"
   ]
  },
  {
   "cell_type": "code",
   "execution_count": 80,
   "id": "52203180",
   "metadata": {
    "execution": {
     "iopub.execute_input": "2024-11-12T03:52:11.420875Z",
     "iopub.status.busy": "2024-11-12T03:52:11.420483Z",
     "iopub.status.idle": "2024-11-12T03:52:11.425641Z",
     "shell.execute_reply": "2024-11-12T03:52:11.424737Z"
    },
    "papermill": {
     "duration": 1.416801,
     "end_time": "2024-11-12T03:52:11.427798",
     "exception": false,
     "start_time": "2024-11-12T03:52:10.010997",
     "status": "completed"
    },
    "tags": []
   },
   "outputs": [],
   "source": [
    "GRU_pred = (GRU_pred > 0.5).astype('int')"
   ]
  },
  {
   "cell_type": "code",
   "execution_count": 81,
   "id": "3d768af1",
   "metadata": {
    "execution": {
     "iopub.execute_input": "2024-11-12T03:52:14.435430Z",
     "iopub.status.busy": "2024-11-12T03:52:14.435067Z",
     "iopub.status.idle": "2024-11-12T03:52:14.441465Z",
     "shell.execute_reply": "2024-11-12T03:52:14.440648Z"
    },
    "papermill": {
     "duration": 1.461893,
     "end_time": "2024-11-12T03:52:14.443317",
     "exception": false,
     "start_time": "2024-11-12T03:52:12.981424",
     "status": "completed"
    },
    "tags": []
   },
   "outputs": [
    {
     "name": "stdout",
     "output_type": "stream",
     "text": [
      "GRU_Accuracy Score is : 87.67772511848341 %\n"
     ]
    }
   ],
   "source": [
    "GRU_Accuracy = accuracy_score(GRU_pred,y_test)*100\n",
    "print(\"GRU_Accuracy Score is :\",GRU_Accuracy,'%')"
   ]
  },
  {
   "cell_type": "code",
   "execution_count": 82,
   "id": "02f0eee9",
   "metadata": {
    "execution": {
     "iopub.execute_input": "2024-11-12T03:52:17.367485Z",
     "iopub.status.busy": "2024-11-12T03:52:17.366483Z",
     "iopub.status.idle": "2024-11-12T03:52:17.390961Z",
     "shell.execute_reply": "2024-11-12T03:52:17.390111Z"
    },
    "papermill": {
     "duration": 1.525964,
     "end_time": "2024-11-12T03:52:17.392794",
     "exception": false,
     "start_time": "2024-11-12T03:52:15.866830",
     "status": "completed"
    },
    "tags": []
   },
   "outputs": [
    {
     "data": {
      "text/html": [
       "<div>\n",
       "<style scoped>\n",
       "    .dataframe tbody tr th:only-of-type {\n",
       "        vertical-align: middle;\n",
       "    }\n",
       "\n",
       "    .dataframe tbody tr th {\n",
       "        vertical-align: top;\n",
       "    }\n",
       "\n",
       "    .dataframe thead th {\n",
       "        text-align: right;\n",
       "    }\n",
       "</style>\n",
       "<table border=\"1\" class=\"dataframe\">\n",
       "  <thead>\n",
       "    <tr style=\"text-align: right;\">\n",
       "      <th></th>\n",
       "      <th>precision</th>\n",
       "      <th>recall</th>\n",
       "      <th>f1-score</th>\n",
       "      <th>support</th>\n",
       "    </tr>\n",
       "  </thead>\n",
       "  <tbody>\n",
       "    <tr>\n",
       "      <th>0</th>\n",
       "      <td>0.885339</td>\n",
       "      <td>0.869859</td>\n",
       "      <td>0.877531</td>\n",
       "      <td>5033.000000</td>\n",
       "    </tr>\n",
       "    <tr>\n",
       "      <th>1</th>\n",
       "      <td>0.868262</td>\n",
       "      <td>0.883907</td>\n",
       "      <td>0.876015</td>\n",
       "      <td>4884.000000</td>\n",
       "    </tr>\n",
       "    <tr>\n",
       "      <th>accuracy</th>\n",
       "      <td>0.876777</td>\n",
       "      <td>0.876777</td>\n",
       "      <td>0.876777</td>\n",
       "      <td>0.876777</td>\n",
       "    </tr>\n",
       "    <tr>\n",
       "      <th>macro avg</th>\n",
       "      <td>0.876800</td>\n",
       "      <td>0.876883</td>\n",
       "      <td>0.876773</td>\n",
       "      <td>9917.000000</td>\n",
       "    </tr>\n",
       "    <tr>\n",
       "      <th>weighted avg</th>\n",
       "      <td>0.876929</td>\n",
       "      <td>0.876777</td>\n",
       "      <td>0.876784</td>\n",
       "      <td>9917.000000</td>\n",
       "    </tr>\n",
       "  </tbody>\n",
       "</table>\n",
       "</div>"
      ],
      "text/plain": [
       "              precision    recall  f1-score      support\n",
       "0              0.885339  0.869859  0.877531  5033.000000\n",
       "1              0.868262  0.883907  0.876015  4884.000000\n",
       "accuracy       0.876777  0.876777  0.876777     0.876777\n",
       "macro avg      0.876800  0.876883  0.876773  9917.000000\n",
       "weighted avg   0.876929  0.876777  0.876784  9917.000000"
      ]
     },
     "execution_count": 82,
     "metadata": {},
     "output_type": "execute_result"
    }
   ],
   "source": [
    "from sklearn.metrics import classification_report\n",
    "report_dict = classification_report(y_test, GRU_pred, output_dict=True)\n",
    "report_df = pd.DataFrame(report_dict).transpose()\n",
    "report_df"
   ]
  },
  {
   "cell_type": "code",
   "execution_count": 83,
   "id": "4a11c9e9",
   "metadata": {
    "execution": {
     "iopub.execute_input": "2024-11-12T03:52:20.299621Z",
     "iopub.status.busy": "2024-11-12T03:52:20.299135Z",
     "iopub.status.idle": "2024-11-12T03:52:20.314818Z",
     "shell.execute_reply": "2024-11-12T03:52:20.313856Z"
    },
    "papermill": {
     "duration": 1.516894,
     "end_time": "2024-11-12T03:52:20.316909",
     "exception": false,
     "start_time": "2024-11-12T03:52:18.800015",
     "status": "completed"
    },
    "tags": []
   },
   "outputs": [
    {
     "data": {
      "text/plain": [
       "[['positive'],\n",
       " ['positive'],\n",
       " ['positive'],\n",
       " ['positive'],\n",
       " ['positive'],\n",
       " ['negative'],\n",
       " ['positive'],\n",
       " ['positive'],\n",
       " ['negative'],\n",
       " ['negative']]"
      ]
     },
     "execution_count": 83,
     "metadata": {},
     "output_type": "execute_result"
    }
   ],
   "source": [
    "GRU_sentiments = [[sentiment_labels[val[0]]] for val in GRU_pred]\n",
    "GRU_sentiments[0:10]"
   ]
  },
  {
   "cell_type": "markdown",
   "id": "6dd14ee8",
   "metadata": {
    "papermill": {
     "duration": 1.581337,
     "end_time": "2024-11-12T03:52:23.311095",
     "exception": false,
     "start_time": "2024-11-12T03:52:21.729758",
     "status": "completed"
    },
    "tags": []
   },
   "source": [
    "## Hypertuned GRU (Grated Recurrent Unit)"
   ]
  },
  {
   "cell_type": "code",
   "execution_count": 84,
   "id": "178f49f2",
   "metadata": {
    "execution": {
     "iopub.execute_input": "2024-11-12T03:52:26.147884Z",
     "iopub.status.busy": "2024-11-12T03:52:26.147543Z",
     "iopub.status.idle": "2024-11-12T03:52:34.253981Z",
     "shell.execute_reply": "2024-11-12T03:52:34.253192Z"
    },
    "papermill": {
     "duration": 9.526357,
     "end_time": "2024-11-12T03:52:34.256148",
     "exception": false,
     "start_time": "2024-11-12T03:52:24.729791",
     "status": "completed"
    },
    "tags": []
   },
   "outputs": [
    {
     "name": "stdout",
     "output_type": "stream",
     "text": [
      "\u001b[1m310/310\u001b[0m \u001b[32m━━━━━━━━━━━━━━━━━━━━\u001b[0m\u001b[37m\u001b[0m \u001b[1m8s\u001b[0m 24ms/step\n"
     ]
    }
   ],
   "source": [
    "Hypertuned_GRU_pred = best_model.predict(X_test)"
   ]
  },
  {
   "cell_type": "code",
   "execution_count": 85,
   "id": "e7f1df8b",
   "metadata": {
    "execution": {
     "iopub.execute_input": "2024-11-12T03:52:37.379703Z",
     "iopub.status.busy": "2024-11-12T03:52:37.378846Z",
     "iopub.status.idle": "2024-11-12T03:52:37.383792Z",
     "shell.execute_reply": "2024-11-12T03:52:37.382895Z"
    },
    "papermill": {
     "duration": 1.543324,
     "end_time": "2024-11-12T03:52:37.385891",
     "exception": false,
     "start_time": "2024-11-12T03:52:35.842567",
     "status": "completed"
    },
    "tags": []
   },
   "outputs": [],
   "source": [
    "Hypertuned_GRU_pred = (Hypertuned_GRU_pred > 0.5).astype('int')"
   ]
  },
  {
   "cell_type": "code",
   "execution_count": 86,
   "id": "e18b95b7",
   "metadata": {
    "execution": {
     "iopub.execute_input": "2024-11-12T03:52:40.247305Z",
     "iopub.status.busy": "2024-11-12T03:52:40.246857Z",
     "iopub.status.idle": "2024-11-12T03:52:40.253650Z",
     "shell.execute_reply": "2024-11-12T03:52:40.252664Z"
    },
    "papermill": {
     "duration": 1.4324,
     "end_time": "2024-11-12T03:52:40.255964",
     "exception": false,
     "start_time": "2024-11-12T03:52:38.823564",
     "status": "completed"
    },
    "tags": []
   },
   "outputs": [
    {
     "name": "stdout",
     "output_type": "stream",
     "text": [
      "Hypertuned_GRU_Accuracy Score is : 88.2625794090955 %\n"
     ]
    }
   ],
   "source": [
    "Hypertuned_GRU_Accuracy = accuracy_score(Hypertuned_GRU_pred,y_test)*100\n",
    "print(\"Hypertuned_GRU_Accuracy Score is :\",Hypertuned_GRU_Accuracy,'%')"
   ]
  },
  {
   "cell_type": "code",
   "execution_count": 87,
   "id": "91ba00e3",
   "metadata": {
    "execution": {
     "iopub.execute_input": "2024-11-12T03:52:43.231697Z",
     "iopub.status.busy": "2024-11-12T03:52:43.230549Z",
     "iopub.status.idle": "2024-11-12T03:52:43.256825Z",
     "shell.execute_reply": "2024-11-12T03:52:43.255672Z"
    },
    "papermill": {
     "duration": 1.498252,
     "end_time": "2024-11-12T03:52:43.259145",
     "exception": false,
     "start_time": "2024-11-12T03:52:41.760893",
     "status": "completed"
    },
    "tags": []
   },
   "outputs": [
    {
     "data": {
      "text/html": [
       "<div>\n",
       "<style scoped>\n",
       "    .dataframe tbody tr th:only-of-type {\n",
       "        vertical-align: middle;\n",
       "    }\n",
       "\n",
       "    .dataframe tbody tr th {\n",
       "        vertical-align: top;\n",
       "    }\n",
       "\n",
       "    .dataframe thead th {\n",
       "        text-align: right;\n",
       "    }\n",
       "</style>\n",
       "<table border=\"1\" class=\"dataframe\">\n",
       "  <thead>\n",
       "    <tr style=\"text-align: right;\">\n",
       "      <th></th>\n",
       "      <th>precision</th>\n",
       "      <th>recall</th>\n",
       "      <th>f1-score</th>\n",
       "      <th>support</th>\n",
       "    </tr>\n",
       "  </thead>\n",
       "  <tbody>\n",
       "    <tr>\n",
       "      <th>0</th>\n",
       "      <td>0.873816</td>\n",
       "      <td>0.898470</td>\n",
       "      <td>0.885972</td>\n",
       "      <td>5033.000000</td>\n",
       "    </tr>\n",
       "    <tr>\n",
       "      <th>1</th>\n",
       "      <td>0.892240</td>\n",
       "      <td>0.866298</td>\n",
       "      <td>0.879077</td>\n",
       "      <td>4884.000000</td>\n",
       "    </tr>\n",
       "    <tr>\n",
       "      <th>accuracy</th>\n",
       "      <td>0.882626</td>\n",
       "      <td>0.882626</td>\n",
       "      <td>0.882626</td>\n",
       "      <td>0.882626</td>\n",
       "    </tr>\n",
       "    <tr>\n",
       "      <th>macro avg</th>\n",
       "      <td>0.883028</td>\n",
       "      <td>0.882384</td>\n",
       "      <td>0.882525</td>\n",
       "      <td>9917.000000</td>\n",
       "    </tr>\n",
       "    <tr>\n",
       "      <th>weighted avg</th>\n",
       "      <td>0.882890</td>\n",
       "      <td>0.882626</td>\n",
       "      <td>0.882576</td>\n",
       "      <td>9917.000000</td>\n",
       "    </tr>\n",
       "  </tbody>\n",
       "</table>\n",
       "</div>"
      ],
      "text/plain": [
       "              precision    recall  f1-score      support\n",
       "0              0.873816  0.898470  0.885972  5033.000000\n",
       "1              0.892240  0.866298  0.879077  4884.000000\n",
       "accuracy       0.882626  0.882626  0.882626     0.882626\n",
       "macro avg      0.883028  0.882384  0.882525  9917.000000\n",
       "weighted avg   0.882890  0.882626  0.882576  9917.000000"
      ]
     },
     "execution_count": 87,
     "metadata": {},
     "output_type": "execute_result"
    }
   ],
   "source": [
    "from sklearn.metrics import classification_report\n",
    "report_dict = classification_report(y_test, Hypertuned_GRU_pred, output_dict=True)\n",
    "report_df = pd.DataFrame(report_dict).transpose()\n",
    "report_df"
   ]
  },
  {
   "cell_type": "code",
   "execution_count": 88,
   "id": "becbb79f",
   "metadata": {
    "execution": {
     "iopub.execute_input": "2024-11-12T03:52:46.202074Z",
     "iopub.status.busy": "2024-11-12T03:52:46.201082Z",
     "iopub.status.idle": "2024-11-12T03:52:46.216831Z",
     "shell.execute_reply": "2024-11-12T03:52:46.215784Z"
    },
    "papermill": {
     "duration": 1.4384,
     "end_time": "2024-11-12T03:52:46.218896",
     "exception": false,
     "start_time": "2024-11-12T03:52:44.780496",
     "status": "completed"
    },
    "tags": []
   },
   "outputs": [
    {
     "data": {
      "text/plain": [
       "[['negative'],\n",
       " ['positive'],\n",
       " ['positive'],\n",
       " ['positive'],\n",
       " ['positive'],\n",
       " ['negative'],\n",
       " ['positive'],\n",
       " ['positive'],\n",
       " ['negative'],\n",
       " ['negative']]"
      ]
     },
     "execution_count": 88,
     "metadata": {},
     "output_type": "execute_result"
    }
   ],
   "source": [
    "HYpertuned_GRU_sentiments = [[sentiment_labels[val[0]]] for val in Hypertuned_GRU_pred]\n",
    "HYpertuned_GRU_sentiments[0:10]"
   ]
  },
  {
   "cell_type": "code",
   "execution_count": 89,
   "id": "b63b0aac",
   "metadata": {
    "execution": {
     "iopub.execute_input": "2024-11-12T03:52:49.144087Z",
     "iopub.status.busy": "2024-11-12T03:52:49.143653Z",
     "iopub.status.idle": "2024-11-12T03:52:49.163536Z",
     "shell.execute_reply": "2024-11-12T03:52:49.162831Z"
    },
    "papermill": {
     "duration": 1.442332,
     "end_time": "2024-11-12T03:52:49.165436",
     "exception": false,
     "start_time": "2024-11-12T03:52:47.723104",
     "status": "completed"
    },
    "tags": []
   },
   "outputs": [],
   "source": [
    "comp_df = pd.DataFrame(columns = ['Bidirectional_RNN','LSTM_Sentiment','GRU_Sentiment','hypertune_gru_sentiments'])\n",
    "comp_df['Bidirectional_RNN'] = RNN_sentiments\n",
    "comp_df['LSTM_Sentiment'] = lstm_sentiments\n",
    "comp_df['GRU_Sentiment'] = GRU_sentiments\n",
    "comp_df['hypertune_gru_sentiments'] = HYpertuned_GRU_sentiments"
   ]
  },
  {
   "cell_type": "code",
   "execution_count": 90,
   "id": "54e67f2e",
   "metadata": {
    "execution": {
     "iopub.execute_input": "2024-11-12T03:52:52.114137Z",
     "iopub.status.busy": "2024-11-12T03:52:52.113439Z",
     "iopub.status.idle": "2024-11-12T03:52:52.137560Z",
     "shell.execute_reply": "2024-11-12T03:52:52.136642Z"
    },
    "papermill": {
     "duration": 1.451423,
     "end_time": "2024-11-12T03:52:52.139567",
     "exception": false,
     "start_time": "2024-11-12T03:52:50.688144",
     "status": "completed"
    },
    "tags": []
   },
   "outputs": [
    {
     "data": {
      "text/html": [
       "<div>\n",
       "<style scoped>\n",
       "    .dataframe tbody tr th:only-of-type {\n",
       "        vertical-align: middle;\n",
       "    }\n",
       "\n",
       "    .dataframe tbody tr th {\n",
       "        vertical-align: top;\n",
       "    }\n",
       "\n",
       "    .dataframe thead th {\n",
       "        text-align: right;\n",
       "    }\n",
       "</style>\n",
       "<table border=\"1\" class=\"dataframe\">\n",
       "  <thead>\n",
       "    <tr style=\"text-align: right;\">\n",
       "      <th></th>\n",
       "      <th>Bidirectional_RNN</th>\n",
       "      <th>LSTM_Sentiment</th>\n",
       "      <th>GRU_Sentiment</th>\n",
       "      <th>hypertune_gru_sentiments</th>\n",
       "    </tr>\n",
       "  </thead>\n",
       "  <tbody>\n",
       "    <tr>\n",
       "      <th>0</th>\n",
       "      <td>[negative]</td>\n",
       "      <td>[positive]</td>\n",
       "      <td>[positive]</td>\n",
       "      <td>[negative]</td>\n",
       "    </tr>\n",
       "    <tr>\n",
       "      <th>1</th>\n",
       "      <td>[positive]</td>\n",
       "      <td>[positive]</td>\n",
       "      <td>[positive]</td>\n",
       "      <td>[positive]</td>\n",
       "    </tr>\n",
       "    <tr>\n",
       "      <th>2</th>\n",
       "      <td>[positive]</td>\n",
       "      <td>[positive]</td>\n",
       "      <td>[positive]</td>\n",
       "      <td>[positive]</td>\n",
       "    </tr>\n",
       "    <tr>\n",
       "      <th>3</th>\n",
       "      <td>[positive]</td>\n",
       "      <td>[positive]</td>\n",
       "      <td>[positive]</td>\n",
       "      <td>[positive]</td>\n",
       "    </tr>\n",
       "    <tr>\n",
       "      <th>4</th>\n",
       "      <td>[positive]</td>\n",
       "      <td>[positive]</td>\n",
       "      <td>[positive]</td>\n",
       "      <td>[positive]</td>\n",
       "    </tr>\n",
       "    <tr>\n",
       "      <th>5</th>\n",
       "      <td>[negative]</td>\n",
       "      <td>[negative]</td>\n",
       "      <td>[negative]</td>\n",
       "      <td>[negative]</td>\n",
       "    </tr>\n",
       "    <tr>\n",
       "      <th>6</th>\n",
       "      <td>[positive]</td>\n",
       "      <td>[positive]</td>\n",
       "      <td>[positive]</td>\n",
       "      <td>[positive]</td>\n",
       "    </tr>\n",
       "    <tr>\n",
       "      <th>7</th>\n",
       "      <td>[positive]</td>\n",
       "      <td>[positive]</td>\n",
       "      <td>[positive]</td>\n",
       "      <td>[positive]</td>\n",
       "    </tr>\n",
       "    <tr>\n",
       "      <th>8</th>\n",
       "      <td>[negative]</td>\n",
       "      <td>[negative]</td>\n",
       "      <td>[negative]</td>\n",
       "      <td>[negative]</td>\n",
       "    </tr>\n",
       "    <tr>\n",
       "      <th>9</th>\n",
       "      <td>[negative]</td>\n",
       "      <td>[negative]</td>\n",
       "      <td>[negative]</td>\n",
       "      <td>[negative]</td>\n",
       "    </tr>\n",
       "  </tbody>\n",
       "</table>\n",
       "</div>"
      ],
      "text/plain": [
       "  Bidirectional_RNN LSTM_Sentiment GRU_Sentiment hypertune_gru_sentiments\n",
       "0        [negative]     [positive]    [positive]               [negative]\n",
       "1        [positive]     [positive]    [positive]               [positive]\n",
       "2        [positive]     [positive]    [positive]               [positive]\n",
       "3        [positive]     [positive]    [positive]               [positive]\n",
       "4        [positive]     [positive]    [positive]               [positive]\n",
       "5        [negative]     [negative]    [negative]               [negative]\n",
       "6        [positive]     [positive]    [positive]               [positive]\n",
       "7        [positive]     [positive]    [positive]               [positive]\n",
       "8        [negative]     [negative]    [negative]               [negative]\n",
       "9        [negative]     [negative]    [negative]               [negative]"
      ]
     },
     "execution_count": 90,
     "metadata": {},
     "output_type": "execute_result"
    }
   ],
   "source": [
    "comp_df.head(10)"
   ]
  },
  {
   "cell_type": "code",
   "execution_count": 91,
   "id": "153773e5",
   "metadata": {
    "execution": {
     "iopub.execute_input": "2024-11-12T03:52:55.147508Z",
     "iopub.status.busy": "2024-11-12T03:52:55.147073Z",
     "iopub.status.idle": "2024-11-12T03:52:55.152628Z",
     "shell.execute_reply": "2024-11-12T03:52:55.151726Z"
    },
    "papermill": {
     "duration": 1.521459,
     "end_time": "2024-11-12T03:52:55.154678",
     "exception": false,
     "start_time": "2024-11-12T03:52:53.633219",
     "status": "completed"
    },
    "tags": []
   },
   "outputs": [],
   "source": [
    "# Create a DataFrame with these accuracy scores\n",
    "data = {\n",
    "    'Model': ['Bidirectional RNN', 'LSTM', 'GRU', 'Hypertuned GRU'],\n",
    "    'Accuracy': [Bidirection_RNN_Accuracy, LSTM_Accuracy, GRU_Accuracy, Hypertuned_GRU_Accuracy]\n",
    "}\n",
    "Acc_df = pd.DataFrame(data)\n"
   ]
  },
  {
   "cell_type": "code",
   "execution_count": 92,
   "id": "3a1bdb2b",
   "metadata": {
    "execution": {
     "iopub.execute_input": "2024-11-12T03:52:58.073692Z",
     "iopub.status.busy": "2024-11-12T03:52:58.073031Z",
     "iopub.status.idle": "2024-11-12T03:52:58.082994Z",
     "shell.execute_reply": "2024-11-12T03:52:58.082108Z"
    },
    "papermill": {
     "duration": 1.511252,
     "end_time": "2024-11-12T03:52:58.085043",
     "exception": false,
     "start_time": "2024-11-12T03:52:56.573791",
     "status": "completed"
    },
    "tags": []
   },
   "outputs": [
    {
     "data": {
      "text/html": [
       "<div>\n",
       "<style scoped>\n",
       "    .dataframe tbody tr th:only-of-type {\n",
       "        vertical-align: middle;\n",
       "    }\n",
       "\n",
       "    .dataframe tbody tr th {\n",
       "        vertical-align: top;\n",
       "    }\n",
       "\n",
       "    .dataframe thead th {\n",
       "        text-align: right;\n",
       "    }\n",
       "</style>\n",
       "<table border=\"1\" class=\"dataframe\">\n",
       "  <thead>\n",
       "    <tr style=\"text-align: right;\">\n",
       "      <th></th>\n",
       "      <th>Model</th>\n",
       "      <th>Accuracy</th>\n",
       "    </tr>\n",
       "  </thead>\n",
       "  <tbody>\n",
       "    <tr>\n",
       "      <th>0</th>\n",
       "      <td>Bidirectional RNN</td>\n",
       "      <td>71.483311</td>\n",
       "    </tr>\n",
       "    <tr>\n",
       "      <th>1</th>\n",
       "      <td>LSTM</td>\n",
       "      <td>85.923162</td>\n",
       "    </tr>\n",
       "    <tr>\n",
       "      <th>2</th>\n",
       "      <td>GRU</td>\n",
       "      <td>87.677725</td>\n",
       "    </tr>\n",
       "    <tr>\n",
       "      <th>3</th>\n",
       "      <td>Hypertuned GRU</td>\n",
       "      <td>88.262579</td>\n",
       "    </tr>\n",
       "  </tbody>\n",
       "</table>\n",
       "</div>"
      ],
      "text/plain": [
       "               Model   Accuracy\n",
       "0  Bidirectional RNN  71.483311\n",
       "1               LSTM  85.923162\n",
       "2                GRU  87.677725\n",
       "3     Hypertuned GRU  88.262579"
      ]
     },
     "execution_count": 92,
     "metadata": {},
     "output_type": "execute_result"
    }
   ],
   "source": [
    "Acc_df"
   ]
  },
  {
   "cell_type": "code",
   "execution_count": 93,
   "id": "f7fdda21",
   "metadata": {
    "execution": {
     "iopub.execute_input": "2024-11-12T03:53:01.092461Z",
     "iopub.status.busy": "2024-11-12T03:53:01.092082Z",
     "iopub.status.idle": "2024-11-12T03:53:01.536054Z",
     "shell.execute_reply": "2024-11-12T03:53:01.535080Z"
    },
    "papermill": {
     "duration": 1.952868,
     "end_time": "2024-11-12T03:53:01.538447",
     "exception": false,
     "start_time": "2024-11-12T03:52:59.585579",
     "status": "completed"
    },
    "tags": []
   },
   "outputs": [
    {
     "data": {
      "image/png": "[encoded data removed]",
      "text/plain": [
       "<Figure size 640x480 with 1 Axes>"
      ]
     },
     "metadata": {},
     "output_type": "display_data"
    }
   ],
   "source": [
    "# Plot the DataFrame\n",
    "ax = Acc_df.plot(x='Model', y='Accuracy', marker='o', linestyle='dashed', color='b', legend=False)\n",
    "\n",
    "# Add labels, title, and customize the plot\n",
    "ax.set_xlabel('Models')\n",
    "ax.set_ylabel('Accuracy (%)')\n",
    "ax.set_title('Model Accuracy Comparison')\n",
    "ax.set_ylim(70, 100)  # Set the y-axis limits for percentage values\n",
    "\n",
    "# Highlight the points and add value labels\n",
    "for i, accuracy in enumerate(Acc_df['Accuracy']):\n",
    "    ax.annotate(f'{accuracy:.2f}%', xy=(i, accuracy), xytext=(i, accuracy + 1),\n",
    "                ha='center', va='bottom', fontsize=10, color='black',\n",
    "                arrowprops=dict(arrowstyle='-', color='gray'))\n",
    "    ax.plot(i, accuracy, 'ro')  # Highlight points with red color\n",
    "\n",
    "# Show the plot\n",
    "plt.show()\n"
   ]
  },
  {
   "cell_type": "code",
   "execution_count": null,
   "id": "0661565c",
   "metadata": {
    "papermill": {
     "duration": 1.645873,
     "end_time": "2024-11-12T03:53:04.632389",
     "exception": false,
     "start_time": "2024-11-12T03:53:02.986516",
     "status": "completed"
    },
    "tags": []
   },
   "outputs": [],
   "source": []
  }
 ],
 "metadata": {
  "kaggle": {
   "accelerator": "nvidiaTeslaT4",
   "dataSources": [
    {
     "datasetId": 134715,
     "sourceId": 320111,
     "sourceType": "datasetVersion"
    }
   ],
   "dockerImageVersionId": 30698,
   "isGpuEnabled": true,
   "isInternetEnabled": true,
   "language": "python",
   "sourceType": "notebook"
  },
  "kernelspec": {
   "display_name": "Python 3",
   "language": "python",
   "name": "python3"
  },
  "language_info": {
   "codemirror_mode": {
    "name": "ipython",
    "version": 3
   },
   "file_extension": ".py",
   "mimetype": "text/x-python",
   "name": "python",
   "nbconvert_exporter": "python",
   "pygments_lexer": "ipython3",
   "version": "3.10.13"
  },
  "papermill": {
   "default_parameters": {},
   "duration": 14263.333461,
   "end_time": "2024-11-12T03:53:09.081476",
   "environment_variables": {},
   "exception": null,
   "input_path": "__notebook__.ipynb",
   "output_path": "__notebook__.ipynb",
   "parameters": {},
   "start_time": "2024-11-11T23:55:25.748015",
   "version": "2.5.0"
  }
 },
 "nbformat": 4,
 "nbformat_minor": 5
}
