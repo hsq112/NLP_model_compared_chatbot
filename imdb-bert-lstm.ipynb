{
 "cells": [
  {
   "cell_type": "markdown",
   "id": "38b747ad",
   "metadata": {
    "papermill": {
     "duration": 0.035764,
     "end_time": "2024-11-12T09:56:48.394623",
     "exception": false,
     "start_time": "2024-11-12T09:56:48.358859",
     "status": "completed"
    },
    "tags": []
   },
   "source": [
    "## Setup"
   ]
  },
  {
   "cell_type": "code",
   "execution_count": 1,
   "id": "64925ca9",
   "metadata": {
    "execution": {
     "iopub.execute_input": "2024-11-12T09:56:48.560090Z",
     "iopub.status.busy": "2024-11-12T09:56:48.559239Z",
     "iopub.status.idle": "2024-11-12T09:57:03.302812Z",
     "shell.execute_reply": "2024-11-12T09:57:03.302130Z",
     "shell.execute_reply.started": "2021-08-10T07:25:48.850083Z"
    },
    "papermill": {
     "duration": 14.873218,
     "end_time": "2024-11-12T09:57:03.302983",
     "exception": false,
     "start_time": "2024-11-12T09:56:48.429765",
     "status": "completed"
    },
    "tags": []
   },
   "outputs": [
    {
     "name": "stdout",
     "output_type": "stream",
     "text": [
      "Collecting bert-for-tf2\r\n",
      "  Downloading bert-for-tf2-0.14.9.tar.gz (41 kB)\r\n",
      "\u001b[K     |████████████████████████████████| 41 kB 134 kB/s \r\n",
      "\u001b[?25hCollecting py-params>=0.9.6\r\n",
      "  Downloading py-params-0.10.2.tar.gz (7.4 kB)\r\n",
      "Collecting params-flow>=0.8.0\r\n",
      "  Downloading params-flow-0.8.2.tar.gz (22 kB)\r\n",
      "Requirement already satisfied: numpy in /opt/conda/lib/python3.7/site-packages (from params-flow>=0.8.0->bert-for-tf2) (1.19.5)\r\n",
      "Requirement already satisfied: tqdm in /opt/conda/lib/python3.7/site-packages (from params-flow>=0.8.0->bert-for-tf2) (4.61.1)\r\n",
      "Building wheels for collected packages: bert-for-tf2, params-flow, py-params\r\n",
      "  Building wheel for bert-for-tf2 (setup.py) ... \u001b[?25l-\b \b\\\b \bdone\r\n",
      "\u001b[?25h  Created wheel for bert-for-tf2: filename=bert_for_tf2-0.14.9-py3-none-any.whl size=30536 sha256=741a799c9420c70ebcd8536e6b126e7615663c1a9bf4dfc96bbd289c35047364\r\n",
      "  Stored in directory: /root/.cache/pip/wheels/47/b6/e5/8c76ec779f54bc5c2f1b57d2200bb9c77616da83873e8acb53\r\n",
      "  Building wheel for params-flow (setup.py) ... \u001b[?25l-\b \b\\\b \bdone\r\n",
      "\u001b[?25h  Created wheel for params-flow: filename=params_flow-0.8.2-py3-none-any.whl size=19471 sha256=44b1833f7066d6dc2458d6acc117fd485e5969e40abec3d1dbb64d82fd333096\r\n",
      "  Stored in directory: /root/.cache/pip/wheels/0e/fc/d2/a44fff33af0f233d7def6e7de413006d57c10e10ad736fe8f5\r\n",
      "  Building wheel for py-params (setup.py) ... \u001b[?25l-\b \b\\\b \bdone\r\n",
      "\u001b[?25h  Created wheel for py-params: filename=py_params-0.10.2-py3-none-any.whl size=7910 sha256=aad7d72237df5a88ee869ce67d07bcd03c8a052c48d4d4c720e758a774f3579a\r\n",
      "  Stored in directory: /root/.cache/pip/wheels/e1/11/67/33cc51bbee127cb8fb2ba549cd29109b2f22da43ddf9969716\r\n",
      "Successfully built bert-for-tf2 params-flow py-params\r\n",
      "Installing collected packages: py-params, params-flow, bert-for-tf2\r\n",
      "Successfully installed bert-for-tf2-0.14.9 params-flow-0.8.2 py-params-0.10.2\r\n",
      "\u001b[33mWARNING: Running pip as root will break packages and permissions. You should install packages reliably by using venv: https://pip.pypa.io/warnings/venv\u001b[0m\r\n"
     ]
    }
   ],
   "source": [
    "!pip install bert-for-tf2"
   ]
  },
  {
   "cell_type": "code",
   "execution_count": 2,
   "id": "002e9267",
   "metadata": {
    "execution": {
     "iopub.execute_input": "2024-11-12T09:57:03.389569Z",
     "iopub.status.busy": "2024-11-12T09:57:03.388848Z",
     "iopub.status.idle": "2024-11-12T09:57:04.125392Z",
     "shell.execute_reply": "2024-11-12T09:57:04.124720Z",
     "shell.execute_reply.started": "2021-08-10T07:26:02.059478Z"
    },
    "papermill": {
     "duration": 0.78258,
     "end_time": "2024-11-12T09:57:04.125566",
     "exception": false,
     "start_time": "2024-11-12T09:57:03.342986",
     "status": "completed"
    },
    "tags": []
   },
   "outputs": [],
   "source": [
    "import pandas as pd\n",
    "import numpy as np\n",
    "import json\n",
    "import re\n",
    "import os\n",
    "import matplotlib.pyplot as plt\n",
    "from tqdm import tqdm\n",
    "from sklearn.metrics import accuracy_score, f1_score, recall_score, precision_score, confusion_matrix, roc_auc_score"
   ]
  },
  {
   "cell_type": "code",
   "execution_count": 3,
   "id": "2c4812dc",
   "metadata": {
    "execution": {
     "iopub.execute_input": "2024-11-12T09:57:04.212065Z",
     "iopub.status.busy": "2024-11-12T09:57:04.211359Z",
     "iopub.status.idle": "2024-11-12T09:57:11.537826Z",
     "shell.execute_reply": "2024-11-12T09:57:11.538347Z",
     "shell.execute_reply.started": "2021-08-10T07:26:02.908594Z"
    },
    "papermill": {
     "duration": 7.372196,
     "end_time": "2024-11-12T09:57:11.538556",
     "exception": false,
     "start_time": "2024-11-12T09:57:04.166360",
     "status": "completed"
    },
    "tags": []
   },
   "outputs": [],
   "source": [
    "import tensorflow as tf\n",
    "import transformers\n",
    "import bert \n",
    "from bert import BertModelLayer\n",
    "from bert.loader import StockBertConfig, map_stock_config_to_params, load_stock_weights\n",
    "from bert.tokenization.bert_tokenization import FullTokenizer \n",
    "from tensorflow import keras\n",
    "from tensorflow.keras.layers import *\n",
    "from tensorflow.keras.models import Model,Sequential\n",
    "from keras.optimizers import Adam\n",
    "from keras.utils.vis_utils import plot_model\n",
    "from keras.callbacks import ModelCheckpoint"
   ]
  },
  {
   "cell_type": "markdown",
   "id": "1e754b04",
   "metadata": {
    "papermill": {
     "duration": 0.039486,
     "end_time": "2024-11-12T09:57:11.617536",
     "exception": false,
     "start_time": "2024-11-12T09:57:11.578050",
     "status": "completed"
    },
    "tags": []
   },
   "source": [
    "## Load Dataset\n",
    "Train / Validation / Test = 7 / 1 / 2"
   ]
  },
  {
   "cell_type": "code",
   "execution_count": 4,
   "id": "62d270ee",
   "metadata": {
    "execution": {
     "iopub.execute_input": "2024-11-12T09:57:11.705447Z",
     "iopub.status.busy": "2024-11-12T09:57:11.704803Z",
     "iopub.status.idle": "2024-11-12T09:57:13.162509Z",
     "shell.execute_reply": "2024-11-12T09:57:13.161959Z",
     "shell.execute_reply.started": "2021-08-10T07:26:08.598168Z"
    },
    "papermill": {
     "duration": 1.50565,
     "end_time": "2024-11-12T09:57:13.162755",
     "exception": false,
     "start_time": "2024-11-12T09:57:11.657105",
     "status": "completed"
    },
    "tags": []
   },
   "outputs": [],
   "source": [
    "df_train = pd.read_csv('../input/imdb-dataset/train.csv', usecols = ['review','sentiment'])\n",
    "df_val = pd.read_csv('../input/imdb-dataset/val.csv', usecols = ['review','sentiment'])\n",
    "df_test = pd.read_csv('../input/imdb-dataset/test.csv', usecols = ['review','sentiment'])"
   ]
  },
  {
   "cell_type": "code",
   "execution_count": 5,
   "id": "17860e8c",
   "metadata": {
    "execution": {
     "iopub.execute_input": "2024-11-12T09:57:13.258741Z",
     "iopub.status.busy": "2024-11-12T09:57:13.252990Z",
     "iopub.status.idle": "2024-11-12T09:57:13.290667Z",
     "shell.execute_reply": "2024-11-12T09:57:13.291155Z",
     "shell.execute_reply.started": "2021-08-10T07:26:10.268591Z"
    },
    "papermill": {
     "duration": 0.088499,
     "end_time": "2024-11-12T09:57:13.291321",
     "exception": false,
     "start_time": "2024-11-12T09:57:13.202822",
     "status": "completed"
    },
    "tags": []
   },
   "outputs": [
    {
     "name": "stdout",
     "output_type": "stream",
     "text": [
      "<class 'pandas.core.frame.DataFrame'>\n",
      "RangeIndex: 35000 entries, 0 to 34999\n",
      "Data columns (total 2 columns):\n",
      " #   Column     Non-Null Count  Dtype \n",
      "---  ------     --------------  ----- \n",
      " 0   review     35000 non-null  object\n",
      " 1   sentiment  35000 non-null  int64 \n",
      "dtypes: int64(1), object(1)\n",
      "memory usage: 547.0+ KB\n",
      "None\n"
     ]
    },
    {
     "data": {
      "text/html": [
       "<div>\n",
       "<style scoped>\n",
       "    .dataframe tbody tr th:only-of-type {\n",
       "        vertical-align: middle;\n",
       "    }\n",
       "\n",
       "    .dataframe tbody tr th {\n",
       "        vertical-align: top;\n",
       "    }\n",
       "\n",
       "    .dataframe thead th {\n",
       "        text-align: right;\n",
       "    }\n",
       "</style>\n",
       "<table border=\"1\" class=\"dataframe\">\n",
       "  <thead>\n",
       "    <tr style=\"text-align: right;\">\n",
       "      <th></th>\n",
       "      <th>review</th>\n",
       "      <th>sentiment</th>\n",
       "    </tr>\n",
       "  </thead>\n",
       "  <tbody>\n",
       "    <tr>\n",
       "      <th>0</th>\n",
       "      <td>Having avoided seeing the movie in the cinema,...</td>\n",
       "      <td>0</td>\n",
       "    </tr>\n",
       "    <tr>\n",
       "      <th>1</th>\n",
       "      <td>With this movie I was really hoping that the i...</td>\n",
       "      <td>0</td>\n",
       "    </tr>\n",
       "    <tr>\n",
       "      <th>2</th>\n",
       "      <td>Raymond Burr stars as an attorney caught up in...</td>\n",
       "      <td>0</td>\n",
       "    </tr>\n",
       "    <tr>\n",
       "      <th>3</th>\n",
       "      <td>A lot people get hung up on this films tag as ...</td>\n",
       "      <td>1</td>\n",
       "    </tr>\n",
       "    <tr>\n",
       "      <th>4</th>\n",
       "      <td>I was a fan of Buffy and hoped it would come t...</td>\n",
       "      <td>0</td>\n",
       "    </tr>\n",
       "    <tr>\n",
       "      <th>...</th>\n",
       "      <td>...</td>\n",
       "      <td>...</td>\n",
       "    </tr>\n",
       "    <tr>\n",
       "      <th>34995</th>\n",
       "      <td>This is one creepy underrated Gem with chillin...</td>\n",
       "      <td>1</td>\n",
       "    </tr>\n",
       "    <tr>\n",
       "      <th>34996</th>\n",
       "      <td>The final chapter in the Hanzo the Razor trilo...</td>\n",
       "      <td>1</td>\n",
       "    </tr>\n",
       "    <tr>\n",
       "      <th>34997</th>\n",
       "      <td>I just saw this movie and all I can say is, wh...</td>\n",
       "      <td>0</td>\n",
       "    </tr>\n",
       "    <tr>\n",
       "      <th>34998</th>\n",
       "      <td>Cameron Diaz is a woman who is married to a ju...</td>\n",
       "      <td>0</td>\n",
       "    </tr>\n",
       "    <tr>\n",
       "      <th>34999</th>\n",
       "      <td>Is it a good idea to use live animals for depa...</td>\n",
       "      <td>1</td>\n",
       "    </tr>\n",
       "  </tbody>\n",
       "</table>\n",
       "<p>35000 rows × 2 columns</p>\n",
       "</div>"
      ],
      "text/plain": [
       "                                                  review  sentiment\n",
       "0      Having avoided seeing the movie in the cinema,...          0\n",
       "1      With this movie I was really hoping that the i...          0\n",
       "2      Raymond Burr stars as an attorney caught up in...          0\n",
       "3      A lot people get hung up on this films tag as ...          1\n",
       "4      I was a fan of Buffy and hoped it would come t...          0\n",
       "...                                                  ...        ...\n",
       "34995  This is one creepy underrated Gem with chillin...          1\n",
       "34996  The final chapter in the Hanzo the Razor trilo...          1\n",
       "34997  I just saw this movie and all I can say is, wh...          0\n",
       "34998  Cameron Diaz is a woman who is married to a ju...          0\n",
       "34999  Is it a good idea to use live animals for depa...          1\n",
       "\n",
       "[35000 rows x 2 columns]"
      ]
     },
     "execution_count": 5,
     "metadata": {},
     "output_type": "execute_result"
    }
   ],
   "source": [
    "print(df_train.info())\n",
    "df_train"
   ]
  },
  {
   "cell_type": "code",
   "execution_count": 6,
   "id": "41ac99ba",
   "metadata": {
    "execution": {
     "iopub.execute_input": "2024-11-12T09:57:13.394204Z",
     "iopub.status.busy": "2024-11-12T09:57:13.393322Z",
     "iopub.status.idle": "2024-11-12T09:57:13.397971Z",
     "shell.execute_reply": "2024-11-12T09:57:13.398517Z",
     "shell.execute_reply.started": "2021-08-10T07:26:10.321212Z"
    },
    "papermill": {
     "duration": 0.067006,
     "end_time": "2024-11-12T09:57:13.398702",
     "exception": false,
     "start_time": "2024-11-12T09:57:13.331696",
     "status": "completed"
    },
    "tags": []
   },
   "outputs": [
    {
     "name": "stdout",
     "output_type": "stream",
     "text": [
      "<class 'pandas.core.frame.DataFrame'>\n",
      "RangeIndex: 5000 entries, 0 to 4999\n",
      "Data columns (total 2 columns):\n",
      " #   Column     Non-Null Count  Dtype \n",
      "---  ------     --------------  ----- \n",
      " 0   review     5000 non-null   object\n",
      " 1   sentiment  5000 non-null   int64 \n",
      "dtypes: int64(1), object(1)\n",
      "memory usage: 78.2+ KB\n",
      "None\n"
     ]
    },
    {
     "data": {
      "text/html": [
       "<div>\n",
       "<style scoped>\n",
       "    .dataframe tbody tr th:only-of-type {\n",
       "        vertical-align: middle;\n",
       "    }\n",
       "\n",
       "    .dataframe tbody tr th {\n",
       "        vertical-align: top;\n",
       "    }\n",
       "\n",
       "    .dataframe thead th {\n",
       "        text-align: right;\n",
       "    }\n",
       "</style>\n",
       "<table border=\"1\" class=\"dataframe\">\n",
       "  <thead>\n",
       "    <tr style=\"text-align: right;\">\n",
       "      <th></th>\n",
       "      <th>review</th>\n",
       "      <th>sentiment</th>\n",
       "    </tr>\n",
       "  </thead>\n",
       "  <tbody>\n",
       "    <tr>\n",
       "      <th>0</th>\n",
       "      <td>A genuinely odd, surreal jumble of visual idea...</td>\n",
       "      <td>0</td>\n",
       "    </tr>\n",
       "    <tr>\n",
       "      <th>1</th>\n",
       "      <td>\"The Snow Queen\" is based on the famous and ve...</td>\n",
       "      <td>0</td>\n",
       "    </tr>\n",
       "    <tr>\n",
       "      <th>2</th>\n",
       "      <td>The quintessential Georgian film of Georgi Dan...</td>\n",
       "      <td>1</td>\n",
       "    </tr>\n",
       "    <tr>\n",
       "      <th>3</th>\n",
       "      <td>I'm a huge comedy show fan. Racial humor is al...</td>\n",
       "      <td>0</td>\n",
       "    </tr>\n",
       "    <tr>\n",
       "      <th>4</th>\n",
       "      <td>Pretty good film from Preminger; labyrinthine ...</td>\n",
       "      <td>1</td>\n",
       "    </tr>\n",
       "    <tr>\n",
       "      <th>...</th>\n",
       "      <td>...</td>\n",
       "      <td>...</td>\n",
       "    </tr>\n",
       "    <tr>\n",
       "      <th>4995</th>\n",
       "      <td>On Halloween a town is terrorized by a lunatic...</td>\n",
       "      <td>0</td>\n",
       "    </tr>\n",
       "    <tr>\n",
       "      <th>4996</th>\n",
       "      <td>This has to be one of the funniest movies I've...</td>\n",
       "      <td>1</td>\n",
       "    </tr>\n",
       "    <tr>\n",
       "      <th>4997</th>\n",
       "      <td>If I had realized John Wayne was in this movie...</td>\n",
       "      <td>0</td>\n",
       "    </tr>\n",
       "    <tr>\n",
       "      <th>4998</th>\n",
       "      <td>I am right now in front of the tv, watching Ca...</td>\n",
       "      <td>1</td>\n",
       "    </tr>\n",
       "    <tr>\n",
       "      <th>4999</th>\n",
       "      <td>my friends and i saw this film about a week ag...</td>\n",
       "      <td>0</td>\n",
       "    </tr>\n",
       "  </tbody>\n",
       "</table>\n",
       "<p>5000 rows × 2 columns</p>\n",
       "</div>"
      ],
      "text/plain": [
       "                                                 review  sentiment\n",
       "0     A genuinely odd, surreal jumble of visual idea...          0\n",
       "1     \"The Snow Queen\" is based on the famous and ve...          0\n",
       "2     The quintessential Georgian film of Georgi Dan...          1\n",
       "3     I'm a huge comedy show fan. Racial humor is al...          0\n",
       "4     Pretty good film from Preminger; labyrinthine ...          1\n",
       "...                                                 ...        ...\n",
       "4995  On Halloween a town is terrorized by a lunatic...          0\n",
       "4996  This has to be one of the funniest movies I've...          1\n",
       "4997  If I had realized John Wayne was in this movie...          0\n",
       "4998  I am right now in front of the tv, watching Ca...          1\n",
       "4999  my friends and i saw this film about a week ag...          0\n",
       "\n",
       "[5000 rows x 2 columns]"
      ]
     },
     "execution_count": 6,
     "metadata": {},
     "output_type": "execute_result"
    }
   ],
   "source": [
    "print(df_val.info())\n",
    "df_val"
   ]
  },
  {
   "cell_type": "code",
   "execution_count": 7,
   "id": "4999d501",
   "metadata": {
    "execution": {
     "iopub.execute_input": "2024-11-12T09:57:13.503583Z",
     "iopub.status.busy": "2024-11-12T09:57:13.502828Z",
     "iopub.status.idle": "2024-11-12T09:57:13.507115Z",
     "shell.execute_reply": "2024-11-12T09:57:13.507624Z",
     "shell.execute_reply.started": "2021-08-10T07:26:10.35038Z"
    },
    "papermill": {
     "duration": 0.067732,
     "end_time": "2024-11-12T09:57:13.507802",
     "exception": false,
     "start_time": "2024-11-12T09:57:13.440070",
     "status": "completed"
    },
    "tags": []
   },
   "outputs": [
    {
     "name": "stdout",
     "output_type": "stream",
     "text": [
      "<class 'pandas.core.frame.DataFrame'>\n",
      "RangeIndex: 10000 entries, 0 to 9999\n",
      "Data columns (total 2 columns):\n",
      " #   Column     Non-Null Count  Dtype \n",
      "---  ------     --------------  ----- \n",
      " 0   review     10000 non-null  object\n",
      " 1   sentiment  10000 non-null  int64 \n",
      "dtypes: int64(1), object(1)\n",
      "memory usage: 156.4+ KB\n",
      "None\n"
     ]
    },
    {
     "data": {
      "text/html": [
       "<div>\n",
       "<style scoped>\n",
       "    .dataframe tbody tr th:only-of-type {\n",
       "        vertical-align: middle;\n",
       "    }\n",
       "\n",
       "    .dataframe tbody tr th {\n",
       "        vertical-align: top;\n",
       "    }\n",
       "\n",
       "    .dataframe thead th {\n",
       "        text-align: right;\n",
       "    }\n",
       "</style>\n",
       "<table border=\"1\" class=\"dataframe\">\n",
       "  <thead>\n",
       "    <tr style=\"text-align: right;\">\n",
       "      <th></th>\n",
       "      <th>review</th>\n",
       "      <th>sentiment</th>\n",
       "    </tr>\n",
       "  </thead>\n",
       "  <tbody>\n",
       "    <tr>\n",
       "      <th>0</th>\n",
       "      <td>I really liked this Summerslam due to the look...</td>\n",
       "      <td>1</td>\n",
       "    </tr>\n",
       "    <tr>\n",
       "      <th>1</th>\n",
       "      <td>Not many television shows appeal to quite as m...</td>\n",
       "      <td>1</td>\n",
       "    </tr>\n",
       "    <tr>\n",
       "      <th>2</th>\n",
       "      <td>The film quickly gets to a major chase scene w...</td>\n",
       "      <td>0</td>\n",
       "    </tr>\n",
       "    <tr>\n",
       "      <th>3</th>\n",
       "      <td>Jane Austen would definitely approve of this o...</td>\n",
       "      <td>1</td>\n",
       "    </tr>\n",
       "    <tr>\n",
       "      <th>4</th>\n",
       "      <td>Expectations were somewhat high for me when I ...</td>\n",
       "      <td>0</td>\n",
       "    </tr>\n",
       "    <tr>\n",
       "      <th>...</th>\n",
       "      <td>...</td>\n",
       "      <td>...</td>\n",
       "    </tr>\n",
       "    <tr>\n",
       "      <th>9995</th>\n",
       "      <td>Although Casper van Dien and Michael Rooker ar...</td>\n",
       "      <td>0</td>\n",
       "    </tr>\n",
       "    <tr>\n",
       "      <th>9996</th>\n",
       "      <td>I liked this movie. I wasn't really sure what ...</td>\n",
       "      <td>1</td>\n",
       "    </tr>\n",
       "    <tr>\n",
       "      <th>9997</th>\n",
       "      <td>Yes non-Singaporean's can't see what's the big...</td>\n",
       "      <td>1</td>\n",
       "    </tr>\n",
       "    <tr>\n",
       "      <th>9998</th>\n",
       "      <td>As far as films go, this is likable enough. En...</td>\n",
       "      <td>0</td>\n",
       "    </tr>\n",
       "    <tr>\n",
       "      <th>9999</th>\n",
       "      <td>I saw Anatomy years ago -- dubbed at a friends...</td>\n",
       "      <td>1</td>\n",
       "    </tr>\n",
       "  </tbody>\n",
       "</table>\n",
       "<p>10000 rows × 2 columns</p>\n",
       "</div>"
      ],
      "text/plain": [
       "                                                 review  sentiment\n",
       "0     I really liked this Summerslam due to the look...          1\n",
       "1     Not many television shows appeal to quite as m...          1\n",
       "2     The film quickly gets to a major chase scene w...          0\n",
       "3     Jane Austen would definitely approve of this o...          1\n",
       "4     Expectations were somewhat high for me when I ...          0\n",
       "...                                                 ...        ...\n",
       "9995  Although Casper van Dien and Michael Rooker ar...          0\n",
       "9996  I liked this movie. I wasn't really sure what ...          1\n",
       "9997  Yes non-Singaporean's can't see what's the big...          1\n",
       "9998  As far as films go, this is likable enough. En...          0\n",
       "9999  I saw Anatomy years ago -- dubbed at a friends...          1\n",
       "\n",
       "[10000 rows x 2 columns]"
      ]
     },
     "execution_count": 7,
     "metadata": {},
     "output_type": "execute_result"
    }
   ],
   "source": [
    "print(df_test.info())\n",
    "df_test"
   ]
  },
  {
   "cell_type": "markdown",
   "id": "0d1c5efa",
   "metadata": {
    "papermill": {
     "duration": 0.041866,
     "end_time": "2024-11-12T09:57:13.591791",
     "exception": false,
     "start_time": "2024-11-12T09:57:13.549925",
     "status": "completed"
    },
    "tags": []
   },
   "source": [
    "## Metrics"
   ]
  },
  {
   "cell_type": "code",
   "execution_count": 8,
   "id": "39805e60",
   "metadata": {
    "execution": {
     "iopub.execute_input": "2024-11-12T09:57:13.684191Z",
     "iopub.status.busy": "2024-11-12T09:57:13.683281Z",
     "iopub.status.idle": "2024-11-12T09:57:13.686300Z",
     "shell.execute_reply": "2024-11-12T09:57:13.685708Z",
     "shell.execute_reply.started": "2021-08-10T07:26:10.386142Z"
    },
    "papermill": {
     "duration": 0.052284,
     "end_time": "2024-11-12T09:57:13.686455",
     "exception": false,
     "start_time": "2024-11-12T09:57:13.634171",
     "status": "completed"
    },
    "tags": []
   },
   "outputs": [],
   "source": [
    "def get_metrics(y_test, y_pred_proba):\n",
    "    print('ACCURACY_SCORE: ', round(accuracy_score(y_test, y_pred_proba >= 0.5), 4))\n",
    "    print('F1_SCORE: ', round(f1_score(y_test, y_pred_proba >= 0.5, average = \"macro\"), 4))\n",
    "    print('ROC_AUC_SCORE: ', round(roc_auc_score(y_test, y_pred_proba), 4))\n",
    "    print('CONFUSION_MATRIX:\\n', confusion_matrix(y_test, y_pred_proba >= 0.5),'\\n')"
   ]
  },
  {
   "cell_type": "markdown",
   "id": "b63b5cbe",
   "metadata": {
    "papermill": {
     "duration": 0.041623,
     "end_time": "2024-11-12T09:57:13.770717",
     "exception": false,
     "start_time": "2024-11-12T09:57:13.729094",
     "status": "completed"
    },
    "tags": []
   },
   "source": [
    "## Data Cleaning\n",
    "Ref: https://www.kaggle.com/colearninglounge/nlp-data-preprocessing-and-cleaning"
   ]
  },
  {
   "cell_type": "code",
   "execution_count": 9,
   "id": "394ab66a",
   "metadata": {
    "execution": {
     "iopub.execute_input": "2024-11-12T09:57:13.869495Z",
     "iopub.status.busy": "2024-11-12T09:57:13.868571Z",
     "iopub.status.idle": "2024-11-12T09:57:23.135054Z",
     "shell.execute_reply": "2024-11-12T09:57:23.134320Z",
     "shell.execute_reply.started": "2021-08-10T07:26:10.397026Z"
    },
    "papermill": {
     "duration": 9.322444,
     "end_time": "2024-11-12T09:57:23.135223",
     "exception": false,
     "start_time": "2024-11-12T09:57:13.812779",
     "status": "completed"
    },
    "tags": []
   },
   "outputs": [],
   "source": [
    "#Removes Punctuations\n",
    "def remove_punctuations(data):\n",
    "    punct_tag=re.compile(r'[^\\w\\s]')\n",
    "    data=punct_tag.sub(r'',data)\n",
    "    return data\n",
    "\n",
    "#Removes HTML syntaxes\n",
    "def remove_html(data):\n",
    "    html_tag=re.compile(r'<.*?>')\n",
    "    data=html_tag.sub(r'',data)\n",
    "    return data\n",
    "\n",
    "#Removes URL data\n",
    "def remove_url(data):\n",
    "    url_clean= re.compile(r\"https://\\S+|www\\.\\S+\")\n",
    "    data=url_clean.sub(r'',data)\n",
    "    return data\n",
    "\n",
    "#Removes Emojis\n",
    "def remove_emoji(data):\n",
    "    emoji_clean= re.compile(\"[\"\n",
    "                           u\"\\U0001F600-\\U0001F64F\"  # emoticons\n",
    "                           u\"\\U0001F300-\\U0001F5FF\"  # symbols & pictographs\n",
    "                           u\"\\U0001F680-\\U0001F6FF\"  # transport & map symbols\n",
    "                           u\"\\U0001F1E0-\\U0001F1FF\"  # flags (iOS)\n",
    "                           u\"\\U00002702-\\U000027B0\"\n",
    "                           u\"\\U000024C2-\\U0001F251\"\n",
    "                           \"]+\", flags=re.UNICODE)\n",
    "    data=emoji_clean.sub(r'',data)\n",
    "    url_clean= re.compile(r\"https://\\S+|www\\.\\S+\")\n",
    "    data=url_clean.sub(r'',data)\n",
    "    return data\n",
    "\n",
    "df_train['review'] = df_train['review'].apply(lambda z: remove_punctuations(z))\n",
    "df_train['review'] = df_train['review'].apply(lambda z: remove_html(z))\n",
    "df_train['review'] = df_train['review'].apply(lambda z: remove_url(z))\n",
    "df_train['review'] = df_train['review'].apply(lambda z: remove_emoji(z))\n",
    "\n",
    "df_val['review'] = df_val['review'].apply(lambda z: remove_punctuations(z))\n",
    "df_val['review'] = df_val['review'].apply(lambda z: remove_html(z))\n",
    "df_val['review'] = df_val['review'].apply(lambda z: remove_url(z))\n",
    "df_val['review'] = df_val['review'].apply(lambda z: remove_emoji(z))\n",
    "\n",
    "df_test['review'] = df_test['review'].apply(lambda z: remove_punctuations(z))\n",
    "df_test['review'] = df_test['review'].apply(lambda z: remove_html(z))\n",
    "df_test['review'] = df_test['review'].apply(lambda z: remove_url(z))\n",
    "df_test['review'] = df_test['review'].apply(lambda z: remove_emoji(z))"
   ]
  },
  {
   "cell_type": "code",
   "execution_count": 10,
   "id": "dc8aec9c",
   "metadata": {
    "execution": {
     "iopub.execute_input": "2024-11-12T09:57:23.244980Z",
     "iopub.status.busy": "2024-11-12T09:57:23.239882Z",
     "iopub.status.idle": "2024-11-12T09:57:33.378379Z",
     "shell.execute_reply": "2024-11-12T09:57:33.377703Z",
     "shell.execute_reply.started": "2021-08-10T07:26:20.198019Z"
    },
    "papermill": {
     "duration": 10.200719,
     "end_time": "2024-11-12T09:57:33.378555",
     "exception": false,
     "start_time": "2024-11-12T09:57:23.177836",
     "status": "completed"
    },
    "tags": []
   },
   "outputs": [],
   "source": [
    "def remove_abb(data):\n",
    "    data = re.sub(r\"he's\", \"he is\", data)\n",
    "    data = re.sub(r\"there's\", \"there is\", data)\n",
    "    data = re.sub(r\"We're\", \"We are\", data)\n",
    "    data = re.sub(r\"That's\", \"That is\", data)\n",
    "    data = re.sub(r\"won't\", \"will not\", data)\n",
    "    data = re.sub(r\"they're\", \"they are\", data)\n",
    "    data = re.sub(r\"Can't\", \"Cannot\", data)\n",
    "    data = re.sub(r\"wasn't\", \"was not\", data)\n",
    "    data = re.sub(r\"don\\x89Ûªt\", \"do not\", data)\n",
    "    data= re.sub(r\"aren't\", \"are not\", data)\n",
    "    data = re.sub(r\"isn't\", \"is not\", data)\n",
    "    data = re.sub(r\"What's\", \"What is\", data)\n",
    "    data = re.sub(r\"haven't\", \"have not\", data)\n",
    "    data = re.sub(r\"hasn't\", \"has not\", data)\n",
    "    data = re.sub(r\"There's\", \"There is\", data)\n",
    "    data = re.sub(r\"He's\", \"He is\", data)\n",
    "    data = re.sub(r\"It's\", \"It is\", data)\n",
    "    data = re.sub(r\"You're\", \"You are\", data)\n",
    "    data = re.sub(r\"I'M\", \"I am\", data)\n",
    "    data = re.sub(r\"shouldn't\", \"should not\", data)\n",
    "    data = re.sub(r\"wouldn't\", \"would not\", data)\n",
    "    data = re.sub(r\"i'm\", \"I am\", data)\n",
    "    data = re.sub(r\"I\\x89Ûªm\", \"I am\", data)\n",
    "    data = re.sub(r\"I'm\", \"I am\", data)\n",
    "    data = re.sub(r\"Isn't\", \"is not\", data)\n",
    "    data = re.sub(r\"Here's\", \"Here is\", data)\n",
    "    data = re.sub(r\"you've\", \"you have\", data)\n",
    "    data = re.sub(r\"you\\x89Ûªve\", \"you have\", data)\n",
    "    data = re.sub(r\"we're\", \"we are\", data)\n",
    "    data = re.sub(r\"what's\", \"what is\", data)\n",
    "    data = re.sub(r\"couldn't\", \"could not\", data)\n",
    "    data = re.sub(r\"we've\", \"we have\", data)\n",
    "    data = re.sub(r\"it\\x89Ûªs\", \"it is\", data)\n",
    "    data = re.sub(r\"doesn\\x89Ûªt\", \"does not\", data)\n",
    "    data = re.sub(r\"It\\x89Ûªs\", \"It is\", data)\n",
    "    data = re.sub(r\"Here\\x89Ûªs\", \"Here is\", data)\n",
    "    data = re.sub(r\"who's\", \"who is\", data)\n",
    "    data = re.sub(r\"I\\x89Ûªve\", \"I have\", data)\n",
    "    data = re.sub(r\"y'all\", \"you all\", data)\n",
    "    data = re.sub(r\"can\\x89Ûªt\", \"cannot\", data)\n",
    "    data = re.sub(r\"would've\", \"would have\", data)\n",
    "    data = re.sub(r\"it'll\", \"it will\", data)\n",
    "    data = re.sub(r\"we'll\", \"we will\", data)\n",
    "    data = re.sub(r\"wouldn\\x89Ûªt\", \"would not\", data)\n",
    "    data = re.sub(r\"We've\", \"We have\", data)\n",
    "    data = re.sub(r\"he'll\", \"he will\", data)\n",
    "    data = re.sub(r\"Y'all\", \"You all\", data)\n",
    "    data = re.sub(r\"Weren't\", \"Were not\", data)\n",
    "    data = re.sub(r\"Didn't\", \"Did not\", data)\n",
    "    data = re.sub(r\"they'll\", \"they will\", data)\n",
    "    data = re.sub(r\"they'd\", \"they would\", data)\n",
    "    data = re.sub(r\"DON'T\", \"DO NOT\", data)\n",
    "    data = re.sub(r\"That\\x89Ûªs\", \"That is\", data)\n",
    "    data = re.sub(r\"they've\", \"they have\", data)\n",
    "    data = re.sub(r\"i'd\", \"I would\", data)\n",
    "    data = re.sub(r\"should've\", \"should have\", data)\n",
    "    data = re.sub(r\"You\\x89Ûªre\", \"You are\", data)\n",
    "    data = re.sub(r\"where's\", \"where is\", data)\n",
    "    data = re.sub(r\"Don\\x89Ûªt\", \"Do not\", data)\n",
    "    data = re.sub(r\"we'd\", \"we would\", data)\n",
    "    data = re.sub(r\"i'll\", \"I will\", data)\n",
    "    data = re.sub(r\"weren't\", \"were not\", data)\n",
    "    data = re.sub(r\"They're\", \"They are\", data)\n",
    "    data = re.sub(r\"Can\\x89Ûªt\", \"Cannot\", data)\n",
    "    data = re.sub(r\"you\\x89Ûªll\", \"you will\", data)\n",
    "    data = re.sub(r\"I\\x89Ûªd\", \"I would\", data)\n",
    "    data = re.sub(r\"let's\", \"let us\", data)\n",
    "    data = re.sub(r\"it's\", \"it is\", data)\n",
    "    data = re.sub(r\"can't\", \"cannot\", data)\n",
    "    data = re.sub(r\"don't\", \"do not\", data)\n",
    "    data = re.sub(r\"you're\", \"you are\", data)\n",
    "    data = re.sub(r\"i've\", \"I have\", data)\n",
    "    data = re.sub(r\"that's\", \"that is\", data)\n",
    "    data = re.sub(r\"i'll\", \"I will\", data)\n",
    "    data = re.sub(r\"doesn't\", \"does not\",data)\n",
    "    data = re.sub(r\"i'd\", \"I would\", data)\n",
    "    data = re.sub(r\"didn't\", \"did not\", data)\n",
    "    data = re.sub(r\"ain't\", \"am not\", data)\n",
    "    data = re.sub(r\"you'll\", \"you will\", data)\n",
    "    data = re.sub(r\"I've\", \"I have\", data)\n",
    "    data = re.sub(r\"Don't\", \"do not\", data)\n",
    "    data = re.sub(r\"I'll\", \"I will\", data)\n",
    "    data = re.sub(r\"I'd\", \"I would\", data)\n",
    "    data = re.sub(r\"Let's\", \"Let us\", data)\n",
    "    data = re.sub(r\"you'd\", \"You would\", data)\n",
    "    data = re.sub(r\"It's\", \"It is\", data)\n",
    "    data = re.sub(r\"Ain't\", \"am not\", data)\n",
    "    data = re.sub(r\"Haven't\", \"Have not\", data)\n",
    "    data = re.sub(r\"Could've\", \"Could have\", data)\n",
    "    data = re.sub(r\"youve\", \"you have\", data)  \n",
    "    data = re.sub(r\"donå«t\", \"do not\", data)  \n",
    "    return data\n",
    "    \n",
    "df_train['review'] = df_train['review'].apply(lambda z: remove_abb(z))\n",
    "df_val['review'] = df_val['review'].apply(lambda z: remove_abb(z))\n",
    "df_test['review'] = df_test['review'].apply(lambda z: remove_abb(z))"
   ]
  },
  {
   "cell_type": "code",
   "execution_count": 11,
   "id": "3045fd04",
   "metadata": {
    "execution": {
     "iopub.execute_input": "2024-11-12T09:57:33.478172Z",
     "iopub.status.busy": "2024-11-12T09:57:33.477273Z",
     "iopub.status.idle": "2024-11-12T09:57:33.481255Z",
     "shell.execute_reply": "2024-11-12T09:57:33.481781Z",
     "shell.execute_reply.started": "2021-08-10T07:26:29.896323Z"
    },
    "papermill": {
     "duration": 0.060596,
     "end_time": "2024-11-12T09:57:33.481967",
     "exception": false,
     "start_time": "2024-11-12T09:57:33.421371",
     "status": "completed"
    },
    "tags": []
   },
   "outputs": [
    {
     "name": "stdout",
     "output_type": "stream",
     "text": [
      "(35000, 2)\n",
      "                                              review  sentiment\n",
      "0  Having avoided seeing the movie in the cinema ...          0\n",
      "1  With this movie I was really hoping that the i...          0\n",
      "2  Raymond Burr stars as an attorney caught up in...          0\n",
      "3  A lot people get hung up on this films tag as ...          1\n",
      "4  I was a fan of Buffy and hoped it would come t...          0\n",
      "(5000, 2)\n",
      "                                              review  sentiment\n",
      "0  A genuinely odd surreal jumble of visual ideas...          0\n",
      "1  The Snow Queen is based on the famous and very...          0\n",
      "2  The quintessential Georgian film of Georgi Dan...          1\n",
      "3  Im a huge comedy show fan Racial humor is alwa...          0\n",
      "4  Pretty good film from Preminger labyrinthine a...          1\n",
      "(10000, 2)\n",
      "                                              review  sentiment\n",
      "0  I really liked this Summerslam due to the look...          1\n",
      "1  Not many television shows appeal to quite as m...          1\n",
      "2  The film quickly gets to a major chase scene w...          0\n",
      "3  Jane Austen would definitely approve of this o...          1\n",
      "4  Expectations were somewhat high for me when I ...          0\n"
     ]
    }
   ],
   "source": [
    "print(df_train.shape)\n",
    "print(df_train.head(5))\n",
    "print(df_val.shape)\n",
    "print(df_val.head(5))\n",
    "print(df_test.shape)\n",
    "print(df_test.head(5))"
   ]
  },
  {
   "cell_type": "markdown",
   "id": "975eaccd",
   "metadata": {
    "papermill": {
     "duration": 0.042681,
     "end_time": "2024-11-12T09:57:33.567802",
     "exception": false,
     "start_time": "2024-11-12T09:57:33.525121",
     "status": "completed"
    },
    "tags": []
   },
   "source": [
    "## Encoding "
   ]
  },
  {
   "cell_type": "code",
   "execution_count": 12,
   "id": "a07a099d",
   "metadata": {
    "execution": {
     "iopub.execute_input": "2024-11-12T09:57:33.670120Z",
     "iopub.status.busy": "2024-11-12T09:57:33.669076Z",
     "iopub.status.idle": "2024-11-12T09:57:33.672280Z",
     "shell.execute_reply": "2024-11-12T09:57:33.671772Z",
     "shell.execute_reply.started": "2021-08-10T07:26:29.911449Z"
    },
    "papermill": {
     "duration": 0.061703,
     "end_time": "2024-11-12T09:57:33.672420",
     "exception": false,
     "start_time": "2024-11-12T09:57:33.610717",
     "status": "completed"
    },
    "tags": []
   },
   "outputs": [],
   "source": [
    "class IntentDetectionData:\n",
    "    DATA_COLUMN,  LABEL_COLUMN  = \"review\",\"sentiment\"\n",
    "\n",
    "    def __init__(self, train, val, test, tokenizer: FullTokenizer, classes, max_seq_len):\n",
    "        self.tokenizer = tokenizer\n",
    "        self.max_seq_len = 0\n",
    "        self.classes = classes\n",
    "\n",
    "        ((self.train_x, self.train_y), (self.val_x, self.val_y), (self.test_x, self.test_y)) = map(self._prepare, [train, val, test])\n",
    "\n",
    "        self.max_seq_len = min(self.max_seq_len, max_seq_len)\n",
    "        self.train_x, self.val_x, self.test_x = map(self._pad, [self.train_x, self.val_x, self.test_x])\n",
    "\n",
    "    def _prepare(self, df):\n",
    "        x, y = [], []\n",
    "    \n",
    "        for non, row in tqdm(df.iterrows()):\n",
    "            text, label =\\\n",
    "                row[IntentDetectionData.DATA_COLUMN], row[IntentDetectionData.LABEL_COLUMN]\n",
    "\n",
    "            tokens = self.tokenizer.tokenize(text)\n",
    "            tokens = [\"[CLS]\"] + tokens + [\"[SEP]\"] ## Tokens beigning and ending specified by separation of tokens.\n",
    "\n",
    "            token_ids = self.tokenizer.convert_tokens_to_ids(tokens) ## Convert Tokens to IDs\n",
    "\n",
    "            self.max_seq_len = max(self.max_seq_len, len(token_ids))\n",
    "\n",
    "            x.append(token_ids)\n",
    "            y.append(self.classes.index(label))\n",
    "\n",
    "        return np.array(x), np.array(y)\n",
    "\n",
    "    def _pad(self, ids):\n",
    "        x = []\n",
    "        for input_ids in ids:\n",
    "            input_ids = input_ids[:min(len(input_ids), self.max_seq_len - 2)] ## -2 as ignoring tokens provided by bert\n",
    "            input_ids = input_ids + [0] * (self.max_seq_len - len(input_ids)) ## padding by zeros\n",
    "            x.append(np.array(input_ids))\n",
    "        \n",
    "        return np.array(x)"
   ]
  },
  {
   "cell_type": "markdown",
   "id": "f0b2a55b",
   "metadata": {
    "papermill": {
     "duration": 0.044602,
     "end_time": "2024-11-12T09:57:33.760875",
     "exception": false,
     "start_time": "2024-11-12T09:57:33.716273",
     "status": "completed"
    },
    "tags": []
   },
   "source": [
    "## Model"
   ]
  },
  {
   "cell_type": "markdown",
   "id": "bee510de",
   "metadata": {
    "papermill": {
     "duration": 0.042447,
     "end_time": "2024-11-12T09:57:33.849231",
     "exception": false,
     "start_time": "2024-11-12T09:57:33.806784",
     "status": "completed"
    },
    "tags": []
   },
   "source": [
    "### LSTM"
   ]
  },
  {
   "cell_type": "code",
   "execution_count": 13,
   "id": "1de634f4",
   "metadata": {
    "execution": {
     "iopub.execute_input": "2024-11-12T09:57:33.939233Z",
     "iopub.status.busy": "2024-11-12T09:57:33.938514Z",
     "iopub.status.idle": "2024-11-12T09:57:33.941540Z",
     "shell.execute_reply": "2024-11-12T09:57:33.941019Z",
     "shell.execute_reply.started": "2021-08-10T07:26:29.925578Z"
    },
    "papermill": {
     "duration": 0.049703,
     "end_time": "2024-11-12T09:57:33.941679",
     "exception": false,
     "start_time": "2024-11-12T09:57:33.891976",
     "status": "completed"
    },
    "tags": []
   },
   "outputs": [],
   "source": [
    "def LSTM_V0(bert_output):\n",
    "    #...\n",
    "    return outputs"
   ]
  },
  {
   "cell_type": "markdown",
   "id": "ead6dfcf",
   "metadata": {
    "papermill": {
     "duration": 0.042554,
     "end_time": "2024-11-12T09:57:34.027161",
     "exception": false,
     "start_time": "2024-11-12T09:57:33.984607",
     "status": "completed"
    },
    "tags": []
   },
   "source": [
    "### CNN"
   ]
  },
  {
   "cell_type": "code",
   "execution_count": 14,
   "id": "50f812d3",
   "metadata": {
    "execution": {
     "iopub.execute_input": "2024-11-12T09:57:34.122456Z",
     "iopub.status.busy": "2024-11-12T09:57:34.121730Z",
     "iopub.status.idle": "2024-11-12T09:57:34.124664Z",
     "shell.execute_reply": "2024-11-12T09:57:34.124047Z",
     "shell.execute_reply.started": "2021-08-10T07:26:29.937153Z"
    },
    "papermill": {
     "duration": 0.054494,
     "end_time": "2024-11-12T09:57:34.124804",
     "exception": false,
     "start_time": "2024-11-12T09:57:34.070310",
     "status": "completed"
    },
    "tags": []
   },
   "outputs": [],
   "source": [
    "def CNN_V0(bert_output):\n",
    "    net = Conv1D(128, 7, activation='relu',padding='same')(bert_output)\n",
    "    net = MaxPooling1D()(net)\n",
    "    net = Conv1D(256, 5, activation='relu',padding='same')(net)\n",
    "    net = MaxPooling1D()(net)\n",
    "    net = Conv1D(512, 3, activation='relu',padding='same')(net)\n",
    "    net = MaxPooling1D()(net)\n",
    "    net = Flatten()(net)\n",
    "    net = Dense(128, activation='relu')(net)\n",
    "    net = Dropout(0.5)(net)\n",
    "    outputs = Dense(1, activation='sigmoid', name='classifier')(net) \n",
    "    return outputs"
   ]
  },
  {
   "cell_type": "markdown",
   "id": "ea0a8c27",
   "metadata": {
    "papermill": {
     "duration": 0.046082,
     "end_time": "2024-11-12T09:57:34.216722",
     "exception": false,
     "start_time": "2024-11-12T09:57:34.170640",
     "status": "completed"
    },
    "tags": []
   },
   "source": [
    "### BiLSTM"
   ]
  },
  {
   "cell_type": "code",
   "execution_count": 15,
   "id": "7320eb9f",
   "metadata": {
    "execution": {
     "iopub.execute_input": "2024-11-12T09:57:34.315995Z",
     "iopub.status.busy": "2024-11-12T09:57:34.315021Z",
     "iopub.status.idle": "2024-11-12T09:57:34.317925Z",
     "shell.execute_reply": "2024-11-12T09:57:34.317265Z",
     "shell.execute_reply.started": "2021-08-10T07:26:29.946447Z"
    },
    "papermill": {
     "duration": 0.056044,
     "end_time": "2024-11-12T09:57:34.318065",
     "exception": false,
     "start_time": "2024-11-12T09:57:34.262021",
     "status": "completed"
    },
    "tags": []
   },
   "outputs": [],
   "source": [
    "def BiLSTM_V0(bert_output):\n",
    "    net = Bidirectional(LSTM(units=32, return_sequences=True,))(bert_output)\n",
    "    net = GlobalAveragePooling1D()(net)\n",
    "    net = Dense(20, activation='relu')(net)\n",
    "    net = Dropout(rate=0.5)(net)\n",
    "    outputs = Dense(1, activation='sigmoid', name='classifier')(net) \n",
    "    return outputs"
   ]
  },
  {
   "cell_type": "markdown",
   "id": "a6b96fcf",
   "metadata": {
    "papermill": {
     "duration": 0.043112,
     "end_time": "2024-11-12T09:57:34.404476",
     "exception": false,
     "start_time": "2024-11-12T09:57:34.361364",
     "status": "completed"
    },
    "tags": []
   },
   "source": [
    "### CNN + LSTM"
   ]
  },
  {
   "cell_type": "code",
   "execution_count": 16,
   "id": "71611e62",
   "metadata": {
    "execution": {
     "iopub.execute_input": "2024-11-12T09:57:34.497462Z",
     "iopub.status.busy": "2024-11-12T09:57:34.496541Z",
     "iopub.status.idle": "2024-11-12T09:57:34.498816Z",
     "shell.execute_reply": "2024-11-12T09:57:34.499303Z",
     "shell.execute_reply.started": "2021-08-10T07:26:29.957794Z"
    },
    "papermill": {
     "duration": 0.051742,
     "end_time": "2024-11-12T09:57:34.499532",
     "exception": false,
     "start_time": "2024-11-12T09:57:34.447790",
     "status": "completed"
    },
    "tags": []
   },
   "outputs": [],
   "source": [
    "def CNN_LSTM_V0(bert_output):\n",
    "    net = Dropout(0.3)(bert_output)\n",
    "    net = Conv1D(200, 5, activation='relu')(net)\n",
    "    net = MaxPooling1D(pool_size=2)(net)\n",
    "    net = LSTM(100)(net)\n",
    "    net = Dropout(0.3)(net)\n",
    "    net = Dense(16,activation='relu')(net)\n",
    "    outputs = Dense(1, activation='sigmoid', name='classifier')(net)\n",
    "    return outputs"
   ]
  },
  {
   "cell_type": "code",
   "execution_count": 17,
   "id": "bfca41b6",
   "metadata": {
    "execution": {
     "iopub.execute_input": "2024-11-12T09:57:34.597037Z",
     "iopub.status.busy": "2024-11-12T09:57:34.593880Z",
     "iopub.status.idle": "2024-11-12T09:57:34.599979Z",
     "shell.execute_reply": "2024-11-12T09:57:34.599265Z",
     "shell.execute_reply.started": "2021-08-10T07:26:29.967923Z"
    },
    "papermill": {
     "duration": 0.057828,
     "end_time": "2024-11-12T09:57:34.600127",
     "exception": false,
     "start_time": "2024-11-12T09:57:34.542299",
     "status": "completed"
    },
    "tags": []
   },
   "outputs": [],
   "source": [
    "def CNN_LSTM_V1(bert_output):\n",
    "\n",
    "    # channel 1\n",
    "    net = Conv1D(filters=128, kernel_size=3*32, activation='relu')(bert_output)\n",
    "    net = MaxPooling1D(pool_size=2)(net)\n",
    "    net = Dropout(0.5)(net)\n",
    "    net = BatchNormalization()(net)\n",
    "    a = LSTM(128)(net)\n",
    "\n",
    "    # channel 2\n",
    "    net = Conv1D(filters=128, kernel_size=5*32, activation='relu')(bert_output)\n",
    "    net = MaxPooling1D(pool_size=2)(net)\n",
    "    net = Dropout(0.5)(net)\n",
    "    net = BatchNormalization()(net)\n",
    "    b = LSTM(128)(net)\n",
    "\n",
    "    # channel 3\n",
    "    net = Conv1D(filters=128, kernel_size=7*32, activation='relu')(bert_output)\n",
    "    net = MaxPooling1D(pool_size=2)(net)\n",
    "    net = Dropout(0.5)(net)\n",
    "    net = BatchNormalization()(net)\n",
    "    c = LSTM(128)(net)\n",
    "\n",
    "    # channel 4\n",
    "    net = Conv1D(filters=128, kernel_size=9*32, activation='relu')(bert_output)\n",
    "    net = MaxPooling1D(pool_size=2)(net)\n",
    "    net = Dropout(0.5)(net)\n",
    "    net = BatchNormalization()(net)\n",
    "    d = LSTM(128)(net)\n",
    "\n",
    "    merged = concatenate([a,b,c,d])\n",
    "    dense = Dense(100, activation='relu')(merged)\n",
    "    drop = Dropout(0.2)(dense)\n",
    "    outputs = Dense(1, activation='sigmoid')(merged)\n",
    "    return outputs"
   ]
  },
  {
   "cell_type": "markdown",
   "id": "6dadf213",
   "metadata": {
    "papermill": {
     "duration": 0.042794,
     "end_time": "2024-11-12T09:57:34.686042",
     "exception": false,
     "start_time": "2024-11-12T09:57:34.643248",
     "status": "completed"
    },
    "tags": []
   },
   "source": [
    "### LSTM + CNN"
   ]
  },
  {
   "cell_type": "code",
   "execution_count": 18,
   "id": "72d9a0cb",
   "metadata": {
    "execution": {
     "iopub.execute_input": "2024-11-12T09:57:34.781052Z",
     "iopub.status.busy": "2024-11-12T09:57:34.780393Z",
     "iopub.status.idle": "2024-11-12T09:57:34.783278Z",
     "shell.execute_reply": "2024-11-12T09:57:34.782684Z",
     "shell.execute_reply.started": "2021-08-10T07:26:29.980701Z"
    },
    "papermill": {
     "duration": 0.054475,
     "end_time": "2024-11-12T09:57:34.783405",
     "exception": false,
     "start_time": "2024-11-12T09:57:34.728930",
     "status": "completed"
    },
    "tags": []
   },
   "outputs": [],
   "source": [
    "def LSTM_CNN_V0(bert_output):\n",
    "    net = Bidirectional(LSTM(128, return_sequences=True))(bert_output)\n",
    "    net = Conv1D(128, 7, activation='relu',padding='same')(net)\n",
    "    net = MaxPooling1D()(net)\n",
    "    net = Conv1D(256, 5, activation='relu',padding='same')(net)\n",
    "    net = MaxPooling1D()(net)\n",
    "    net = Conv1D(512, 3, activation='relu',padding='same')(net)\n",
    "    net = MaxPooling1D()(net)\n",
    "    net = Flatten()(net)\n",
    "    net = Dense(128, activation='relu')(net)\n",
    "    net = Dropout(0.5)(net)\n",
    "    outputs = Dense(1, activation='sigmoid', name='classifier')(net) \n",
    "    return outputs"
   ]
  },
  {
   "cell_type": "markdown",
   "id": "8206cc2a",
   "metadata": {
    "papermill": {
     "duration": 0.042808,
     "end_time": "2024-11-12T09:57:34.869321",
     "exception": false,
     "start_time": "2024-11-12T09:57:34.826513",
     "status": "completed"
    },
    "tags": []
   },
   "source": [
    "### Choose model"
   ]
  },
  {
   "cell_type": "code",
   "execution_count": 19,
   "id": "5c8793ed",
   "metadata": {
    "execution": {
     "iopub.execute_input": "2024-11-12T09:57:34.965025Z",
     "iopub.status.busy": "2024-11-12T09:57:34.964375Z",
     "iopub.status.idle": "2024-11-12T09:57:34.967259Z",
     "shell.execute_reply": "2024-11-12T09:57:34.966792Z",
     "shell.execute_reply.started": "2021-08-10T07:26:29.99847Z"
    },
    "papermill": {
     "duration": 0.054786,
     "end_time": "2024-11-12T09:57:34.967412",
     "exception": false,
     "start_time": "2024-11-12T09:57:34.912626",
     "status": "completed"
    },
    "tags": []
   },
   "outputs": [],
   "source": [
    "def create_model(model_name, model_ver, max_seq_len, bert_checkpnt_file):\n",
    "\n",
    "    with tf.io.gfile.GFile(bert_config_file, \"r\") as reader:\n",
    "        bc = StockBertConfig.from_json_string(reader.read()) ## Reading bert config\n",
    "        bert_params = map_stock_config_to_params(bc) ## Mapping parameters \n",
    "        bert_params.adapter_size = None # Adapter size helps tune Bert model faster\n",
    "        bert = BertModelLayer.from_params(bert_params, name=\"bert\")\n",
    "        \n",
    "    ## Creat dictionary\n",
    "    choose_model = {'LSTM':{},\n",
    "                    'CNN':{0: CNN_V0},\n",
    "                    'BiLSTM':{0: BiLSTM_V0},\n",
    "                    'CNN+LSTM':{0: CNN_LSTM_V0, 1: CNN_LSTM_V1},\n",
    "                    'LSTM+CNN':{0: LSTM_CNN_V0},}\n",
    "    \n",
    "    ## Specifying input\n",
    "    input_ids = keras.layers.Input(shape=(max_seq_len,), dtype='int32', name=\"input_ids\")\n",
    "    bert_output = bert(input_ids)\n",
    "        \n",
    "    outputs = choose_model[model_name][model_ver](bert_output)\n",
    "\n",
    "    model = keras.Model(input_ids, outputs)\n",
    "    model.build(input_shape=(None, max_seq_len))\n",
    "    load_stock_weights(bert, bert_checkpnt_file) ##Loading the weights from bert chckpoint file\n",
    "        \n",
    "    return model"
   ]
  },
  {
   "cell_type": "markdown",
   "id": "9571fcfd",
   "metadata": {
    "papermill": {
     "duration": 0.042873,
     "end_time": "2024-11-12T09:57:35.053997",
     "exception": false,
     "start_time": "2024-11-12T09:57:35.011124",
     "status": "completed"
    },
    "tags": []
   },
   "source": [
    "## BERT model"
   ]
  },
  {
   "cell_type": "code",
   "execution_count": 20,
   "id": "a66ab757",
   "metadata": {
    "execution": {
     "iopub.execute_input": "2024-11-12T09:57:35.155761Z",
     "iopub.status.busy": "2024-11-12T09:57:35.146913Z",
     "iopub.status.idle": "2024-11-12T09:57:51.851531Z",
     "shell.execute_reply": "2024-11-12T09:57:51.850744Z",
     "shell.execute_reply.started": "2021-08-10T07:26:30.009874Z"
    },
    "papermill": {
     "duration": 16.753808,
     "end_time": "2024-11-12T09:57:51.851691",
     "exception": false,
     "start_time": "2024-11-12T09:57:35.097883",
     "status": "completed"
    },
    "tags": []
   },
   "outputs": [
    {
     "name": "stdout",
     "output_type": "stream",
     "text": [
      "--2024-11-12 09:57:36--  https://storage.googleapis.com/bert_models/2020_02_20/uncased_L-12_H-768_A-12.zip\r\n",
      "Resolving storage.googleapis.com (storage.googleapis.com)... 74.125.143.207, 142.251.31.207, 173.194.79.207, ...\r\n",
      "Connecting to storage.googleapis.com (storage.googleapis.com)|74.125.143.207|:443... connected.\r\n",
      "HTTP request sent, awaiting response... 200 OK\r\n",
      "Length: 408102251 (389M) [application/zip]\r\n",
      "Saving to: ‘uncased_L-12_H-768_A-12.zip’\r\n",
      "\r\n",
      "uncased_L-12_H-768_ 100%[===================>] 389.20M  39.7MB/s    in 10s     \r\n",
      "\r\n",
      "2024-11-12 09:57:46 (37.8 MB/s) - ‘uncased_L-12_H-768_A-12.zip’ saved [408102251/408102251]\r\n",
      "\r\n",
      "Archive:  uncased_L-12_H-768_A-12.zip\r\n",
      "  inflating: bert_model.ckpt.data-00000-of-00001  \r\n",
      "  inflating: bert_config.json        \r\n",
      "  inflating: vocab.txt               \r\n",
      "  inflating: bert_model.ckpt.index   \r\n"
     ]
    }
   ],
   "source": [
    "# Load BERT model\n",
    "# https://github.com/google-research/bert/blob/master/README.md\n",
    "\n",
    "bert_model_name = \"uncased_L-12_H-768_A-12\"\n",
    "# uncased_L-4_H-512_A-8\n",
    "# uncased_L-12_H-768_A-12\n",
    "\n",
    "!wget  https://storage.googleapis.com/bert_models/2020_02_20/{bert_model_name}.zip\n",
    "!unzip {bert_model_name}.zip"
   ]
  },
  {
   "cell_type": "code",
   "execution_count": 21,
   "id": "cc0668f6",
   "metadata": {
    "execution": {
     "iopub.execute_input": "2024-11-12T09:57:51.978324Z",
     "iopub.status.busy": "2024-11-12T09:57:51.977614Z",
     "iopub.status.idle": "2024-11-12T09:57:51.980510Z",
     "shell.execute_reply": "2024-11-12T09:57:51.981043Z",
     "shell.execute_reply.started": "2021-08-10T07:26:36.971143Z"
    },
    "papermill": {
     "duration": 0.069528,
     "end_time": "2024-11-12T09:57:51.981211",
     "exception": false,
     "start_time": "2024-11-12T09:57:51.911683",
     "status": "completed"
    },
    "tags": []
   },
   "outputs": [
    {
     "name": "stdout",
     "output_type": "stream",
     "text": [
      "./bert_model.ckpt\n",
      "./bert_config.json\n",
      "./vocab.txt\n"
     ]
    }
   ],
   "source": [
    "bert_model_path = \"./\"\n",
    "bert_checkpnt_file = os.path.join(bert_model_path, \"bert_model.ckpt\")\n",
    "bert_config_file = os.path.join(bert_model_path, \"bert_config.json\")\n",
    "bert_vocab_file = os.path.join(bert_model_path, \"vocab.txt\")\n",
    "print(bert_checkpnt_file)\n",
    "print(bert_config_file)\n",
    "print(bert_vocab_file)"
   ]
  },
  {
   "cell_type": "markdown",
   "id": "61ed274c",
   "metadata": {
    "papermill": {
     "duration": 0.060561,
     "end_time": "2024-11-12T09:57:52.103362",
     "exception": false,
     "start_time": "2024-11-12T09:57:52.042801",
     "status": "completed"
    },
    "tags": []
   },
   "source": [
    "## Data Pretrain"
   ]
  },
  {
   "cell_type": "code",
   "execution_count": 22,
   "id": "452dc4fd",
   "metadata": {
    "execution": {
     "iopub.execute_input": "2024-11-12T09:57:52.229899Z",
     "iopub.status.busy": "2024-11-12T09:57:52.229192Z",
     "iopub.status.idle": "2024-11-12T09:57:52.375964Z",
     "shell.execute_reply": "2024-11-12T09:57:52.375460Z",
     "shell.execute_reply.started": "2021-08-10T07:26:36.980748Z"
    },
    "papermill": {
     "duration": 0.211963,
     "end_time": "2024-11-12T09:57:52.376102",
     "exception": false,
     "start_time": "2024-11-12T09:57:52.164139",
     "status": "completed"
    },
    "tags": []
   },
   "outputs": [
    {
     "name": "stdout",
     "output_type": "stream",
     "text": [
      "['people', 'say', 'nothing', 'is', 'impossible', ',', 'but', 'i', 'do', 'nothing', 'everyday']\n"
     ]
    },
    {
     "data": {
      "text/plain": [
       "[2111, 2360, 2498, 2003, 5263, 1010, 2021, 1045, 2079, 2498, 10126]"
      ]
     },
     "execution_count": 22,
     "metadata": {},
     "output_type": "execute_result"
    }
   ],
   "source": [
    "# Tokenize\n",
    "tokenizer = FullTokenizer(vocab_file=bert_vocab_file)\n",
    "tokens = tokenizer.tokenize(\"People say nothing is impossible, but I do nothing everyday\")\n",
    "print(tokens)\n",
    "tokenizer.convert_tokens_to_ids(tokens)"
   ]
  },
  {
   "cell_type": "code",
   "execution_count": 23,
   "id": "e7b9ca75",
   "metadata": {
    "execution": {
     "iopub.execute_input": "2024-11-12T09:57:52.504045Z",
     "iopub.status.busy": "2024-11-12T09:57:52.503188Z",
     "iopub.status.idle": "2024-11-12T10:03:32.839023Z",
     "shell.execute_reply": "2024-11-12T10:03:32.839601Z",
     "shell.execute_reply.started": "2021-08-10T07:26:37.105467Z"
    },
    "papermill": {
     "duration": 340.402586,
     "end_time": "2024-11-12T10:03:32.839795",
     "exception": false,
     "start_time": "2024-11-12T09:57:52.437209",
     "status": "completed"
    },
    "tags": []
   },
   "outputs": [
    {
     "name": "stderr",
     "output_type": "stream",
     "text": [
      "35000it [03:53, 150.15it/s]\n",
      "/opt/conda/lib/python3.7/site-packages/ipykernel_launcher.py:31: VisibleDeprecationWarning: Creating an ndarray from ragged nested sequences (which is a list-or-tuple of lists-or-tuples-or ndarrays with different lengths or shapes) is deprecated. If you meant to do this, you must specify 'dtype=object' when creating the ndarray\n",
      "5000it [00:33, 149.65it/s]\n",
      "10000it [01:06, 149.41it/s]\n"
     ]
    },
    {
     "name": "stdout",
     "output_type": "stream",
     "text": [
      "384\n"
     ]
    }
   ],
   "source": [
    "classes = [0, 1]\n",
    "max_seq_len = 384\n",
    "data = IntentDetectionData(df_train, df_val, df_test, tokenizer, classes, max_seq_len)\n",
    "print(data.max_seq_len)"
   ]
  },
  {
   "cell_type": "markdown",
   "id": "a35554f9",
   "metadata": {
    "papermill": {
     "duration": 1.013825,
     "end_time": "2024-11-12T10:03:34.860525",
     "exception": false,
     "start_time": "2024-11-12T10:03:33.846700",
     "status": "completed"
    },
    "tags": []
   },
   "source": [
    "## Creat model"
   ]
  },
  {
   "cell_type": "code",
   "execution_count": 24,
   "id": "282fbe63",
   "metadata": {
    "execution": {
     "iopub.execute_input": "2024-11-12T10:03:36.882134Z",
     "iopub.status.busy": "2024-11-12T10:03:36.881467Z",
     "iopub.status.idle": "2024-11-12T10:03:50.354136Z",
     "shell.execute_reply": "2024-11-12T10:03:50.354718Z",
     "shell.execute_reply.started": "2021-08-10T07:31:20.238278Z"
    },
    "papermill": {
     "duration": 14.48739,
     "end_time": "2024-11-12T10:03:50.354901",
     "exception": false,
     "start_time": "2024-11-12T10:03:35.867511",
     "status": "completed"
    },
    "tags": []
   },
   "outputs": [
    {
     "name": "stdout",
     "output_type": "stream",
     "text": [
      "Done loading 196 BERT weights from: ./bert_model.ckpt into <bert.model.BertModelLayer object at 0x79248ccfe810> (prefix:bert). Count of weights not found in the checkpoint was: [0]. Count of weights with mismatched shape: [0]\n",
      "Unused weights from checkpoint: \n",
      "\tbert/embeddings/token_type_embeddings\n",
      "\tbert/pooler/dense/bias\n",
      "\tbert/pooler/dense/kernel\n",
      "\tcls/predictions/output_bias\n",
      "\tcls/predictions/transform/LayerNorm/beta\n",
      "\tcls/predictions/transform/LayerNorm/gamma\n",
      "\tcls/predictions/transform/dense/bias\n",
      "\tcls/predictions/transform/dense/kernel\n",
      "\tcls/seq_relationship/output_bias\n",
      "\tcls/seq_relationship/output_weights\n",
      "Model: \"model\"\n",
      "_________________________________________________________________\n",
      "Layer (type)                 Output Shape              Param #   \n",
      "=================================================================\n",
      "input_ids (InputLayer)       [(None, 384)]             0         \n",
      "_________________________________________________________________\n",
      "bert (BertModelLayer)        (None, 384, 768)          108890112 \n",
      "_________________________________________________________________\n",
      "bidirectional (Bidirectional (None, 384, 256)          918528    \n",
      "_________________________________________________________________\n",
      "conv1d (Conv1D)              (None, 384, 128)          229504    \n",
      "_________________________________________________________________\n",
      "max_pooling1d (MaxPooling1D) (None, 192, 128)          0         \n",
      "_________________________________________________________________\n",
      "conv1d_1 (Conv1D)            (None, 192, 256)          164096    \n",
      "_________________________________________________________________\n",
      "max_pooling1d_1 (MaxPooling1 (None, 96, 256)           0         \n",
      "_________________________________________________________________\n",
      "conv1d_2 (Conv1D)            (None, 96, 512)           393728    \n",
      "_________________________________________________________________\n",
      "max_pooling1d_2 (MaxPooling1 (None, 48, 512)           0         \n",
      "_________________________________________________________________\n",
      "flatten (Flatten)            (None, 24576)             0         \n",
      "_________________________________________________________________\n",
      "dense (Dense)                (None, 128)               3145856   \n",
      "_________________________________________________________________\n",
      "dropout (Dropout)            (None, 128)               0         \n",
      "_________________________________________________________________\n",
      "classifier (Dense)           (None, 1)                 129       \n",
      "=================================================================\n",
      "Total params: 113,741,953\n",
      "Trainable params: 113,741,953\n",
      "Non-trainable params: 0\n",
      "_________________________________________________________________\n"
     ]
    }
   ],
   "source": [
    "model_name = \"LSTM+CNN\"\n",
    "model_ver = 0\n",
    "LR = 2e-5\n",
    "loss = tf.keras.losses.BinaryCrossentropy(from_logits=True)\n",
    "optimizer = Adam(learning_rate=LR)\n",
    "metrics = tf.metrics.BinaryAccuracy()\n",
    "\n",
    "model = create_model(model_name, model_ver, max_seq_len, bert_checkpnt_file)\n",
    "model.compile(loss=loss, optimizer=optimizer, metrics=metrics)\n",
    "model.summary()"
   ]
  },
  {
   "cell_type": "code",
   "execution_count": 25,
   "id": "8b28e73a",
   "metadata": {
    "execution": {
     "iopub.execute_input": "2024-11-12T10:03:52.469539Z",
     "iopub.status.busy": "2024-11-12T10:03:52.468562Z",
     "iopub.status.idle": "2024-11-12T10:03:53.110527Z",
     "shell.execute_reply": "2024-11-12T10:03:53.111040Z",
     "shell.execute_reply.started": "2021-08-10T07:31:32.018805Z"
    },
    "papermill": {
     "duration": 1.666579,
     "end_time": "2024-11-12T10:03:53.111205",
     "exception": false,
     "start_time": "2024-11-12T10:03:51.444626",
     "status": "completed"
    },
    "tags": []
   },
   "outputs": [
    {
     "data": {
      "image/png": "[encoded data removed]",
      "text/plain": [
       "<IPython.core.display.Image object>"
      ]
     },
     "execution_count": 25,
     "metadata": {},
     "output_type": "execute_result"
    }
   ],
   "source": [
    "# Plot architecture model\n",
    "tf.keras.utils.plot_model(model, show_shapes=True, dpi=96) #to_file='model.jpeg'"
   ]
  },
  {
   "cell_type": "markdown",
   "id": "524f4f12",
   "metadata": {
    "papermill": {
     "duration": 1.00336,
     "end_time": "2024-11-12T10:03:55.117823",
     "exception": false,
     "start_time": "2024-11-12T10:03:54.114463",
     "status": "completed"
    },
    "tags": []
   },
   "source": [
    "## Model training"
   ]
  },
  {
   "cell_type": "code",
   "execution_count": 26,
   "id": "dceb2b7c",
   "metadata": {
    "execution": {
     "iopub.execute_input": "2024-11-12T10:03:57.140935Z",
     "iopub.status.busy": "2024-11-12T10:03:57.140277Z",
     "iopub.status.idle": "2024-11-12T11:56:19.319631Z",
     "shell.execute_reply": "2024-11-12T11:56:19.319016Z",
     "shell.execute_reply.started": "2021-08-10T07:31:32.560892Z"
    },
    "papermill": {
     "duration": 6743.192978,
     "end_time": "2024-11-12T11:56:19.319778",
     "exception": false,
     "start_time": "2024-11-12T10:03:56.126800",
     "status": "completed"
    },
    "tags": []
   },
   "outputs": [
    {
     "name": "stdout",
     "output_type": "stream",
     "text": [
      "Training model with uncased_L-12_H-768_A-12_LSTM+CNN_V0_384\n",
      "\n",
      "Epoch 1/3\n",
      "2188/2188 [==============================] - 2262s 1s/step - loss: 0.4304 - binary_accuracy: 0.7709 - val_loss: 0.1848 - val_binary_accuracy: 0.9286\n",
      "\n",
      "Epoch 00001: val_binary_accuracy improved from -inf to 0.92860, saving model to [uncased_L-12_H-768_A-12]LSTM+CNN_V0_384.hdf5\n",
      "Epoch 2/3\n",
      "2188/2188 [==============================] - 2235s 1s/step - loss: 0.1553 - binary_accuracy: 0.9447 - val_loss: 0.2003 - val_binary_accuracy: 0.9276\n",
      "\n",
      "Epoch 00002: val_binary_accuracy did not improve from 0.92860\n",
      "Epoch 3/3\n",
      "2188/2188 [==============================] - 2240s 1s/step - loss: 0.0798 - binary_accuracy: 0.9751 - val_loss: 0.2283 - val_binary_accuracy: 0.9286\n",
      "\n",
      "Epoch 00003: val_binary_accuracy did not improve from 0.92860\n"
     ]
    }
   ],
   "source": [
    "# Save model\n",
    "model_ckpt_path = f\"[{bert_model_name}]{model_name}_V{model_ver}_{max_seq_len}.hdf5\"\n",
    "checkpoint = ModelCheckpoint(model_ckpt_path, monitor='val_binary_accuracy', mode='max',verbose=1, save_best_only=True, save_weights_only=True)\n",
    "callbacks_list = [checkpoint]\n",
    "\n",
    "# Training\n",
    "print(f\"Training model with {bert_model_name}_{model_name}_V{model_ver}_{max_seq_len}\\n\")\n",
    "train_history = model.fit(data.train_x, data.train_y, validation_data=(data.val_x,data.val_y), epochs=3, batch_size=16, verbose=1, callbacks=callbacks_list)"
   ]
  },
  {
   "cell_type": "code",
   "execution_count": 27,
   "id": "b4ea34fd",
   "metadata": {
    "execution": {
     "iopub.execute_input": "2024-11-12T11:56:25.696135Z",
     "iopub.status.busy": "2024-11-12T11:56:25.695085Z",
     "iopub.status.idle": "2024-11-12T11:56:26.062216Z",
     "shell.execute_reply": "2024-11-12T11:56:26.061702Z",
     "shell.execute_reply.started": "2021-08-10T09:44:14.858942Z"
    },
    "papermill": {
     "duration": 3.573329,
     "end_time": "2024-11-12T11:56:26.062348",
     "exception": false,
     "start_time": "2024-11-12T11:56:22.489019",
     "status": "completed"
    },
    "tags": []
   },
   "outputs": [
    {
     "name": "stdout",
     "output_type": "stream",
     "text": [
      "dict_keys(['loss', 'binary_accuracy', 'val_loss', 'val_binary_accuracy'])\n"
     ]
    },
    {
     "data": {
      "text/plain": [
       "<matplotlib.legend.Legend at 0x79204062ce50>"
      ]
     },
     "execution_count": 27,
     "metadata": {},
     "output_type": "execute_result"
    },
    {
     "data": {
      "image/png": "[encoded data removed]",
      "text/plain": [
       "<Figure size 720x432 with 2 Axes>"
      ]
     },
     "metadata": {
      "needs_background": "light"
     },
     "output_type": "display_data"
    }
   ],
   "source": [
    "# Plot accuracy and loss\n",
    "history_dict = train_history.history\n",
    "print(history_dict.keys())\n",
    "\n",
    "acc = history_dict['binary_accuracy']\n",
    "val_acc = history_dict['val_binary_accuracy']\n",
    "loss = history_dict['loss']\n",
    "val_loss = history_dict['val_loss']\n",
    "\n",
    "epochs = range(1, len(acc) + 1)\n",
    "fig = plt.figure(figsize=(10, 6))\n",
    "fig.tight_layout()\n",
    "\n",
    "plt.subplot(2, 1, 1)\n",
    "plt.plot(epochs, loss, 'r', label='Training loss')\n",
    "plt.plot(epochs, val_loss, 'b', label='Validation loss')\n",
    "plt.title('Training and validation loss')\n",
    "plt.ylabel('Loss')\n",
    "plt.legend()\n",
    "\n",
    "plt.subplot(2, 1, 2)\n",
    "plt.plot(epochs, acc, 'r', label='Training acc')\n",
    "plt.plot(epochs, val_acc, 'b', label='Validation acc')\n",
    "plt.title('Training and validation accuracy')\n",
    "plt.xlabel('Epochs')\n",
    "plt.ylabel('Accuracy')\n",
    "plt.legend(loc='lower right')"
   ]
  },
  {
   "cell_type": "code",
   "execution_count": 28,
   "id": "726647cc",
   "metadata": {
    "execution": {
     "iopub.execute_input": "2024-11-12T11:56:32.403750Z",
     "iopub.status.busy": "2024-11-12T11:56:32.403007Z",
     "iopub.status.idle": "2024-11-12T11:56:32.406315Z",
     "shell.execute_reply": "2024-11-12T11:56:32.405724Z",
     "shell.execute_reply.started": "2021-08-10T09:44:15.248672Z"
    },
    "papermill": {
     "duration": 3.181046,
     "end_time": "2024-11-12T11:56:32.406460",
     "exception": false,
     "start_time": "2024-11-12T11:56:29.225414",
     "status": "completed"
    },
    "tags": []
   },
   "outputs": [],
   "source": [
    "# Save architecture model\n",
    "config = model.to_json()\n",
    "model_config_path = f\"[{bert_model_name}]{model_name}_V{model_ver}_{max_seq_len}.json\"\n",
    "with open(model_config_path, \"w\") as outfile:\n",
    "    json.dump(config, outfile)"
   ]
  },
  {
   "cell_type": "markdown",
   "id": "9fe153b1",
   "metadata": {
    "papermill": {
     "duration": 3.213057,
     "end_time": "2024-11-12T11:56:38.890816",
     "exception": false,
     "start_time": "2024-11-12T11:56:35.677759",
     "status": "completed"
    },
    "tags": []
   },
   "source": [
    "## Evaluate"
   ]
  },
  {
   "cell_type": "code",
   "execution_count": 29,
   "id": "f0a8317b",
   "metadata": {
    "execution": {
     "iopub.execute_input": "2024-11-12T11:56:45.303808Z",
     "iopub.status.busy": "2024-11-12T11:56:45.263653Z",
     "iopub.status.idle": "2024-11-12T11:59:39.679846Z",
     "shell.execute_reply": "2024-11-12T11:59:39.680356Z",
     "shell.execute_reply.started": "2021-08-10T09:44:15.261436Z"
    },
    "papermill": {
     "duration": 177.621396,
     "end_time": "2024-11-12T11:59:39.680559",
     "exception": false,
     "start_time": "2024-11-12T11:56:42.059163",
     "status": "completed"
    },
    "tags": []
   },
   "outputs": [
    {
     "name": "stdout",
     "output_type": "stream",
     "text": [
      "ACCURACY_SCORE:  0.9227\n",
      "F1_SCORE:  0.9226\n",
      "ROC_AUC_SCORE:  0.9792\n",
      "CONFUSION_MATRIX:\n",
      " [[4463  498]\n",
      " [ 275 4764]] \n",
      "\n"
     ]
    }
   ],
   "source": [
    "model.load_weights(model_ckpt_path)\n",
    "y_pred_proba = model.predict(data.test_x)\n",
    "get_metrics(data.test_y, y_pred_proba)"
   ]
  }
 ],
 "metadata": {
  "kaggle": {
   "accelerator": "gpu",
   "dataSources": [
    {
     "datasetId": 134715,
     "sourceId": 320111,
     "sourceType": "datasetVersion"
    },
    {
     "datasetId": 1509786,
     "sourceId": 2493866,
     "sourceType": "datasetVersion"
    }
   ],
   "dockerImageVersionId": 30121,
   "isGpuEnabled": true,
   "isInternetEnabled": true,
   "language": "python",
   "sourceType": "notebook"
  },
  "kernelspec": {
   "display_name": "Python 3",
   "language": "python",
   "name": "python3"
  },
  "language_info": {
   "codemirror_mode": {
    "name": "ipython",
    "version": 3
   },
   "file_extension": ".py",
   "mimetype": "text/x-python",
   "name": "python",
   "nbconvert_exporter": "python",
   "pygments_lexer": "ipython3",
   "version": "3.7.10"
  },
  "papermill": {
   "default_parameters": {},
   "duration": 7385.782039,
   "end_time": "2024-11-12T11:59:46.165338",
   "environment_variables": {},
   "exception": null,
   "input_path": "__notebook__.ipynb",
   "output_path": "__notebook__.ipynb",
   "parameters": {},
   "start_time": "2024-11-12T09:56:40.383299",
   "version": "2.3.3"
  }
 },
 "nbformat": 4,
 "nbformat_minor": 5
}
